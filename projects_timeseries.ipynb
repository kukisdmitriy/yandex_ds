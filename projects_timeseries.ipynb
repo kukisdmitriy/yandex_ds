{
 "cells": [
  {
   "cell_type": "markdown",
   "metadata": {
    "toc": true
   },
   "source": [
    "<h1>Содержание<span class=\"tocSkip\"></span></h1>\n",
    "<div class=\"toc\"><ul class=\"toc-item\"><li><span><a href=\"#Подготовка\" data-toc-modified-id=\"Подготовка-1\"><span class=\"toc-item-num\">1&nbsp;&nbsp;</span>Подготовка</a></span></li><li><span><a href=\"#Анализ\" data-toc-modified-id=\"Анализ-2\"><span class=\"toc-item-num\">2&nbsp;&nbsp;</span>Анализ</a></span></li><li><span><a href=\"#Обучение\" data-toc-modified-id=\"Обучение-3\"><span class=\"toc-item-num\">3&nbsp;&nbsp;</span>Обучение</a></span><ul class=\"toc-item\"><li><span><a href=\"#Модель-линейной-регрессии\" data-toc-modified-id=\"Модель-линейной-регрессии-3.1\"><span class=\"toc-item-num\">3.1&nbsp;&nbsp;</span>Модель линейной регрессии</a></span></li><li><span><a href=\"#Модель-решающего-дерева\" data-toc-modified-id=\"Модель-решающего-дерева-3.2\"><span class=\"toc-item-num\">3.2&nbsp;&nbsp;</span>Модель решающего дерева</a></span></li><li><span><a href=\"#Модель-градиентного-бустинга\" data-toc-modified-id=\"Модель-градиентного-бустинга-3.3\"><span class=\"toc-item-num\">3.3&nbsp;&nbsp;</span>Модель градиентного бустинга</a></span></li></ul></li><li><span><a href=\"#Тестирование\" data-toc-modified-id=\"Тестирование-4\"><span class=\"toc-item-num\">4&nbsp;&nbsp;</span>Тестирование</a></span></li><li><span><a href=\"#Чек-лист-проверки\" data-toc-modified-id=\"Чек-лист-проверки-5\"><span class=\"toc-item-num\">5&nbsp;&nbsp;</span>Чек-лист проверки</a></span></li></ul></div>"
   ]
  },
  {
   "cell_type": "markdown",
   "metadata": {},
   "source": [
    "#  Прогнозирование заказов такси"
   ]
  },
  {
   "cell_type": "markdown",
   "metadata": {},
   "source": [
    "Компания «Чётенькое такси» собрала исторические данные о заказах такси в аэропортах. Чтобы привлекать больше водителей в период пиковой нагрузки, нужно спрогнозировать количество заказов такси на следующий час. Постройте модель для такого предсказания.\n",
    "\n",
    "Значение метрики *RMSE* на тестовой выборке должно быть не больше 48.\n",
    "\n",
    "Вам нужно:\n",
    "\n",
    "1. Загрузить данные и выполнить их ресемплирование по одному часу.\n",
    "2. Проанализировать данные.\n",
    "3. Обучить разные модели с различными гиперпараметрами. Сделать тестовую выборку размером 10% от исходных данных.\n",
    "4. Проверить данные на тестовой выборке и сделать выводы.\n",
    "\n",
    "\n",
    "Данные лежат в файле `taxi.csv`. Количество заказов находится в столбце `num_orders` (от англ. *number of orders*, «число заказов»)."
   ]
  },
  {
   "cell_type": "code",
   "execution_count": 23,
   "metadata": {},
   "outputs": [
    {
     "name": "stdout",
     "output_type": "stream",
     "text": [
      "Collecting package metadata (current_repodata.json): done\n",
      "Solving environment: failed with initial frozen solve. Retrying with flexible solve.\n",
      "Collecting package metadata (repodata.json): | \n",
      "Note: you may need to restart the kernel to use updated packages.\n"
     ]
    }
   ],
   "source": [
    "conda install scklearn==1.2 #после этого необходимо рестартнуть ядро (Kernel->Restart the kernel)"
   ]
  },
  {
   "cell_type": "code",
   "execution_count": 1,
   "metadata": {},
   "outputs": [],
   "source": [
    "!pip install phik -q\n",
    "!pip install imblearn -q"
   ]
  },
  {
   "cell_type": "code",
   "execution_count": 2,
   "metadata": {},
   "outputs": [],
   "source": [
    "import pandas as pd\n",
    "import matplotlib.pyplot as plt\n",
    "import numpy as np\n",
    "import seaborn as sns\n",
    "from scipy import stats as st\n",
    "\n",
    "from phik import phik_matrix\n",
    "from statsmodels.tsa.seasonal import seasonal_decompose\n",
    "from sklearn.metrics import mean_squared_error\n",
    "\n",
    "# загружаем классы для подготовки данных\n",
    "from sklearn.preprocessing import StandardScaler\n",
    "from sklearn.compose import ColumnTransformer\n",
    "\n",
    "# загружаем нужные модели\n",
    "from sklearn.linear_model import LinearRegression\n",
    "from sklearn.tree import DecisionTreeRegressor\n",
    "import lightgbm as lgb\n",
    "\n",
    "from catboost import CatBoostRegressor, Pool\n",
    "from sklearn.model_selection import cross_val_score, TimeSeriesSplit, train_test_split, RandomizedSearchCV\n",
    "\n",
    "from sklearn.preprocessing import OneHotEncoder, StandardScaler\n",
    "from sklearn.compose import ColumnTransformer\n",
    "from imblearn.pipeline import Pipeline\n",
    "from sklearn.compose import ColumnTransformer\n",
    "\n",
    "import warnings\n",
    "warnings.filterwarnings('ignore')\n",
    "\n",
    "# Constants\n",
    "MAX_LAG = 24\n",
    "ROLLING_MEAN_SIZE = 24\n",
    "RANDOM_STATE = 12345"
   ]
  },
  {
   "cell_type": "code",
   "execution_count": 3,
   "metadata": {},
   "outputs": [],
   "source": [
    "def get_var_name(var): #функция для получения имени переменной\n",
    "    globals_dict = globals()\n",
    "    return [name for name, value in globals_dict.items() if value is var][0]\n",
    "\n",
    "def describe_dataset(dataset): #функция для описания данных в датасете\n",
    "    display(dataset.head(5))\n",
    "    print(f'Общие сведения о датасете {get_var_name(dataset)}')\n",
    "    print('---------------------------------------------------------------------------')\n",
    "    display(dataset.info())\n",
    "    print(f'Пропуски в датасете {get_var_name(dataset)}')\n",
    "    print('---------------------------------------------------------------------------')\n",
    "    display(pd.DataFrame([round(dataset.isna().mean()*100), dataset.isna().sum()]).T.\n",
    "    sort_values(by=0, ascending=False).\n",
    "    rename(columns={0: 'Процент пропусков, %', 1: 'Количество пропусков'}).\n",
    "    style.format(\"{:,.2f}\").\n",
    "    background_gradient('coolwarm').\n",
    "    set_properties(**{'text-align': 'center'}))"
   ]
  },
  {
   "cell_type": "markdown",
   "metadata": {},
   "source": [
    "## Подготовка"
   ]
  },
  {
   "cell_type": "markdown",
   "metadata": {},
   "source": [
    "Загрузим данные"
   ]
  },
  {
   "cell_type": "code",
   "execution_count": 4,
   "metadata": {},
   "outputs": [],
   "source": [
    "df = pd.read_csv(\"/datasets/taxi.csv\",parse_dates =[0],index_col= 0)"
   ]
  },
  {
   "cell_type": "code",
   "execution_count": 5,
   "metadata": {},
   "outputs": [
    {
     "data": {
      "text/html": [
       "<div>\n",
       "<style scoped>\n",
       "    .dataframe tbody tr th:only-of-type {\n",
       "        vertical-align: middle;\n",
       "    }\n",
       "\n",
       "    .dataframe tbody tr th {\n",
       "        vertical-align: top;\n",
       "    }\n",
       "\n",
       "    .dataframe thead th {\n",
       "        text-align: right;\n",
       "    }\n",
       "</style>\n",
       "<table border=\"1\" class=\"dataframe\">\n",
       "  <thead>\n",
       "    <tr style=\"text-align: right;\">\n",
       "      <th></th>\n",
       "      <th>num_orders</th>\n",
       "    </tr>\n",
       "    <tr>\n",
       "      <th>datetime</th>\n",
       "      <th></th>\n",
       "    </tr>\n",
       "  </thead>\n",
       "  <tbody>\n",
       "    <tr>\n",
       "      <th>2018-03-01 00:00:00</th>\n",
       "      <td>9</td>\n",
       "    </tr>\n",
       "    <tr>\n",
       "      <th>2018-03-01 00:10:00</th>\n",
       "      <td>14</td>\n",
       "    </tr>\n",
       "    <tr>\n",
       "      <th>2018-03-01 00:20:00</th>\n",
       "      <td>28</td>\n",
       "    </tr>\n",
       "    <tr>\n",
       "      <th>2018-03-01 00:30:00</th>\n",
       "      <td>20</td>\n",
       "    </tr>\n",
       "    <tr>\n",
       "      <th>2018-03-01 00:40:00</th>\n",
       "      <td>32</td>\n",
       "    </tr>\n",
       "  </tbody>\n",
       "</table>\n",
       "</div>"
      ],
      "text/plain": [
       "                     num_orders\n",
       "datetime                       \n",
       "2018-03-01 00:00:00           9\n",
       "2018-03-01 00:10:00          14\n",
       "2018-03-01 00:20:00          28\n",
       "2018-03-01 00:30:00          20\n",
       "2018-03-01 00:40:00          32"
      ]
     },
     "metadata": {},
     "output_type": "display_data"
    },
    {
     "name": "stdout",
     "output_type": "stream",
     "text": [
      "Общие сведения о датасете df\n",
      "---------------------------------------------------------------------------\n",
      "<class 'pandas.core.frame.DataFrame'>\n",
      "DatetimeIndex: 26496 entries, 2018-03-01 00:00:00 to 2018-08-31 23:50:00\n",
      "Data columns (total 1 columns):\n",
      " #   Column      Non-Null Count  Dtype\n",
      "---  ------      --------------  -----\n",
      " 0   num_orders  26496 non-null  int64\n",
      "dtypes: int64(1)\n",
      "memory usage: 414.0 KB\n"
     ]
    },
    {
     "data": {
      "text/plain": [
       "None"
      ]
     },
     "metadata": {},
     "output_type": "display_data"
    },
    {
     "name": "stdout",
     "output_type": "stream",
     "text": [
      "Пропуски в датасете df\n",
      "---------------------------------------------------------------------------\n"
     ]
    },
    {
     "data": {
      "text/html": [
       "<style  type=\"text/css\" >\n",
       "#T_80a9a_row0_col0,#T_80a9a_row0_col1{\n",
       "            background-color:  #3b4cc0;\n",
       "            color:  #f1f1f1;\n",
       "            text-align:  center;\n",
       "        }</style><table id=\"T_80a9a_\" ><thead>    <tr>        <th class=\"blank level0\" ></th>        <th class=\"col_heading level0 col0\" >Процент пропусков, %</th>        <th class=\"col_heading level0 col1\" >Количество пропусков</th>    </tr></thead><tbody>\n",
       "                <tr>\n",
       "                        <th id=\"T_80a9a_level0_row0\" class=\"row_heading level0 row0\" >num_orders</th>\n",
       "                        <td id=\"T_80a9a_row0_col0\" class=\"data row0 col0\" >0.00</td>\n",
       "                        <td id=\"T_80a9a_row0_col1\" class=\"data row0 col1\" >0.00</td>\n",
       "            </tr>\n",
       "    </tbody></table>"
      ],
      "text/plain": [
       "<pandas.io.formats.style.Styler at 0x7fe43a884520>"
      ]
     },
     "metadata": {},
     "output_type": "display_data"
    }
   ],
   "source": [
    "describe_dataset(df)"
   ]
  },
  {
   "cell_type": "markdown",
   "metadata": {},
   "source": [
    "Видим, что данные не содержат пропусков. Записи сделаны для интервала 10 минут. Всего записей 26 496. \n",
    "Сгруппируем данные с интервалом в час, но предварительно проверим, что данные отсортированы в хронологическом порядке"
   ]
  },
  {
   "cell_type": "code",
   "execution_count": 6,
   "metadata": {},
   "outputs": [
    {
     "data": {
      "text/plain": [
       "True"
      ]
     },
     "execution_count": 6,
     "metadata": {},
     "output_type": "execute_result"
    }
   ],
   "source": [
    "df.index.is_monotonic"
   ]
  },
  {
   "cell_type": "markdown",
   "metadata": {},
   "source": [
    "Данные отсортированы, можем приступать к ресэмплированию"
   ]
  },
  {
   "cell_type": "code",
   "execution_count": 7,
   "metadata": {},
   "outputs": [
    {
     "data": {
      "text/html": [
       "<div>\n",
       "<style scoped>\n",
       "    .dataframe tbody tr th:only-of-type {\n",
       "        vertical-align: middle;\n",
       "    }\n",
       "\n",
       "    .dataframe tbody tr th {\n",
       "        vertical-align: top;\n",
       "    }\n",
       "\n",
       "    .dataframe thead th {\n",
       "        text-align: right;\n",
       "    }\n",
       "</style>\n",
       "<table border=\"1\" class=\"dataframe\">\n",
       "  <thead>\n",
       "    <tr style=\"text-align: right;\">\n",
       "      <th></th>\n",
       "      <th>num_orders</th>\n",
       "    </tr>\n",
       "    <tr>\n",
       "      <th>datetime</th>\n",
       "      <th></th>\n",
       "    </tr>\n",
       "  </thead>\n",
       "  <tbody>\n",
       "    <tr>\n",
       "      <th>2018-03-01 00:00:00</th>\n",
       "      <td>124</td>\n",
       "    </tr>\n",
       "    <tr>\n",
       "      <th>2018-03-01 01:00:00</th>\n",
       "      <td>85</td>\n",
       "    </tr>\n",
       "    <tr>\n",
       "      <th>2018-03-01 02:00:00</th>\n",
       "      <td>71</td>\n",
       "    </tr>\n",
       "    <tr>\n",
       "      <th>2018-03-01 03:00:00</th>\n",
       "      <td>66</td>\n",
       "    </tr>\n",
       "    <tr>\n",
       "      <th>2018-03-01 04:00:00</th>\n",
       "      <td>43</td>\n",
       "    </tr>\n",
       "    <tr>\n",
       "      <th>...</th>\n",
       "      <td>...</td>\n",
       "    </tr>\n",
       "    <tr>\n",
       "      <th>2018-08-31 19:00:00</th>\n",
       "      <td>136</td>\n",
       "    </tr>\n",
       "    <tr>\n",
       "      <th>2018-08-31 20:00:00</th>\n",
       "      <td>154</td>\n",
       "    </tr>\n",
       "    <tr>\n",
       "      <th>2018-08-31 21:00:00</th>\n",
       "      <td>159</td>\n",
       "    </tr>\n",
       "    <tr>\n",
       "      <th>2018-08-31 22:00:00</th>\n",
       "      <td>223</td>\n",
       "    </tr>\n",
       "    <tr>\n",
       "      <th>2018-08-31 23:00:00</th>\n",
       "      <td>205</td>\n",
       "    </tr>\n",
       "  </tbody>\n",
       "</table>\n",
       "<p>4416 rows × 1 columns</p>\n",
       "</div>"
      ],
      "text/plain": [
       "                     num_orders\n",
       "datetime                       \n",
       "2018-03-01 00:00:00         124\n",
       "2018-03-01 01:00:00          85\n",
       "2018-03-01 02:00:00          71\n",
       "2018-03-01 03:00:00          66\n",
       "2018-03-01 04:00:00          43\n",
       "...                         ...\n",
       "2018-08-31 19:00:00         136\n",
       "2018-08-31 20:00:00         154\n",
       "2018-08-31 21:00:00         159\n",
       "2018-08-31 22:00:00         223\n",
       "2018-08-31 23:00:00         205\n",
       "\n",
       "[4416 rows x 1 columns]"
      ]
     },
     "execution_count": 7,
     "metadata": {},
     "output_type": "execute_result"
    }
   ],
   "source": [
    "df = df.resample(\"1H\").sum()\n",
    "df"
   ]
  },
  {
   "cell_type": "markdown",
   "metadata": {},
   "source": [
    "Данные представлены за период с 1 марта 2018 по 31 августа 2018 года"
   ]
  },
  {
   "cell_type": "markdown",
   "metadata": {},
   "source": [
    "**Вывод:** была произведена подготовка данных.\n",
    "В датасете при выгрузке в качестве индекса была установлена дата, предоставленные данные отсортированы в хронологическом порядке\n",
    "Данные предоставлены за период с 1 марта 2018 года по 31 августа 2018 года с интервалом 10 минут. Было выполнено ресэмплирование с интервалом в 1 час."
   ]
  },
  {
   "cell_type": "markdown",
   "metadata": {},
   "source": [
    "## Анализ"
   ]
  },
  {
   "cell_type": "markdown",
   "metadata": {},
   "source": [
    "Рассмотрим данные "
   ]
  },
  {
   "cell_type": "code",
   "execution_count": 8,
   "metadata": {},
   "outputs": [
    {
     "data": {
      "image/png": "[encoded data removed]",
      "text/plain": [
       "<Figure size 1080x720 with 1 Axes>"
      ]
     },
     "metadata": {
      "needs_background": "light"
     },
     "output_type": "display_data"
    }
   ],
   "source": [
    "df.plot(figsize = (15,10), ylabel='Число заказов', xlabel='Дата', title='Число заказаов с интервалом в 10 минут');"
   ]
  },
  {
   "cell_type": "markdown",
   "metadata": {},
   "source": [
    "Исследуем ряд на стационарность"
   ]
  },
  {
   "cell_type": "code",
   "execution_count": 9,
   "metadata": {},
   "outputs": [
    {
     "data": {
      "text/plain": [
       "Text(0.5, 1.0, 'Скользящее среднее и скользящее отклонение числа заказов')"
      ]
     },
     "execution_count": 9,
     "metadata": {},
     "output_type": "execute_result"
    },
    {
     "data": {
      "image/png": "[encoded data removed]",
      "text/plain": [
       "<Figure size 1080x720 with 1 Axes>"
      ]
     },
     "metadata": {
      "needs_background": "light"
     },
     "output_type": "display_data"
    }
   ],
   "source": [
    "df['num_orders'].rolling(7).mean().plot(figsize = (15,10), ylabel='Число заказов', xlabel='Дата', label='mean');\n",
    "df['num_orders'].rolling(7).std().plot(figsize = (15,10), ylabel='Число заказов', xlabel='Дата', label='std');\n",
    "plt.title('Скользящее среднее и скользящее отклонение числа заказов')"
   ]
  },
  {
   "cell_type": "markdown",
   "metadata": {},
   "source": [
    "Видим, что ряд явно не станционарный, так как его скользящее среднее и скользящее отклонение изменяются. Поэтому исследуем разность временного ряда с его смещением"
   ]
  },
  {
   "cell_type": "code",
   "execution_count": 10,
   "metadata": {},
   "outputs": [
    {
     "data": {
      "image/png": "[encoded data removed]",
      "text/plain": [
       "<Figure size 1080x720 with 1 Axes>"
      ]
     },
     "metadata": {
      "needs_background": "light"
     },
     "output_type": "display_data"
    }
   ],
   "source": [
    "(df - df.shift())['num_orders'].rolling(7).mean().plot(figsize = (15,10), ylabel='Число заказов', xlabel='Дата', label='mean');\n",
    "(df - df.shift())['num_orders'].rolling(7).std().plot(figsize = (15,10), ylabel='Число заказов', xlabel='Дата', label='std');\n",
    "plt.title('Скользящее среднее и скользящее отклонение для разности датасета и его смещения')\n",
    "plt.legend();"
   ]
  },
  {
   "cell_type": "markdown",
   "metadata": {},
   "source": [
    "Такой датасет более стационарный, поэтому для исследования необходимо будет создать признак со смещением датасета"
   ]
  },
  {
   "cell_type": "markdown",
   "metadata": {},
   "source": [
    "Исследуем данные на сезонность и тренд"
   ]
  },
  {
   "cell_type": "code",
   "execution_count": 11,
   "metadata": {},
   "outputs": [
    {
     "data": {
      "image/png": "[encoded data removed]",
      "text/plain": [
       "<Figure size 1080x720 with 3 Axes>"
      ]
     },
     "metadata": {
      "needs_background": "light"
     },
     "output_type": "display_data"
    }
   ],
   "source": [
    "decomposed = seasonal_decompose(df[\"num_orders\"])\n",
    "fig,ax = plt.subplots(3,1,figsize = (15,10));\n",
    "\n",
    "decomposed.trend.plot(ax=ax[0],title = 'Trend', ylabel='Число заказов', xlabel='Дата');\n",
    "decomposed.seasonal.plot(ax=ax[1],title = 'Seasonality', ylabel='Число заказов', xlabel='Дата');\n",
    "decomposed.resid.plot(ax=ax[2],title = 'Residuals', ylabel='Число заказов', xlabel='Дата');"
   ]
  },
  {
   "cell_type": "markdown",
   "metadata": {},
   "source": [
    "Видим, что тренд на увеличение числа заказов. Возможно, это связано с наступлением летнего периода или с расширением бизнеса. Рассмотрим подробнее сезонность"
   ]
  },
  {
   "cell_type": "code",
   "execution_count": 12,
   "metadata": {},
   "outputs": [
    {
     "data": {
      "image/png": "[encoded data removed]",
      "text/plain": [
       "<Figure size 1080x720 with 1 Axes>"
      ]
     },
     "metadata": {
      "needs_background": "light"
     },
     "output_type": "display_data"
    }
   ],
   "source": [
    "decomposed_short = seasonal_decompose(df[\"2018-03-05\":\"2018-03-06\"][\"num_orders\"])\n",
    "decomposed_short.seasonal.plot(title = 'Seasonality', figsize = (15,10));"
   ]
  },
  {
   "cell_type": "markdown",
   "metadata": {},
   "source": [
    "Сезонность повторяется каждые сутки, т.е. ежедневно мы видим два пика - около 12:00 и около 18:00. К 6:00 наблюдается провал активности"
   ]
  },
  {
   "cell_type": "markdown",
   "metadata": {},
   "source": [
    "**Вывод:**\n",
    "Видим, тренд на увеличение числа заказов. Возможно, это связано с наступлением летнего периода или с расширением бизнеса. Период сезонности - сутки: ежедневно мы видим два пика - около 12:00 и около 18:00. К 6:00 наблюдается провал активности"
   ]
  },
  {
   "cell_type": "markdown",
   "metadata": {},
   "source": [
    "## Обучение"
   ]
  },
  {
   "cell_type": "markdown",
   "metadata": {},
   "source": [
    "Добавим новые признаки для обучения"
   ]
  },
  {
   "cell_type": "code",
   "execution_count": 13,
   "metadata": {},
   "outputs": [],
   "source": [
    "def make_features(data, max_lag, rolling_mean_size):\n",
    "    data['day'] = data.index.day\n",
    "    data['dayofweek'] = data.index.dayofweek\n",
    "    data['hour'] = data.index.hour\n",
    "\n",
    "    \n",
    "    for lag in range(1, max_lag + 1):\n",
    "        data['lag_{}'.format(lag)] = data['num_orders'].shift(lag)\n",
    "\n",
    "    data['rolling_mean'] = data['num_orders'].shift().rolling(rolling_mean_size).mean()"
   ]
  },
  {
   "cell_type": "code",
   "execution_count": 14,
   "metadata": {},
   "outputs": [],
   "source": [
    "make_features(df, MAX_LAG, ROLLING_MEAN_SIZE)\n",
    "df.dropna(inplace=True)"
   ]
  },
  {
   "cell_type": "code",
   "execution_count": 15,
   "metadata": {},
   "outputs": [
    {
     "data": {
      "text/html": [
       "<div>\n",
       "<style scoped>\n",
       "    .dataframe tbody tr th:only-of-type {\n",
       "        vertical-align: middle;\n",
       "    }\n",
       "\n",
       "    .dataframe tbody tr th {\n",
       "        vertical-align: top;\n",
       "    }\n",
       "\n",
       "    .dataframe thead th {\n",
       "        text-align: right;\n",
       "    }\n",
       "</style>\n",
       "<table border=\"1\" class=\"dataframe\">\n",
       "  <thead>\n",
       "    <tr style=\"text-align: right;\">\n",
       "      <th></th>\n",
       "      <th>num_orders</th>\n",
       "      <th>day</th>\n",
       "      <th>dayofweek</th>\n",
       "      <th>hour</th>\n",
       "      <th>lag_1</th>\n",
       "      <th>lag_2</th>\n",
       "      <th>lag_3</th>\n",
       "      <th>lag_4</th>\n",
       "      <th>lag_5</th>\n",
       "      <th>lag_6</th>\n",
       "      <th>...</th>\n",
       "      <th>lag_16</th>\n",
       "      <th>lag_17</th>\n",
       "      <th>lag_18</th>\n",
       "      <th>lag_19</th>\n",
       "      <th>lag_20</th>\n",
       "      <th>lag_21</th>\n",
       "      <th>lag_22</th>\n",
       "      <th>lag_23</th>\n",
       "      <th>lag_24</th>\n",
       "      <th>rolling_mean</th>\n",
       "    </tr>\n",
       "    <tr>\n",
       "      <th>datetime</th>\n",
       "      <th></th>\n",
       "      <th></th>\n",
       "      <th></th>\n",
       "      <th></th>\n",
       "      <th></th>\n",
       "      <th></th>\n",
       "      <th></th>\n",
       "      <th></th>\n",
       "      <th></th>\n",
       "      <th></th>\n",
       "      <th></th>\n",
       "      <th></th>\n",
       "      <th></th>\n",
       "      <th></th>\n",
       "      <th></th>\n",
       "      <th></th>\n",
       "      <th></th>\n",
       "      <th></th>\n",
       "      <th></th>\n",
       "      <th></th>\n",
       "      <th></th>\n",
       "    </tr>\n",
       "  </thead>\n",
       "  <tbody>\n",
       "    <tr>\n",
       "      <th>2018-03-02 00:00:00</th>\n",
       "      <td>90</td>\n",
       "      <td>2</td>\n",
       "      <td>4</td>\n",
       "      <td>0</td>\n",
       "      <td>58.0</td>\n",
       "      <td>113.0</td>\n",
       "      <td>66.0</td>\n",
       "      <td>61.0</td>\n",
       "      <td>45.0</td>\n",
       "      <td>73.0</td>\n",
       "      <td>...</td>\n",
       "      <td>34.0</td>\n",
       "      <td>15.0</td>\n",
       "      <td>12.0</td>\n",
       "      <td>6.0</td>\n",
       "      <td>43.0</td>\n",
       "      <td>66.0</td>\n",
       "      <td>71.0</td>\n",
       "      <td>85.0</td>\n",
       "      <td>124.0</td>\n",
       "      <td>56.833333</td>\n",
       "    </tr>\n",
       "    <tr>\n",
       "      <th>2018-03-02 01:00:00</th>\n",
       "      <td>120</td>\n",
       "      <td>2</td>\n",
       "      <td>4</td>\n",
       "      <td>1</td>\n",
       "      <td>90.0</td>\n",
       "      <td>58.0</td>\n",
       "      <td>113.0</td>\n",
       "      <td>66.0</td>\n",
       "      <td>61.0</td>\n",
       "      <td>45.0</td>\n",
       "      <td>...</td>\n",
       "      <td>69.0</td>\n",
       "      <td>34.0</td>\n",
       "      <td>15.0</td>\n",
       "      <td>12.0</td>\n",
       "      <td>6.0</td>\n",
       "      <td>43.0</td>\n",
       "      <td>66.0</td>\n",
       "      <td>71.0</td>\n",
       "      <td>85.0</td>\n",
       "      <td>55.416667</td>\n",
       "    </tr>\n",
       "    <tr>\n",
       "      <th>2018-03-02 02:00:00</th>\n",
       "      <td>75</td>\n",
       "      <td>2</td>\n",
       "      <td>4</td>\n",
       "      <td>2</td>\n",
       "      <td>120.0</td>\n",
       "      <td>90.0</td>\n",
       "      <td>58.0</td>\n",
       "      <td>113.0</td>\n",
       "      <td>66.0</td>\n",
       "      <td>61.0</td>\n",
       "      <td>...</td>\n",
       "      <td>64.0</td>\n",
       "      <td>69.0</td>\n",
       "      <td>34.0</td>\n",
       "      <td>15.0</td>\n",
       "      <td>12.0</td>\n",
       "      <td>6.0</td>\n",
       "      <td>43.0</td>\n",
       "      <td>66.0</td>\n",
       "      <td>71.0</td>\n",
       "      <td>56.875000</td>\n",
       "    </tr>\n",
       "    <tr>\n",
       "      <th>2018-03-02 03:00:00</th>\n",
       "      <td>64</td>\n",
       "      <td>2</td>\n",
       "      <td>4</td>\n",
       "      <td>3</td>\n",
       "      <td>75.0</td>\n",
       "      <td>120.0</td>\n",
       "      <td>90.0</td>\n",
       "      <td>58.0</td>\n",
       "      <td>113.0</td>\n",
       "      <td>66.0</td>\n",
       "      <td>...</td>\n",
       "      <td>96.0</td>\n",
       "      <td>64.0</td>\n",
       "      <td>69.0</td>\n",
       "      <td>34.0</td>\n",
       "      <td>15.0</td>\n",
       "      <td>12.0</td>\n",
       "      <td>6.0</td>\n",
       "      <td>43.0</td>\n",
       "      <td>66.0</td>\n",
       "      <td>57.041667</td>\n",
       "    </tr>\n",
       "    <tr>\n",
       "      <th>2018-03-02 04:00:00</th>\n",
       "      <td>20</td>\n",
       "      <td>2</td>\n",
       "      <td>4</td>\n",
       "      <td>4</td>\n",
       "      <td>64.0</td>\n",
       "      <td>75.0</td>\n",
       "      <td>120.0</td>\n",
       "      <td>90.0</td>\n",
       "      <td>58.0</td>\n",
       "      <td>113.0</td>\n",
       "      <td>...</td>\n",
       "      <td>30.0</td>\n",
       "      <td>96.0</td>\n",
       "      <td>64.0</td>\n",
       "      <td>69.0</td>\n",
       "      <td>34.0</td>\n",
       "      <td>15.0</td>\n",
       "      <td>12.0</td>\n",
       "      <td>6.0</td>\n",
       "      <td>43.0</td>\n",
       "      <td>56.958333</td>\n",
       "    </tr>\n",
       "  </tbody>\n",
       "</table>\n",
       "<p>5 rows × 29 columns</p>\n",
       "</div>"
      ],
      "text/plain": [
       "                     num_orders  day  dayofweek  hour  lag_1  lag_2  lag_3  \\\n",
       "datetime                                                                     \n",
       "2018-03-02 00:00:00          90    2          4     0   58.0  113.0   66.0   \n",
       "2018-03-02 01:00:00         120    2          4     1   90.0   58.0  113.0   \n",
       "2018-03-02 02:00:00          75    2          4     2  120.0   90.0   58.0   \n",
       "2018-03-02 03:00:00          64    2          4     3   75.0  120.0   90.0   \n",
       "2018-03-02 04:00:00          20    2          4     4   64.0   75.0  120.0   \n",
       "\n",
       "                     lag_4  lag_5  lag_6  ...  lag_16  lag_17  lag_18  lag_19  \\\n",
       "datetime                                  ...                                   \n",
       "2018-03-02 00:00:00   61.0   45.0   73.0  ...    34.0    15.0    12.0     6.0   \n",
       "2018-03-02 01:00:00   66.0   61.0   45.0  ...    69.0    34.0    15.0    12.0   \n",
       "2018-03-02 02:00:00  113.0   66.0   61.0  ...    64.0    69.0    34.0    15.0   \n",
       "2018-03-02 03:00:00   58.0  113.0   66.0  ...    96.0    64.0    69.0    34.0   \n",
       "2018-03-02 04:00:00   90.0   58.0  113.0  ...    30.0    96.0    64.0    69.0   \n",
       "\n",
       "                     lag_20  lag_21  lag_22  lag_23  lag_24  rolling_mean  \n",
       "datetime                                                                   \n",
       "2018-03-02 00:00:00    43.0    66.0    71.0    85.0   124.0     56.833333  \n",
       "2018-03-02 01:00:00     6.0    43.0    66.0    71.0    85.0     55.416667  \n",
       "2018-03-02 02:00:00    12.0     6.0    43.0    66.0    71.0     56.875000  \n",
       "2018-03-02 03:00:00    15.0    12.0     6.0    43.0    66.0     57.041667  \n",
       "2018-03-02 04:00:00    34.0    15.0    12.0     6.0    43.0     56.958333  \n",
       "\n",
       "[5 rows x 29 columns]"
      ]
     },
     "metadata": {},
     "output_type": "display_data"
    }
   ],
   "source": [
    "display(df.head())"
   ]
  },
  {
   "cell_type": "markdown",
   "metadata": {},
   "source": [
    "Разобьём датасет на обучающую и тестовую выборки"
   ]
  },
  {
   "cell_type": "code",
   "execution_count": 16,
   "metadata": {},
   "outputs": [],
   "source": [
    "train, test = train_test_split(df, shuffle=False, random_state=RANDOM_STATE, test_size=0.1)"
   ]
  },
  {
   "cell_type": "code",
   "execution_count": 17,
   "metadata": {},
   "outputs": [],
   "source": [
    "X_train = train.drop('num_orders', axis=1)\n",
    "y_train = train['num_orders']\n",
    "X_test = test.drop('num_orders', axis=1)\n",
    "y_test = test['num_orders']\n"
   ]
  },
  {
   "cell_type": "code",
   "execution_count": 18,
   "metadata": {},
   "outputs": [
    {
     "data": {
      "text/plain": [
       "Index(['day', 'dayofweek', 'hour', 'lag_1', 'lag_2', 'lag_3', 'lag_4', 'lag_5',\n",
       "       'lag_6', 'lag_7', 'lag_8', 'lag_9', 'lag_10', 'lag_11', 'lag_12',\n",
       "       'lag_13', 'lag_14', 'lag_15', 'lag_16', 'lag_17', 'lag_18', 'lag_19',\n",
       "       'lag_20', 'lag_21', 'lag_22', 'lag_23', 'lag_24', 'rolling_mean'],\n",
       "      dtype='object')"
      ]
     },
     "execution_count": 18,
     "metadata": {},
     "output_type": "execute_result"
    }
   ],
   "source": [
    "X_train.columns"
   ]
  },
  {
   "cell_type": "markdown",
   "metadata": {},
   "source": [
    "Построим пайплайны для предобработки данных и обучения"
   ]
  },
  {
   "cell_type": "code",
   "execution_count": 19,
   "metadata": {},
   "outputs": [],
   "source": [
    "ohe_columns = [\n",
    "    'day', \n",
    "    'dayofweek',\n",
    "    'hour'\n",
    "]\n",
    "num_columns = ['lag_1', 'lag_2', 'lag_3', 'lag_4', 'lag_5', 'lag_6', 'lag_7', 'lag_8', 'lag_9', 'lag_10',\n",
    "              'lag_21', 'lag_22', 'lag_23', 'lag_24'] "
   ]
  },
  {
   "cell_type": "code",
   "execution_count": 20,
   "metadata": {},
   "outputs": [],
   "source": [
    "ohe_pipe = Pipeline(\n",
    "    [('ohe', OneHotEncoder(drop='first', handle_unknown='ignore', sparse_output=False))]\n",
    "    )"
   ]
  },
  {
   "cell_type": "code",
   "execution_count": 21,
   "metadata": {},
   "outputs": [],
   "source": [
    "data_preprocessor = ColumnTransformer(\n",
    "    [('ohe', ohe_pipe, ohe_columns),\n",
    "     ('num', StandardScaler(), num_columns)\n",
    "    ], \n",
    "    remainder='passthrough'\n",
    ")"
   ]
  },
  {
   "cell_type": "code",
   "execution_count": 22,
   "metadata": {},
   "outputs": [],
   "source": [
    "pipe_final_DTR = Pipeline([\n",
    "    ('preprocessor', data_preprocessor),\n",
    "    ('models', DecisionTreeRegressor(random_state=RANDOM_STATE))\n",
    "])"
   ]
  },
  {
   "cell_type": "code",
   "execution_count": 23,
   "metadata": {},
   "outputs": [],
   "source": [
    "pipe_final_LR = Pipeline([\n",
    "    ('preprocessor', data_preprocessor),\n",
    "    ('models', LinearRegression())\n",
    "])"
   ]
  },
  {
   "cell_type": "code",
   "execution_count": 24,
   "metadata": {},
   "outputs": [],
   "source": [
    "pipe_final_gbm = Pipeline([\n",
    "    ('preprocessor', data_preprocessor),\n",
    "    ('models', lgb.LGBMRegressor(random_state=RANDOM_STATE))\n",
    "])"
   ]
  },
  {
   "cell_type": "markdown",
   "metadata": {},
   "source": [
    "Перейдём к обучению моделей.  \n",
    "Рассмотрим модель линейной регрессии, модель решающего дерева, а также модель LightGBM"
   ]
  },
  {
   "cell_type": "markdown",
   "metadata": {},
   "source": [
    "### Модель линейной регрессии"
   ]
  },
  {
   "cell_type": "code",
   "execution_count": 31,
   "metadata": {
    "scrolled": true
   },
   "outputs": [
    {
     "name": "stdout",
     "output_type": "stream",
     "text": [
      "RMSE для модели линейной регрессии на тренировочных данных при кросс-валидации 25.874016399397288\n"
     ]
    }
   ],
   "source": [
    "tscv = TimeSeriesSplit(n_splits=5)\n",
    "\n",
    "param_grid_lr = [\n",
    "    # словарь для модели DecisionTreeRegressor()\n",
    "\n",
    "    {\n",
    "        'models': [LinearRegression()],\n",
    "        'preprocessor__num': [StandardScaler()],\n",
    "    },\n",
    " \n",
    "]\n",
    "\n",
    "grid_lr = RandomizedSearchCV(\n",
    "                          pipe_final_LR,\n",
    "                          param_grid_lr,\n",
    "                          scoring='neg_root_mean_squared_error',\n",
    "                          cv=tscv,\n",
    "                          n_jobs=-1,\n",
    "                          n_iter=50)\n",
    "grid_lr.fit(X_train, y_train)\n",
    "print('RMSE для модели линейной регрессии на тренировочных данных при кросс-валидации', abs(grid_lr.best_score_))"
   ]
  },
  {
   "cell_type": "markdown",
   "metadata": {},
   "source": [
    "### Модель решающего дерева"
   ]
  },
  {
   "cell_type": "code",
   "execution_count": 32,
   "metadata": {},
   "outputs": [
    {
     "data": {
      "text/html": [
       "<style>#sk-container-id-1 {\n",
       "  /* Definition of color scheme common for light and dark mode */\n",
       "  --sklearn-color-text: #000;\n",
       "  --sklearn-color-text-muted: #666;\n",
       "  --sklearn-color-line: gray;\n",
       "  /* Definition of color scheme for unfitted estimators */\n",
       "  --sklearn-color-unfitted-level-0: #fff5e6;\n",
       "  --sklearn-color-unfitted-level-1: #f6e4d2;\n",
       "  --sklearn-color-unfitted-level-2: #ffe0b3;\n",
       "  --sklearn-color-unfitted-level-3: chocolate;\n",
       "  /* Definition of color scheme for fitted estimators */\n",
       "  --sklearn-color-fitted-level-0: #f0f8ff;\n",
       "  --sklearn-color-fitted-level-1: #d4ebff;\n",
       "  --sklearn-color-fitted-level-2: #b3dbfd;\n",
       "  --sklearn-color-fitted-level-3: cornflowerblue;\n",
       "\n",
       "  /* Specific color for light theme */\n",
       "  --sklearn-color-text-on-default-background: var(--sg-text-color, var(--theme-code-foreground, var(--jp-content-font-color1, black)));\n",
       "  --sklearn-color-background: var(--sg-background-color, var(--theme-background, var(--jp-layout-color0, white)));\n",
       "  --sklearn-color-border-box: var(--sg-text-color, var(--theme-code-foreground, var(--jp-content-font-color1, black)));\n",
       "  --sklearn-color-icon: #696969;\n",
       "\n",
       "  @media (prefers-color-scheme: dark) {\n",
       "    /* Redefinition of color scheme for dark theme */\n",
       "    --sklearn-color-text-on-default-background: var(--sg-text-color, var(--theme-code-foreground, var(--jp-content-font-color1, white)));\n",
       "    --sklearn-color-background: var(--sg-background-color, var(--theme-background, var(--jp-layout-color0, #111)));\n",
       "    --sklearn-color-border-box: var(--sg-text-color, var(--theme-code-foreground, var(--jp-content-font-color1, white)));\n",
       "    --sklearn-color-icon: #878787;\n",
       "  }\n",
       "}\n",
       "\n",
       "#sk-container-id-1 {\n",
       "  color: var(--sklearn-color-text);\n",
       "}\n",
       "\n",
       "#sk-container-id-1 pre {\n",
       "  padding: 0;\n",
       "}\n",
       "\n",
       "#sk-container-id-1 input.sk-hidden--visually {\n",
       "  border: 0;\n",
       "  clip: rect(1px 1px 1px 1px);\n",
       "  clip: rect(1px, 1px, 1px, 1px);\n",
       "  height: 1px;\n",
       "  margin: -1px;\n",
       "  overflow: hidden;\n",
       "  padding: 0;\n",
       "  position: absolute;\n",
       "  width: 1px;\n",
       "}\n",
       "\n",
       "#sk-container-id-1 div.sk-dashed-wrapped {\n",
       "  border: 1px dashed var(--sklearn-color-line);\n",
       "  margin: 0 0.4em 0.5em 0.4em;\n",
       "  box-sizing: border-box;\n",
       "  padding-bottom: 0.4em;\n",
       "  background-color: var(--sklearn-color-background);\n",
       "}\n",
       "\n",
       "#sk-container-id-1 div.sk-container {\n",
       "  /* jupyter's `normalize.less` sets `[hidden] { display: none; }`\n",
       "     but bootstrap.min.css set `[hidden] { display: none !important; }`\n",
       "     so we also need the `!important` here to be able to override the\n",
       "     default hidden behavior on the sphinx rendered scikit-learn.org.\n",
       "     See: https://github.com/scikit-learn/scikit-learn/issues/21755 */\n",
       "  display: inline-block !important;\n",
       "  position: relative;\n",
       "}\n",
       "\n",
       "#sk-container-id-1 div.sk-text-repr-fallback {\n",
       "  display: none;\n",
       "}\n",
       "\n",
       "div.sk-parallel-item,\n",
       "div.sk-serial,\n",
       "div.sk-item {\n",
       "  /* draw centered vertical line to link estimators */\n",
       "  background-image: linear-gradient(var(--sklearn-color-text-on-default-background), var(--sklearn-color-text-on-default-background));\n",
       "  background-size: 2px 100%;\n",
       "  background-repeat: no-repeat;\n",
       "  background-position: center center;\n",
       "}\n",
       "\n",
       "/* Parallel-specific style estimator block */\n",
       "\n",
       "#sk-container-id-1 div.sk-parallel-item::after {\n",
       "  content: \"\";\n",
       "  width: 100%;\n",
       "  border-bottom: 2px solid var(--sklearn-color-text-on-default-background);\n",
       "  flex-grow: 1;\n",
       "}\n",
       "\n",
       "#sk-container-id-1 div.sk-parallel {\n",
       "  display: flex;\n",
       "  align-items: stretch;\n",
       "  justify-content: center;\n",
       "  background-color: var(--sklearn-color-background);\n",
       "  position: relative;\n",
       "}\n",
       "\n",
       "#sk-container-id-1 div.sk-parallel-item {\n",
       "  display: flex;\n",
       "  flex-direction: column;\n",
       "}\n",
       "\n",
       "#sk-container-id-1 div.sk-parallel-item:first-child::after {\n",
       "  align-self: flex-end;\n",
       "  width: 50%;\n",
       "}\n",
       "\n",
       "#sk-container-id-1 div.sk-parallel-item:last-child::after {\n",
       "  align-self: flex-start;\n",
       "  width: 50%;\n",
       "}\n",
       "\n",
       "#sk-container-id-1 div.sk-parallel-item:only-child::after {\n",
       "  width: 0;\n",
       "}\n",
       "\n",
       "/* Serial-specific style estimator block */\n",
       "\n",
       "#sk-container-id-1 div.sk-serial {\n",
       "  display: flex;\n",
       "  flex-direction: column;\n",
       "  align-items: center;\n",
       "  background-color: var(--sklearn-color-background);\n",
       "  padding-right: 1em;\n",
       "  padding-left: 1em;\n",
       "}\n",
       "\n",
       "\n",
       "/* Toggleable style: style used for estimator/Pipeline/ColumnTransformer box that is\n",
       "clickable and can be expanded/collapsed.\n",
       "- Pipeline and ColumnTransformer use this feature and define the default style\n",
       "- Estimators will overwrite some part of the style using the `sk-estimator` class\n",
       "*/\n",
       "\n",
       "/* Pipeline and ColumnTransformer style (default) */\n",
       "\n",
       "#sk-container-id-1 div.sk-toggleable {\n",
       "  /* Default theme specific background. It is overwritten whether we have a\n",
       "  specific estimator or a Pipeline/ColumnTransformer */\n",
       "  background-color: var(--sklearn-color-background);\n",
       "}\n",
       "\n",
       "/* Toggleable label */\n",
       "#sk-container-id-1 label.sk-toggleable__label {\n",
       "  cursor: pointer;\n",
       "  display: flex;\n",
       "  width: 100%;\n",
       "  margin-bottom: 0;\n",
       "  padding: 0.5em;\n",
       "  box-sizing: border-box;\n",
       "  text-align: center;\n",
       "  align-items: start;\n",
       "  justify-content: space-between;\n",
       "  gap: 0.5em;\n",
       "}\n",
       "\n",
       "#sk-container-id-1 label.sk-toggleable__label .caption {\n",
       "  font-size: 0.6rem;\n",
       "  font-weight: lighter;\n",
       "  color: var(--sklearn-color-text-muted);\n",
       "}\n",
       "\n",
       "#sk-container-id-1 label.sk-toggleable__label-arrow:before {\n",
       "  /* Arrow on the left of the label */\n",
       "  content: \"▸\";\n",
       "  float: left;\n",
       "  margin-right: 0.25em;\n",
       "  color: var(--sklearn-color-icon);\n",
       "}\n",
       "\n",
       "#sk-container-id-1 label.sk-toggleable__label-arrow:hover:before {\n",
       "  color: var(--sklearn-color-text);\n",
       "}\n",
       "\n",
       "/* Toggleable content - dropdown */\n",
       "\n",
       "#sk-container-id-1 div.sk-toggleable__content {\n",
       "  max-height: 0;\n",
       "  max-width: 0;\n",
       "  overflow: hidden;\n",
       "  text-align: left;\n",
       "  /* unfitted */\n",
       "  background-color: var(--sklearn-color-unfitted-level-0);\n",
       "}\n",
       "\n",
       "#sk-container-id-1 div.sk-toggleable__content.fitted {\n",
       "  /* fitted */\n",
       "  background-color: var(--sklearn-color-fitted-level-0);\n",
       "}\n",
       "\n",
       "#sk-container-id-1 div.sk-toggleable__content pre {\n",
       "  margin: 0.2em;\n",
       "  border-radius: 0.25em;\n",
       "  color: var(--sklearn-color-text);\n",
       "  /* unfitted */\n",
       "  background-color: var(--sklearn-color-unfitted-level-0);\n",
       "}\n",
       "\n",
       "#sk-container-id-1 div.sk-toggleable__content.fitted pre {\n",
       "  /* unfitted */\n",
       "  background-color: var(--sklearn-color-fitted-level-0);\n",
       "}\n",
       "\n",
       "#sk-container-id-1 input.sk-toggleable__control:checked~div.sk-toggleable__content {\n",
       "  /* Expand drop-down */\n",
       "  max-height: 200px;\n",
       "  max-width: 100%;\n",
       "  overflow: auto;\n",
       "}\n",
       "\n",
       "#sk-container-id-1 input.sk-toggleable__control:checked~label.sk-toggleable__label-arrow:before {\n",
       "  content: \"▾\";\n",
       "}\n",
       "\n",
       "/* Pipeline/ColumnTransformer-specific style */\n",
       "\n",
       "#sk-container-id-1 div.sk-label input.sk-toggleable__control:checked~label.sk-toggleable__label {\n",
       "  color: var(--sklearn-color-text);\n",
       "  background-color: var(--sklearn-color-unfitted-level-2);\n",
       "}\n",
       "\n",
       "#sk-container-id-1 div.sk-label.fitted input.sk-toggleable__control:checked~label.sk-toggleable__label {\n",
       "  background-color: var(--sklearn-color-fitted-level-2);\n",
       "}\n",
       "\n",
       "/* Estimator-specific style */\n",
       "\n",
       "/* Colorize estimator box */\n",
       "#sk-container-id-1 div.sk-estimator input.sk-toggleable__control:checked~label.sk-toggleable__label {\n",
       "  /* unfitted */\n",
       "  background-color: var(--sklearn-color-unfitted-level-2);\n",
       "}\n",
       "\n",
       "#sk-container-id-1 div.sk-estimator.fitted input.sk-toggleable__control:checked~label.sk-toggleable__label {\n",
       "  /* fitted */\n",
       "  background-color: var(--sklearn-color-fitted-level-2);\n",
       "}\n",
       "\n",
       "#sk-container-id-1 div.sk-label label.sk-toggleable__label,\n",
       "#sk-container-id-1 div.sk-label label {\n",
       "  /* The background is the default theme color */\n",
       "  color: var(--sklearn-color-text-on-default-background);\n",
       "}\n",
       "\n",
       "/* On hover, darken the color of the background */\n",
       "#sk-container-id-1 div.sk-label:hover label.sk-toggleable__label {\n",
       "  color: var(--sklearn-color-text);\n",
       "  background-color: var(--sklearn-color-unfitted-level-2);\n",
       "}\n",
       "\n",
       "/* Label box, darken color on hover, fitted */\n",
       "#sk-container-id-1 div.sk-label.fitted:hover label.sk-toggleable__label.fitted {\n",
       "  color: var(--sklearn-color-text);\n",
       "  background-color: var(--sklearn-color-fitted-level-2);\n",
       "}\n",
       "\n",
       "/* Estimator label */\n",
       "\n",
       "#sk-container-id-1 div.sk-label label {\n",
       "  font-family: monospace;\n",
       "  font-weight: bold;\n",
       "  display: inline-block;\n",
       "  line-height: 1.2em;\n",
       "}\n",
       "\n",
       "#sk-container-id-1 div.sk-label-container {\n",
       "  text-align: center;\n",
       "}\n",
       "\n",
       "/* Estimator-specific */\n",
       "#sk-container-id-1 div.sk-estimator {\n",
       "  font-family: monospace;\n",
       "  border: 1px dotted var(--sklearn-color-border-box);\n",
       "  border-radius: 0.25em;\n",
       "  box-sizing: border-box;\n",
       "  margin-bottom: 0.5em;\n",
       "  /* unfitted */\n",
       "  background-color: var(--sklearn-color-unfitted-level-0);\n",
       "}\n",
       "\n",
       "#sk-container-id-1 div.sk-estimator.fitted {\n",
       "  /* fitted */\n",
       "  background-color: var(--sklearn-color-fitted-level-0);\n",
       "}\n",
       "\n",
       "/* on hover */\n",
       "#sk-container-id-1 div.sk-estimator:hover {\n",
       "  /* unfitted */\n",
       "  background-color: var(--sklearn-color-unfitted-level-2);\n",
       "}\n",
       "\n",
       "#sk-container-id-1 div.sk-estimator.fitted:hover {\n",
       "  /* fitted */\n",
       "  background-color: var(--sklearn-color-fitted-level-2);\n",
       "}\n",
       "\n",
       "/* Specification for estimator info (e.g. \"i\" and \"?\") */\n",
       "\n",
       "/* Common style for \"i\" and \"?\" */\n",
       "\n",
       ".sk-estimator-doc-link,\n",
       "a:link.sk-estimator-doc-link,\n",
       "a:visited.sk-estimator-doc-link {\n",
       "  float: right;\n",
       "  font-size: smaller;\n",
       "  line-height: 1em;\n",
       "  font-family: monospace;\n",
       "  background-color: var(--sklearn-color-background);\n",
       "  border-radius: 1em;\n",
       "  height: 1em;\n",
       "  width: 1em;\n",
       "  text-decoration: none !important;\n",
       "  margin-left: 0.5em;\n",
       "  text-align: center;\n",
       "  /* unfitted */\n",
       "  border: var(--sklearn-color-unfitted-level-1) 1pt solid;\n",
       "  color: var(--sklearn-color-unfitted-level-1);\n",
       "}\n",
       "\n",
       ".sk-estimator-doc-link.fitted,\n",
       "a:link.sk-estimator-doc-link.fitted,\n",
       "a:visited.sk-estimator-doc-link.fitted {\n",
       "  /* fitted */\n",
       "  border: var(--sklearn-color-fitted-level-1) 1pt solid;\n",
       "  color: var(--sklearn-color-fitted-level-1);\n",
       "}\n",
       "\n",
       "/* On hover */\n",
       "div.sk-estimator:hover .sk-estimator-doc-link:hover,\n",
       ".sk-estimator-doc-link:hover,\n",
       "div.sk-label-container:hover .sk-estimator-doc-link:hover,\n",
       ".sk-estimator-doc-link:hover {\n",
       "  /* unfitted */\n",
       "  background-color: var(--sklearn-color-unfitted-level-3);\n",
       "  color: var(--sklearn-color-background);\n",
       "  text-decoration: none;\n",
       "}\n",
       "\n",
       "div.sk-estimator.fitted:hover .sk-estimator-doc-link.fitted:hover,\n",
       ".sk-estimator-doc-link.fitted:hover,\n",
       "div.sk-label-container:hover .sk-estimator-doc-link.fitted:hover,\n",
       ".sk-estimator-doc-link.fitted:hover {\n",
       "  /* fitted */\n",
       "  background-color: var(--sklearn-color-fitted-level-3);\n",
       "  color: var(--sklearn-color-background);\n",
       "  text-decoration: none;\n",
       "}\n",
       "\n",
       "/* Span, style for the box shown on hovering the info icon */\n",
       ".sk-estimator-doc-link span {\n",
       "  display: none;\n",
       "  z-index: 9999;\n",
       "  position: relative;\n",
       "  font-weight: normal;\n",
       "  right: .2ex;\n",
       "  padding: .5ex;\n",
       "  margin: .5ex;\n",
       "  width: min-content;\n",
       "  min-width: 20ex;\n",
       "  max-width: 50ex;\n",
       "  color: var(--sklearn-color-text);\n",
       "  box-shadow: 2pt 2pt 4pt #999;\n",
       "  /* unfitted */\n",
       "  background: var(--sklearn-color-unfitted-level-0);\n",
       "  border: .5pt solid var(--sklearn-color-unfitted-level-3);\n",
       "}\n",
       "\n",
       ".sk-estimator-doc-link.fitted span {\n",
       "  /* fitted */\n",
       "  background: var(--sklearn-color-fitted-level-0);\n",
       "  border: var(--sklearn-color-fitted-level-3);\n",
       "}\n",
       "\n",
       ".sk-estimator-doc-link:hover span {\n",
       "  display: block;\n",
       "}\n",
       "\n",
       "/* \"?\"-specific style due to the `<a>` HTML tag */\n",
       "\n",
       "#sk-container-id-1 a.estimator_doc_link {\n",
       "  float: right;\n",
       "  font-size: 1rem;\n",
       "  line-height: 1em;\n",
       "  font-family: monospace;\n",
       "  background-color: var(--sklearn-color-background);\n",
       "  border-radius: 1rem;\n",
       "  height: 1rem;\n",
       "  width: 1rem;\n",
       "  text-decoration: none;\n",
       "  /* unfitted */\n",
       "  color: var(--sklearn-color-unfitted-level-1);\n",
       "  border: var(--sklearn-color-unfitted-level-1) 1pt solid;\n",
       "}\n",
       "\n",
       "#sk-container-id-1 a.estimator_doc_link.fitted {\n",
       "  /* fitted */\n",
       "  border: var(--sklearn-color-fitted-level-1) 1pt solid;\n",
       "  color: var(--sklearn-color-fitted-level-1);\n",
       "}\n",
       "\n",
       "/* On hover */\n",
       "#sk-container-id-1 a.estimator_doc_link:hover {\n",
       "  /* unfitted */\n",
       "  background-color: var(--sklearn-color-unfitted-level-3);\n",
       "  color: var(--sklearn-color-background);\n",
       "  text-decoration: none;\n",
       "}\n",
       "\n",
       "#sk-container-id-1 a.estimator_doc_link.fitted:hover {\n",
       "  /* fitted */\n",
       "  background-color: var(--sklearn-color-fitted-level-3);\n",
       "}\n",
       "</style><div id=\"sk-container-id-1\" class=\"sk-top-container\"><div class=\"sk-text-repr-fallback\"><pre>RandomizedSearchCV(cv=TimeSeriesSplit(gap=0, max_train_size=None, n_splits=5, test_size=None),\n",
       "                   estimator=Pipeline(steps=[(&#x27;preprocessor&#x27;,\n",
       "                                              ColumnTransformer(remainder=&#x27;passthrough&#x27;,\n",
       "                                                                transformers=[(&#x27;ohe&#x27;,\n",
       "                                                                               Pipeline(steps=[(&#x27;ohe&#x27;,\n",
       "                                                                                                OneHotEncoder(drop=&#x27;first&#x27;,\n",
       "                                                                                                              handle_unknown=&#x27;ignore&#x27;,\n",
       "                                                                                                              sparse_output=False))]),\n",
       "                                                                               [&#x27;day&#x27;,\n",
       "                                                                                &#x27;dayofweek&#x27;,\n",
       "                                                                                &#x27;hour&#x27;]),\n",
       "                                                                              (&#x27;num&#x27;,\n",
       "                                                                               StandardScaler(),\n",
       "                                                                               [&#x27;la...\n",
       "                                                                                &#x27;lag_24&#x27;])])),\n",
       "                                             (&#x27;models&#x27;,\n",
       "                                              DecisionTreeRegressor(random_state=12345))]),\n",
       "                   n_iter=50, n_jobs=-1,\n",
       "                   param_distributions=[{&#x27;models&#x27;: [DecisionTreeRegressor(random_state=12345)],\n",
       "                                         &#x27;models__max_depth&#x27;: [None, 1, 2, 3, 4,\n",
       "                                                               5, 6, 7, 8],\n",
       "                                         &#x27;models__min_samples_leaf&#x27;: range(1, 6),\n",
       "                                         &#x27;models__min_samples_split&#x27;: range(2, 6),\n",
       "                                         &#x27;preprocessor__num&#x27;: [&#x27;passthrough&#x27;]}],\n",
       "                   scoring=&#x27;neg_root_mean_squared_error&#x27;)</pre><b>In a Jupyter environment, please rerun this cell to show the HTML representation or trust the notebook. <br />On GitHub, the HTML representation is unable to render, please try loading this page with nbviewer.org.</b></div><div class=\"sk-container\" hidden><div class=\"sk-item sk-dashed-wrapped\"><div class=\"sk-label-container\"><div class=\"sk-label fitted sk-toggleable\"><input class=\"sk-toggleable__control sk-hidden--visually\" id=\"sk-estimator-id-1\" type=\"checkbox\" ><label for=\"sk-estimator-id-1\" class=\"sk-toggleable__label fitted sk-toggleable__label-arrow\"><div><div>RandomizedSearchCV</div></div><div><a class=\"sk-estimator-doc-link fitted\" rel=\"noreferrer\" target=\"_blank\" href=\"https://scikit-learn.org/1.6/modules/generated/sklearn.model_selection.RandomizedSearchCV.html\">?<span>Documentation for RandomizedSearchCV</span></a><span class=\"sk-estimator-doc-link fitted\">i<span>Fitted</span></span></div></label><div class=\"sk-toggleable__content fitted\"><pre>RandomizedSearchCV(cv=TimeSeriesSplit(gap=0, max_train_size=None, n_splits=5, test_size=None),\n",
       "                   estimator=Pipeline(steps=[(&#x27;preprocessor&#x27;,\n",
       "                                              ColumnTransformer(remainder=&#x27;passthrough&#x27;,\n",
       "                                                                transformers=[(&#x27;ohe&#x27;,\n",
       "                                                                               Pipeline(steps=[(&#x27;ohe&#x27;,\n",
       "                                                                                                OneHotEncoder(drop=&#x27;first&#x27;,\n",
       "                                                                                                              handle_unknown=&#x27;ignore&#x27;,\n",
       "                                                                                                              sparse_output=False))]),\n",
       "                                                                               [&#x27;day&#x27;,\n",
       "                                                                                &#x27;dayofweek&#x27;,\n",
       "                                                                                &#x27;hour&#x27;]),\n",
       "                                                                              (&#x27;num&#x27;,\n",
       "                                                                               StandardScaler(),\n",
       "                                                                               [&#x27;la...\n",
       "                                                                                &#x27;lag_24&#x27;])])),\n",
       "                                             (&#x27;models&#x27;,\n",
       "                                              DecisionTreeRegressor(random_state=12345))]),\n",
       "                   n_iter=50, n_jobs=-1,\n",
       "                   param_distributions=[{&#x27;models&#x27;: [DecisionTreeRegressor(random_state=12345)],\n",
       "                                         &#x27;models__max_depth&#x27;: [None, 1, 2, 3, 4,\n",
       "                                                               5, 6, 7, 8],\n",
       "                                         &#x27;models__min_samples_leaf&#x27;: range(1, 6),\n",
       "                                         &#x27;models__min_samples_split&#x27;: range(2, 6),\n",
       "                                         &#x27;preprocessor__num&#x27;: [&#x27;passthrough&#x27;]}],\n",
       "                   scoring=&#x27;neg_root_mean_squared_error&#x27;)</pre></div> </div></div><div class=\"sk-parallel\"><div class=\"sk-parallel-item\"><div class=\"sk-item\"><div class=\"sk-label-container\"><div class=\"sk-label fitted sk-toggleable\"><input class=\"sk-toggleable__control sk-hidden--visually\" id=\"sk-estimator-id-2\" type=\"checkbox\" ><label for=\"sk-estimator-id-2\" class=\"sk-toggleable__label fitted sk-toggleable__label-arrow\"><div><div>best_estimator_: Pipeline</div></div></label><div class=\"sk-toggleable__content fitted\"><pre>Pipeline(steps=[(&#x27;preprocessor&#x27;,\n",
       "                 ColumnTransformer(remainder=&#x27;passthrough&#x27;,\n",
       "                                   transformers=[(&#x27;ohe&#x27;,\n",
       "                                                  Pipeline(steps=[(&#x27;ohe&#x27;,\n",
       "                                                                   OneHotEncoder(drop=&#x27;first&#x27;,\n",
       "                                                                                 handle_unknown=&#x27;ignore&#x27;,\n",
       "                                                                                 sparse_output=False))]),\n",
       "                                                  [&#x27;day&#x27;, &#x27;dayofweek&#x27;, &#x27;hour&#x27;]),\n",
       "                                                 (&#x27;num&#x27;, &#x27;passthrough&#x27;,\n",
       "                                                  [&#x27;lag_1&#x27;, &#x27;lag_2&#x27;, &#x27;lag_3&#x27;,\n",
       "                                                   &#x27;lag_4&#x27;, &#x27;lag_5&#x27;, &#x27;lag_6&#x27;,\n",
       "                                                   &#x27;lag_7&#x27;, &#x27;lag_8&#x27;, &#x27;lag_9&#x27;,\n",
       "                                                   &#x27;lag_10&#x27;, &#x27;lag_21&#x27;, &#x27;lag_22&#x27;,\n",
       "                                                   &#x27;lag_23&#x27;, &#x27;lag_24&#x27;])])),\n",
       "                (&#x27;models&#x27;,\n",
       "                 DecisionTreeRegressor(max_depth=5, min_samples_leaf=5,\n",
       "                                       min_samples_split=3,\n",
       "                                       random_state=12345))])</pre></div> </div></div><div class=\"sk-serial\"><div class=\"sk-item\"><div class=\"sk-serial\"><div class=\"sk-item sk-dashed-wrapped\"><div class=\"sk-label-container\"><div class=\"sk-label fitted sk-toggleable\"><input class=\"sk-toggleable__control sk-hidden--visually\" id=\"sk-estimator-id-3\" type=\"checkbox\" ><label for=\"sk-estimator-id-3\" class=\"sk-toggleable__label fitted sk-toggleable__label-arrow\"><div><div>preprocessor: ColumnTransformer</div></div><div><a class=\"sk-estimator-doc-link fitted\" rel=\"noreferrer\" target=\"_blank\" href=\"https://scikit-learn.org/1.6/modules/generated/sklearn.compose.ColumnTransformer.html\">?<span>Documentation for preprocessor: ColumnTransformer</span></a></div></label><div class=\"sk-toggleable__content fitted\"><pre>ColumnTransformer(remainder=&#x27;passthrough&#x27;,\n",
       "                  transformers=[(&#x27;ohe&#x27;,\n",
       "                                 Pipeline(steps=[(&#x27;ohe&#x27;,\n",
       "                                                  OneHotEncoder(drop=&#x27;first&#x27;,\n",
       "                                                                handle_unknown=&#x27;ignore&#x27;,\n",
       "                                                                sparse_output=False))]),\n",
       "                                 [&#x27;day&#x27;, &#x27;dayofweek&#x27;, &#x27;hour&#x27;]),\n",
       "                                (&#x27;num&#x27;, &#x27;passthrough&#x27;,\n",
       "                                 [&#x27;lag_1&#x27;, &#x27;lag_2&#x27;, &#x27;lag_3&#x27;, &#x27;lag_4&#x27;, &#x27;lag_5&#x27;,\n",
       "                                  &#x27;lag_6&#x27;, &#x27;lag_7&#x27;, &#x27;lag_8&#x27;, &#x27;lag_9&#x27;, &#x27;lag_10&#x27;,\n",
       "                                  &#x27;lag_21&#x27;, &#x27;lag_22&#x27;, &#x27;lag_23&#x27;, &#x27;lag_24&#x27;])])</pre></div> </div></div><div class=\"sk-parallel\"><div class=\"sk-parallel-item\"><div class=\"sk-item\"><div class=\"sk-label-container\"><div class=\"sk-label fitted sk-toggleable\"><input class=\"sk-toggleable__control sk-hidden--visually\" id=\"sk-estimator-id-4\" type=\"checkbox\" ><label for=\"sk-estimator-id-4\" class=\"sk-toggleable__label fitted sk-toggleable__label-arrow\"><div><div>ohe</div></div></label><div class=\"sk-toggleable__content fitted\"><pre>[&#x27;day&#x27;, &#x27;dayofweek&#x27;, &#x27;hour&#x27;]</pre></div> </div></div><div class=\"sk-serial\"><div class=\"sk-item\"><div class=\"sk-serial\"><div class=\"sk-item\"><div class=\"sk-estimator fitted sk-toggleable\"><input class=\"sk-toggleable__control sk-hidden--visually\" id=\"sk-estimator-id-5\" type=\"checkbox\" ><label for=\"sk-estimator-id-5\" class=\"sk-toggleable__label fitted sk-toggleable__label-arrow\"><div><div>OneHotEncoder</div></div><div><a class=\"sk-estimator-doc-link fitted\" rel=\"noreferrer\" target=\"_blank\" href=\"https://scikit-learn.org/1.6/modules/generated/sklearn.preprocessing.OneHotEncoder.html\">?<span>Documentation for OneHotEncoder</span></a></div></label><div class=\"sk-toggleable__content fitted\"><pre>OneHotEncoder(drop=&#x27;first&#x27;, handle_unknown=&#x27;ignore&#x27;, sparse_output=False)</pre></div> </div></div></div></div></div></div></div><div class=\"sk-parallel-item\"><div class=\"sk-item\"><div class=\"sk-label-container\"><div class=\"sk-label fitted sk-toggleable\"><input class=\"sk-toggleable__control sk-hidden--visually\" id=\"sk-estimator-id-6\" type=\"checkbox\" ><label for=\"sk-estimator-id-6\" class=\"sk-toggleable__label fitted sk-toggleable__label-arrow\"><div><div>num</div></div></label><div class=\"sk-toggleable__content fitted\"><pre>[&#x27;lag_1&#x27;, &#x27;lag_2&#x27;, &#x27;lag_3&#x27;, &#x27;lag_4&#x27;, &#x27;lag_5&#x27;, &#x27;lag_6&#x27;, &#x27;lag_7&#x27;, &#x27;lag_8&#x27;, &#x27;lag_9&#x27;, &#x27;lag_10&#x27;, &#x27;lag_21&#x27;, &#x27;lag_22&#x27;, &#x27;lag_23&#x27;, &#x27;lag_24&#x27;]</pre></div> </div></div><div class=\"sk-serial\"><div class=\"sk-item\"><div class=\"sk-estimator fitted sk-toggleable\"><input class=\"sk-toggleable__control sk-hidden--visually\" id=\"sk-estimator-id-7\" type=\"checkbox\" ><label for=\"sk-estimator-id-7\" class=\"sk-toggleable__label fitted sk-toggleable__label-arrow\"><div><div>passthrough</div></div></label><div class=\"sk-toggleable__content fitted\"><pre>passthrough</pre></div> </div></div></div></div></div><div class=\"sk-parallel-item\"><div class=\"sk-item\"><div class=\"sk-label-container\"><div class=\"sk-label fitted sk-toggleable\"><input class=\"sk-toggleable__control sk-hidden--visually\" id=\"sk-estimator-id-8\" type=\"checkbox\" ><label for=\"sk-estimator-id-8\" class=\"sk-toggleable__label fitted sk-toggleable__label-arrow\"><div><div>remainder</div></div></label><div class=\"sk-toggleable__content fitted\"><pre>[&#x27;lag_11&#x27;, &#x27;lag_12&#x27;, &#x27;lag_13&#x27;, &#x27;lag_14&#x27;, &#x27;lag_15&#x27;, &#x27;lag_16&#x27;, &#x27;lag_17&#x27;, &#x27;lag_18&#x27;, &#x27;lag_19&#x27;, &#x27;lag_20&#x27;, &#x27;rolling_mean&#x27;]</pre></div> </div></div><div class=\"sk-serial\"><div class=\"sk-item\"><div class=\"sk-estimator fitted sk-toggleable\"><input class=\"sk-toggleable__control sk-hidden--visually\" id=\"sk-estimator-id-9\" type=\"checkbox\" ><label for=\"sk-estimator-id-9\" class=\"sk-toggleable__label fitted sk-toggleable__label-arrow\"><div><div>passthrough</div></div></label><div class=\"sk-toggleable__content fitted\"><pre>passthrough</pre></div> </div></div></div></div></div></div></div><div class=\"sk-item\"><div class=\"sk-estimator fitted sk-toggleable\"><input class=\"sk-toggleable__control sk-hidden--visually\" id=\"sk-estimator-id-10\" type=\"checkbox\" ><label for=\"sk-estimator-id-10\" class=\"sk-toggleable__label fitted sk-toggleable__label-arrow\"><div><div>DecisionTreeRegressor</div></div><div><a class=\"sk-estimator-doc-link fitted\" rel=\"noreferrer\" target=\"_blank\" href=\"https://scikit-learn.org/1.6/modules/generated/sklearn.tree.DecisionTreeRegressor.html\">?<span>Documentation for DecisionTreeRegressor</span></a></div></label><div class=\"sk-toggleable__content fitted\"><pre>DecisionTreeRegressor(max_depth=5, min_samples_leaf=5, min_samples_split=3,\n",
       "                      random_state=12345)</pre></div> </div></div></div></div></div></div></div></div></div></div></div>"
      ],
      "text/plain": [
       "RandomizedSearchCV(cv=TimeSeriesSplit(gap=0, max_train_size=None, n_splits=5, test_size=None),\n",
       "                   estimator=Pipeline(steps=[('preprocessor',\n",
       "                                              ColumnTransformer(remainder='passthrough',\n",
       "                                                                transformers=[('ohe',\n",
       "                                                                               Pipeline(steps=[('ohe',\n",
       "                                                                                                OneHotEncoder(drop='first',\n",
       "                                                                                                              handle_unknown='ignore',\n",
       "                                                                                                              sparse_output=False))]),\n",
       "                                                                               ['day',\n",
       "                                                                                'dayofweek',\n",
       "                                                                                'hour']),\n",
       "                                                                              ('num',\n",
       "                                                                               StandardScaler(),\n",
       "                                                                               ['la...\n",
       "                                                                                'lag_24'])])),\n",
       "                                             ('models',\n",
       "                                              DecisionTreeRegressor(random_state=12345))]),\n",
       "                   n_iter=50, n_jobs=-1,\n",
       "                   param_distributions=[{'models': [DecisionTreeRegressor(random_state=12345)],\n",
       "                                         'models__max_depth': [None, 1, 2, 3, 4,\n",
       "                                                               5, 6, 7, 8],\n",
       "                                         'models__min_samples_leaf': range(1, 6),\n",
       "                                         'models__min_samples_split': range(2, 6),\n",
       "                                         'preprocessor__num': ['passthrough']}],\n",
       "                   scoring='neg_root_mean_squared_error')"
      ]
     },
     "execution_count": 32,
     "metadata": {},
     "output_type": "execute_result"
    }
   ],
   "source": [
    "param_grid_DTR = [\n",
    "    # словарь для модели DecisionTreeRegressor()\n",
    "\n",
    "    {\n",
    "        'models': [DecisionTreeRegressor(random_state=RANDOM_STATE)],\n",
    "        'models__max_depth': [None]+[i for i in range(1, 9)],\n",
    "        'models__min_samples_leaf': range(1,6),\n",
    "        'models__min_samples_split': range(2,6), \n",
    "        'preprocessor__num': ['passthrough'],\n",
    "    },\n",
    " \n",
    "]\n",
    "\n",
    "grid_dtr = RandomizedSearchCV(\n",
    "                          pipe_final_DTR,\n",
    "                          param_grid_DTR,\n",
    "                          scoring='neg_root_mean_squared_error',\n",
    "                          cv=tscv,\n",
    "                          n_jobs=-1,\n",
    "                          n_iter=50)\n",
    "grid_dtr.fit(X_train, y_train)"
   ]
  },
  {
   "cell_type": "code",
   "execution_count": 33,
   "metadata": {},
   "outputs": [
    {
     "name": "stdout",
     "output_type": "stream",
     "text": [
      "Pipeline(steps=[('preprocessor',\n",
      "                 ColumnTransformer(remainder='passthrough',\n",
      "                                   transformers=[('ohe',\n",
      "                                                  Pipeline(steps=[('ohe',\n",
      "                                                                   OneHotEncoder(drop='first',\n",
      "                                                                                 handle_unknown='ignore',\n",
      "                                                                                 sparse_output=False))]),\n",
      "                                                  ['day', 'dayofweek', 'hour']),\n",
      "                                                 ('num', 'passthrough',\n",
      "                                                  ['lag_1', 'lag_2', 'lag_3',\n",
      "                                                   'lag_4', 'lag_5', 'lag_6',\n",
      "                                                   'lag_7', 'lag_8', 'lag_9',\n",
      "                                                   'lag_10', 'lag_21', 'lag_22',\n",
      "                                                   'lag_23', 'lag_24'])])),\n",
      "                ('models',\n",
      "                 DecisionTreeRegressor(max_depth=5, min_samples_leaf=5,\n",
      "                                       min_samples_split=3,\n",
      "                                       random_state=12345))])\n",
      "Метрика RMSE при кросс-валидации:  29.781206519193706\n"
     ]
    }
   ],
   "source": [
    "print(grid_dtr.best_estimator_)\n",
    "print('Метрика RMSE при кросс-валидации: ', abs(grid_dtr.best_score_))\n"
   ]
  },
  {
   "cell_type": "markdown",
   "metadata": {},
   "source": [
    "DecisionTreeRegressor(max_depth=4, min_samples_leaf=4, min_samples_split=4,\n",
    "                      random_state=12345)   \n",
    "Метрика RMSE при кросс-валидации:  33.24187579872462"
   ]
  },
  {
   "cell_type": "markdown",
   "metadata": {},
   "source": [
    "### Модель градиентного бустинга"
   ]
  },
  {
   "cell_type": "code",
   "execution_count": 37,
   "metadata": {},
   "outputs": [],
   "source": [
    "param_grid_gbm = [\n",
    "    # словарь для модели LightGBM\n",
    "\n",
    "    {\n",
    "        'models': [lgb.LGBMRegressor(random_state=RANDOM_STATE)],\n",
    "        'models__n_estimators': [100, 500],\n",
    "        'models__num_leaves': [280, 300, 320],\n",
    "        'models__min_child_samples': [50, 100], \n",
    "        'models__reg_alpha': [0.5, 0.7],\n",
    "        'preprocessor__num': [StandardScaler()],\n",
    "    },\n",
    " \n",
    "]"
   ]
  },
  {
   "cell_type": "code",
   "execution_count": 38,
   "metadata": {
    "scrolled": true
   },
   "outputs": [
    {
     "data": {
      "text/html": [
       "<style>#sk-container-id-2 {\n",
       "  /* Definition of color scheme common for light and dark mode */\n",
       "  --sklearn-color-text: #000;\n",
       "  --sklearn-color-text-muted: #666;\n",
       "  --sklearn-color-line: gray;\n",
       "  /* Definition of color scheme for unfitted estimators */\n",
       "  --sklearn-color-unfitted-level-0: #fff5e6;\n",
       "  --sklearn-color-unfitted-level-1: #f6e4d2;\n",
       "  --sklearn-color-unfitted-level-2: #ffe0b3;\n",
       "  --sklearn-color-unfitted-level-3: chocolate;\n",
       "  /* Definition of color scheme for fitted estimators */\n",
       "  --sklearn-color-fitted-level-0: #f0f8ff;\n",
       "  --sklearn-color-fitted-level-1: #d4ebff;\n",
       "  --sklearn-color-fitted-level-2: #b3dbfd;\n",
       "  --sklearn-color-fitted-level-3: cornflowerblue;\n",
       "\n",
       "  /* Specific color for light theme */\n",
       "  --sklearn-color-text-on-default-background: var(--sg-text-color, var(--theme-code-foreground, var(--jp-content-font-color1, black)));\n",
       "  --sklearn-color-background: var(--sg-background-color, var(--theme-background, var(--jp-layout-color0, white)));\n",
       "  --sklearn-color-border-box: var(--sg-text-color, var(--theme-code-foreground, var(--jp-content-font-color1, black)));\n",
       "  --sklearn-color-icon: #696969;\n",
       "\n",
       "  @media (prefers-color-scheme: dark) {\n",
       "    /* Redefinition of color scheme for dark theme */\n",
       "    --sklearn-color-text-on-default-background: var(--sg-text-color, var(--theme-code-foreground, var(--jp-content-font-color1, white)));\n",
       "    --sklearn-color-background: var(--sg-background-color, var(--theme-background, var(--jp-layout-color0, #111)));\n",
       "    --sklearn-color-border-box: var(--sg-text-color, var(--theme-code-foreground, var(--jp-content-font-color1, white)));\n",
       "    --sklearn-color-icon: #878787;\n",
       "  }\n",
       "}\n",
       "\n",
       "#sk-container-id-2 {\n",
       "  color: var(--sklearn-color-text);\n",
       "}\n",
       "\n",
       "#sk-container-id-2 pre {\n",
       "  padding: 0;\n",
       "}\n",
       "\n",
       "#sk-container-id-2 input.sk-hidden--visually {\n",
       "  border: 0;\n",
       "  clip: rect(1px 1px 1px 1px);\n",
       "  clip: rect(1px, 1px, 1px, 1px);\n",
       "  height: 1px;\n",
       "  margin: -1px;\n",
       "  overflow: hidden;\n",
       "  padding: 0;\n",
       "  position: absolute;\n",
       "  width: 1px;\n",
       "}\n",
       "\n",
       "#sk-container-id-2 div.sk-dashed-wrapped {\n",
       "  border: 1px dashed var(--sklearn-color-line);\n",
       "  margin: 0 0.4em 0.5em 0.4em;\n",
       "  box-sizing: border-box;\n",
       "  padding-bottom: 0.4em;\n",
       "  background-color: var(--sklearn-color-background);\n",
       "}\n",
       "\n",
       "#sk-container-id-2 div.sk-container {\n",
       "  /* jupyter's `normalize.less` sets `[hidden] { display: none; }`\n",
       "     but bootstrap.min.css set `[hidden] { display: none !important; }`\n",
       "     so we also need the `!important` here to be able to override the\n",
       "     default hidden behavior on the sphinx rendered scikit-learn.org.\n",
       "     See: https://github.com/scikit-learn/scikit-learn/issues/21755 */\n",
       "  display: inline-block !important;\n",
       "  position: relative;\n",
       "}\n",
       "\n",
       "#sk-container-id-2 div.sk-text-repr-fallback {\n",
       "  display: none;\n",
       "}\n",
       "\n",
       "div.sk-parallel-item,\n",
       "div.sk-serial,\n",
       "div.sk-item {\n",
       "  /* draw centered vertical line to link estimators */\n",
       "  background-image: linear-gradient(var(--sklearn-color-text-on-default-background), var(--sklearn-color-text-on-default-background));\n",
       "  background-size: 2px 100%;\n",
       "  background-repeat: no-repeat;\n",
       "  background-position: center center;\n",
       "}\n",
       "\n",
       "/* Parallel-specific style estimator block */\n",
       "\n",
       "#sk-container-id-2 div.sk-parallel-item::after {\n",
       "  content: \"\";\n",
       "  width: 100%;\n",
       "  border-bottom: 2px solid var(--sklearn-color-text-on-default-background);\n",
       "  flex-grow: 1;\n",
       "}\n",
       "\n",
       "#sk-container-id-2 div.sk-parallel {\n",
       "  display: flex;\n",
       "  align-items: stretch;\n",
       "  justify-content: center;\n",
       "  background-color: var(--sklearn-color-background);\n",
       "  position: relative;\n",
       "}\n",
       "\n",
       "#sk-container-id-2 div.sk-parallel-item {\n",
       "  display: flex;\n",
       "  flex-direction: column;\n",
       "}\n",
       "\n",
       "#sk-container-id-2 div.sk-parallel-item:first-child::after {\n",
       "  align-self: flex-end;\n",
       "  width: 50%;\n",
       "}\n",
       "\n",
       "#sk-container-id-2 div.sk-parallel-item:last-child::after {\n",
       "  align-self: flex-start;\n",
       "  width: 50%;\n",
       "}\n",
       "\n",
       "#sk-container-id-2 div.sk-parallel-item:only-child::after {\n",
       "  width: 0;\n",
       "}\n",
       "\n",
       "/* Serial-specific style estimator block */\n",
       "\n",
       "#sk-container-id-2 div.sk-serial {\n",
       "  display: flex;\n",
       "  flex-direction: column;\n",
       "  align-items: center;\n",
       "  background-color: var(--sklearn-color-background);\n",
       "  padding-right: 1em;\n",
       "  padding-left: 1em;\n",
       "}\n",
       "\n",
       "\n",
       "/* Toggleable style: style used for estimator/Pipeline/ColumnTransformer box that is\n",
       "clickable and can be expanded/collapsed.\n",
       "- Pipeline and ColumnTransformer use this feature and define the default style\n",
       "- Estimators will overwrite some part of the style using the `sk-estimator` class\n",
       "*/\n",
       "\n",
       "/* Pipeline and ColumnTransformer style (default) */\n",
       "\n",
       "#sk-container-id-2 div.sk-toggleable {\n",
       "  /* Default theme specific background. It is overwritten whether we have a\n",
       "  specific estimator or a Pipeline/ColumnTransformer */\n",
       "  background-color: var(--sklearn-color-background);\n",
       "}\n",
       "\n",
       "/* Toggleable label */\n",
       "#sk-container-id-2 label.sk-toggleable__label {\n",
       "  cursor: pointer;\n",
       "  display: flex;\n",
       "  width: 100%;\n",
       "  margin-bottom: 0;\n",
       "  padding: 0.5em;\n",
       "  box-sizing: border-box;\n",
       "  text-align: center;\n",
       "  align-items: start;\n",
       "  justify-content: space-between;\n",
       "  gap: 0.5em;\n",
       "}\n",
       "\n",
       "#sk-container-id-2 label.sk-toggleable__label .caption {\n",
       "  font-size: 0.6rem;\n",
       "  font-weight: lighter;\n",
       "  color: var(--sklearn-color-text-muted);\n",
       "}\n",
       "\n",
       "#sk-container-id-2 label.sk-toggleable__label-arrow:before {\n",
       "  /* Arrow on the left of the label */\n",
       "  content: \"▸\";\n",
       "  float: left;\n",
       "  margin-right: 0.25em;\n",
       "  color: var(--sklearn-color-icon);\n",
       "}\n",
       "\n",
       "#sk-container-id-2 label.sk-toggleable__label-arrow:hover:before {\n",
       "  color: var(--sklearn-color-text);\n",
       "}\n",
       "\n",
       "/* Toggleable content - dropdown */\n",
       "\n",
       "#sk-container-id-2 div.sk-toggleable__content {\n",
       "  max-height: 0;\n",
       "  max-width: 0;\n",
       "  overflow: hidden;\n",
       "  text-align: left;\n",
       "  /* unfitted */\n",
       "  background-color: var(--sklearn-color-unfitted-level-0);\n",
       "}\n",
       "\n",
       "#sk-container-id-2 div.sk-toggleable__content.fitted {\n",
       "  /* fitted */\n",
       "  background-color: var(--sklearn-color-fitted-level-0);\n",
       "}\n",
       "\n",
       "#sk-container-id-2 div.sk-toggleable__content pre {\n",
       "  margin: 0.2em;\n",
       "  border-radius: 0.25em;\n",
       "  color: var(--sklearn-color-text);\n",
       "  /* unfitted */\n",
       "  background-color: var(--sklearn-color-unfitted-level-0);\n",
       "}\n",
       "\n",
       "#sk-container-id-2 div.sk-toggleable__content.fitted pre {\n",
       "  /* unfitted */\n",
       "  background-color: var(--sklearn-color-fitted-level-0);\n",
       "}\n",
       "\n",
       "#sk-container-id-2 input.sk-toggleable__control:checked~div.sk-toggleable__content {\n",
       "  /* Expand drop-down */\n",
       "  max-height: 200px;\n",
       "  max-width: 100%;\n",
       "  overflow: auto;\n",
       "}\n",
       "\n",
       "#sk-container-id-2 input.sk-toggleable__control:checked~label.sk-toggleable__label-arrow:before {\n",
       "  content: \"▾\";\n",
       "}\n",
       "\n",
       "/* Pipeline/ColumnTransformer-specific style */\n",
       "\n",
       "#sk-container-id-2 div.sk-label input.sk-toggleable__control:checked~label.sk-toggleable__label {\n",
       "  color: var(--sklearn-color-text);\n",
       "  background-color: var(--sklearn-color-unfitted-level-2);\n",
       "}\n",
       "\n",
       "#sk-container-id-2 div.sk-label.fitted input.sk-toggleable__control:checked~label.sk-toggleable__label {\n",
       "  background-color: var(--sklearn-color-fitted-level-2);\n",
       "}\n",
       "\n",
       "/* Estimator-specific style */\n",
       "\n",
       "/* Colorize estimator box */\n",
       "#sk-container-id-2 div.sk-estimator input.sk-toggleable__control:checked~label.sk-toggleable__label {\n",
       "  /* unfitted */\n",
       "  background-color: var(--sklearn-color-unfitted-level-2);\n",
       "}\n",
       "\n",
       "#sk-container-id-2 div.sk-estimator.fitted input.sk-toggleable__control:checked~label.sk-toggleable__label {\n",
       "  /* fitted */\n",
       "  background-color: var(--sklearn-color-fitted-level-2);\n",
       "}\n",
       "\n",
       "#sk-container-id-2 div.sk-label label.sk-toggleable__label,\n",
       "#sk-container-id-2 div.sk-label label {\n",
       "  /* The background is the default theme color */\n",
       "  color: var(--sklearn-color-text-on-default-background);\n",
       "}\n",
       "\n",
       "/* On hover, darken the color of the background */\n",
       "#sk-container-id-2 div.sk-label:hover label.sk-toggleable__label {\n",
       "  color: var(--sklearn-color-text);\n",
       "  background-color: var(--sklearn-color-unfitted-level-2);\n",
       "}\n",
       "\n",
       "/* Label box, darken color on hover, fitted */\n",
       "#sk-container-id-2 div.sk-label.fitted:hover label.sk-toggleable__label.fitted {\n",
       "  color: var(--sklearn-color-text);\n",
       "  background-color: var(--sklearn-color-fitted-level-2);\n",
       "}\n",
       "\n",
       "/* Estimator label */\n",
       "\n",
       "#sk-container-id-2 div.sk-label label {\n",
       "  font-family: monospace;\n",
       "  font-weight: bold;\n",
       "  display: inline-block;\n",
       "  line-height: 1.2em;\n",
       "}\n",
       "\n",
       "#sk-container-id-2 div.sk-label-container {\n",
       "  text-align: center;\n",
       "}\n",
       "\n",
       "/* Estimator-specific */\n",
       "#sk-container-id-2 div.sk-estimator {\n",
       "  font-family: monospace;\n",
       "  border: 1px dotted var(--sklearn-color-border-box);\n",
       "  border-radius: 0.25em;\n",
       "  box-sizing: border-box;\n",
       "  margin-bottom: 0.5em;\n",
       "  /* unfitted */\n",
       "  background-color: var(--sklearn-color-unfitted-level-0);\n",
       "}\n",
       "\n",
       "#sk-container-id-2 div.sk-estimator.fitted {\n",
       "  /* fitted */\n",
       "  background-color: var(--sklearn-color-fitted-level-0);\n",
       "}\n",
       "\n",
       "/* on hover */\n",
       "#sk-container-id-2 div.sk-estimator:hover {\n",
       "  /* unfitted */\n",
       "  background-color: var(--sklearn-color-unfitted-level-2);\n",
       "}\n",
       "\n",
       "#sk-container-id-2 div.sk-estimator.fitted:hover {\n",
       "  /* fitted */\n",
       "  background-color: var(--sklearn-color-fitted-level-2);\n",
       "}\n",
       "\n",
       "/* Specification for estimator info (e.g. \"i\" and \"?\") */\n",
       "\n",
       "/* Common style for \"i\" and \"?\" */\n",
       "\n",
       ".sk-estimator-doc-link,\n",
       "a:link.sk-estimator-doc-link,\n",
       "a:visited.sk-estimator-doc-link {\n",
       "  float: right;\n",
       "  font-size: smaller;\n",
       "  line-height: 1em;\n",
       "  font-family: monospace;\n",
       "  background-color: var(--sklearn-color-background);\n",
       "  border-radius: 1em;\n",
       "  height: 1em;\n",
       "  width: 1em;\n",
       "  text-decoration: none !important;\n",
       "  margin-left: 0.5em;\n",
       "  text-align: center;\n",
       "  /* unfitted */\n",
       "  border: var(--sklearn-color-unfitted-level-1) 1pt solid;\n",
       "  color: var(--sklearn-color-unfitted-level-1);\n",
       "}\n",
       "\n",
       ".sk-estimator-doc-link.fitted,\n",
       "a:link.sk-estimator-doc-link.fitted,\n",
       "a:visited.sk-estimator-doc-link.fitted {\n",
       "  /* fitted */\n",
       "  border: var(--sklearn-color-fitted-level-1) 1pt solid;\n",
       "  color: var(--sklearn-color-fitted-level-1);\n",
       "}\n",
       "\n",
       "/* On hover */\n",
       "div.sk-estimator:hover .sk-estimator-doc-link:hover,\n",
       ".sk-estimator-doc-link:hover,\n",
       "div.sk-label-container:hover .sk-estimator-doc-link:hover,\n",
       ".sk-estimator-doc-link:hover {\n",
       "  /* unfitted */\n",
       "  background-color: var(--sklearn-color-unfitted-level-3);\n",
       "  color: var(--sklearn-color-background);\n",
       "  text-decoration: none;\n",
       "}\n",
       "\n",
       "div.sk-estimator.fitted:hover .sk-estimator-doc-link.fitted:hover,\n",
       ".sk-estimator-doc-link.fitted:hover,\n",
       "div.sk-label-container:hover .sk-estimator-doc-link.fitted:hover,\n",
       ".sk-estimator-doc-link.fitted:hover {\n",
       "  /* fitted */\n",
       "  background-color: var(--sklearn-color-fitted-level-3);\n",
       "  color: var(--sklearn-color-background);\n",
       "  text-decoration: none;\n",
       "}\n",
       "\n",
       "/* Span, style for the box shown on hovering the info icon */\n",
       ".sk-estimator-doc-link span {\n",
       "  display: none;\n",
       "  z-index: 9999;\n",
       "  position: relative;\n",
       "  font-weight: normal;\n",
       "  right: .2ex;\n",
       "  padding: .5ex;\n",
       "  margin: .5ex;\n",
       "  width: min-content;\n",
       "  min-width: 20ex;\n",
       "  max-width: 50ex;\n",
       "  color: var(--sklearn-color-text);\n",
       "  box-shadow: 2pt 2pt 4pt #999;\n",
       "  /* unfitted */\n",
       "  background: var(--sklearn-color-unfitted-level-0);\n",
       "  border: .5pt solid var(--sklearn-color-unfitted-level-3);\n",
       "}\n",
       "\n",
       ".sk-estimator-doc-link.fitted span {\n",
       "  /* fitted */\n",
       "  background: var(--sklearn-color-fitted-level-0);\n",
       "  border: var(--sklearn-color-fitted-level-3);\n",
       "}\n",
       "\n",
       ".sk-estimator-doc-link:hover span {\n",
       "  display: block;\n",
       "}\n",
       "\n",
       "/* \"?\"-specific style due to the `<a>` HTML tag */\n",
       "\n",
       "#sk-container-id-2 a.estimator_doc_link {\n",
       "  float: right;\n",
       "  font-size: 1rem;\n",
       "  line-height: 1em;\n",
       "  font-family: monospace;\n",
       "  background-color: var(--sklearn-color-background);\n",
       "  border-radius: 1rem;\n",
       "  height: 1rem;\n",
       "  width: 1rem;\n",
       "  text-decoration: none;\n",
       "  /* unfitted */\n",
       "  color: var(--sklearn-color-unfitted-level-1);\n",
       "  border: var(--sklearn-color-unfitted-level-1) 1pt solid;\n",
       "}\n",
       "\n",
       "#sk-container-id-2 a.estimator_doc_link.fitted {\n",
       "  /* fitted */\n",
       "  border: var(--sklearn-color-fitted-level-1) 1pt solid;\n",
       "  color: var(--sklearn-color-fitted-level-1);\n",
       "}\n",
       "\n",
       "/* On hover */\n",
       "#sk-container-id-2 a.estimator_doc_link:hover {\n",
       "  /* unfitted */\n",
       "  background-color: var(--sklearn-color-unfitted-level-3);\n",
       "  color: var(--sklearn-color-background);\n",
       "  text-decoration: none;\n",
       "}\n",
       "\n",
       "#sk-container-id-2 a.estimator_doc_link.fitted:hover {\n",
       "  /* fitted */\n",
       "  background-color: var(--sklearn-color-fitted-level-3);\n",
       "}\n",
       "</style><div id=\"sk-container-id-2\" class=\"sk-top-container\"><div class=\"sk-text-repr-fallback\"><pre>RandomizedSearchCV(cv=TimeSeriesSplit(gap=0, max_train_size=None, n_splits=5, test_size=None),\n",
       "                   estimator=Pipeline(steps=[(&#x27;preprocessor&#x27;,\n",
       "                                              ColumnTransformer(remainder=&#x27;passthrough&#x27;,\n",
       "                                                                transformers=[(&#x27;ohe&#x27;,\n",
       "                                                                               Pipeline(steps=[(&#x27;ohe&#x27;,\n",
       "                                                                                                OneHotEncoder(drop=&#x27;first&#x27;,\n",
       "                                                                                                              handle_unknown=&#x27;ignore&#x27;,\n",
       "                                                                                                              sparse_output=False))]),\n",
       "                                                                               [&#x27;day&#x27;,\n",
       "                                                                                &#x27;dayofweek&#x27;,\n",
       "                                                                                &#x27;hour&#x27;]),\n",
       "                                                                              (&#x27;num&#x27;,\n",
       "                                                                               StandardScaler(),\n",
       "                                                                               [&#x27;la...\n",
       "                                                                                &#x27;lag_24&#x27;])])),\n",
       "                                             (&#x27;models&#x27;,\n",
       "                                              LGBMRegressor(random_state=12345))]),\n",
       "                   n_jobs=-1,\n",
       "                   param_distributions=[{&#x27;models&#x27;: [LGBMRegressor(random_state=12345)],\n",
       "                                         &#x27;models__min_child_samples&#x27;: [50, 100],\n",
       "                                         &#x27;models__n_estimators&#x27;: [100, 500],\n",
       "                                         &#x27;models__num_leaves&#x27;: [280, 300, 320],\n",
       "                                         &#x27;models__reg_alpha&#x27;: [0.5, 0.7],\n",
       "                                         &#x27;preprocessor__num&#x27;: [StandardScaler()]}],\n",
       "                   scoring=&#x27;neg_root_mean_squared_error&#x27;)</pre><b>In a Jupyter environment, please rerun this cell to show the HTML representation or trust the notebook. <br />On GitHub, the HTML representation is unable to render, please try loading this page with nbviewer.org.</b></div><div class=\"sk-container\" hidden><div class=\"sk-item sk-dashed-wrapped\"><div class=\"sk-label-container\"><div class=\"sk-label fitted sk-toggleable\"><input class=\"sk-toggleable__control sk-hidden--visually\" id=\"sk-estimator-id-11\" type=\"checkbox\" ><label for=\"sk-estimator-id-11\" class=\"sk-toggleable__label fitted sk-toggleable__label-arrow\"><div><div>RandomizedSearchCV</div></div><div><a class=\"sk-estimator-doc-link fitted\" rel=\"noreferrer\" target=\"_blank\" href=\"https://scikit-learn.org/1.6/modules/generated/sklearn.model_selection.RandomizedSearchCV.html\">?<span>Documentation for RandomizedSearchCV</span></a><span class=\"sk-estimator-doc-link fitted\">i<span>Fitted</span></span></div></label><div class=\"sk-toggleable__content fitted\"><pre>RandomizedSearchCV(cv=TimeSeriesSplit(gap=0, max_train_size=None, n_splits=5, test_size=None),\n",
       "                   estimator=Pipeline(steps=[(&#x27;preprocessor&#x27;,\n",
       "                                              ColumnTransformer(remainder=&#x27;passthrough&#x27;,\n",
       "                                                                transformers=[(&#x27;ohe&#x27;,\n",
       "                                                                               Pipeline(steps=[(&#x27;ohe&#x27;,\n",
       "                                                                                                OneHotEncoder(drop=&#x27;first&#x27;,\n",
       "                                                                                                              handle_unknown=&#x27;ignore&#x27;,\n",
       "                                                                                                              sparse_output=False))]),\n",
       "                                                                               [&#x27;day&#x27;,\n",
       "                                                                                &#x27;dayofweek&#x27;,\n",
       "                                                                                &#x27;hour&#x27;]),\n",
       "                                                                              (&#x27;num&#x27;,\n",
       "                                                                               StandardScaler(),\n",
       "                                                                               [&#x27;la...\n",
       "                                                                                &#x27;lag_24&#x27;])])),\n",
       "                                             (&#x27;models&#x27;,\n",
       "                                              LGBMRegressor(random_state=12345))]),\n",
       "                   n_jobs=-1,\n",
       "                   param_distributions=[{&#x27;models&#x27;: [LGBMRegressor(random_state=12345)],\n",
       "                                         &#x27;models__min_child_samples&#x27;: [50, 100],\n",
       "                                         &#x27;models__n_estimators&#x27;: [100, 500],\n",
       "                                         &#x27;models__num_leaves&#x27;: [280, 300, 320],\n",
       "                                         &#x27;models__reg_alpha&#x27;: [0.5, 0.7],\n",
       "                                         &#x27;preprocessor__num&#x27;: [StandardScaler()]}],\n",
       "                   scoring=&#x27;neg_root_mean_squared_error&#x27;)</pre></div> </div></div><div class=\"sk-parallel\"><div class=\"sk-parallel-item\"><div class=\"sk-item\"><div class=\"sk-label-container\"><div class=\"sk-label fitted sk-toggleable\"><input class=\"sk-toggleable__control sk-hidden--visually\" id=\"sk-estimator-id-12\" type=\"checkbox\" ><label for=\"sk-estimator-id-12\" class=\"sk-toggleable__label fitted sk-toggleable__label-arrow\"><div><div>best_estimator_: Pipeline</div></div></label><div class=\"sk-toggleable__content fitted\"><pre>Pipeline(steps=[(&#x27;preprocessor&#x27;,\n",
       "                 ColumnTransformer(remainder=&#x27;passthrough&#x27;,\n",
       "                                   transformers=[(&#x27;ohe&#x27;,\n",
       "                                                  Pipeline(steps=[(&#x27;ohe&#x27;,\n",
       "                                                                   OneHotEncoder(drop=&#x27;first&#x27;,\n",
       "                                                                                 handle_unknown=&#x27;ignore&#x27;,\n",
       "                                                                                 sparse_output=False))]),\n",
       "                                                  [&#x27;day&#x27;, &#x27;dayofweek&#x27;, &#x27;hour&#x27;]),\n",
       "                                                 (&#x27;num&#x27;, StandardScaler(),\n",
       "                                                  [&#x27;lag_1&#x27;, &#x27;lag_2&#x27;, &#x27;lag_3&#x27;,\n",
       "                                                   &#x27;lag_4&#x27;, &#x27;lag_5&#x27;, &#x27;lag_6&#x27;,\n",
       "                                                   &#x27;lag_7&#x27;, &#x27;lag_8&#x27;, &#x27;lag_9&#x27;,\n",
       "                                                   &#x27;lag_10&#x27;, &#x27;lag_21&#x27;, &#x27;lag_22&#x27;,\n",
       "                                                   &#x27;lag_23&#x27;, &#x27;lag_24&#x27;])])),\n",
       "                (&#x27;models&#x27;,\n",
       "                 LGBMRegressor(min_child_samples=50, num_leaves=320,\n",
       "                               random_state=12345, reg_alpha=0.7))])</pre></div> </div></div><div class=\"sk-serial\"><div class=\"sk-item\"><div class=\"sk-serial\"><div class=\"sk-item sk-dashed-wrapped\"><div class=\"sk-label-container\"><div class=\"sk-label fitted sk-toggleable\"><input class=\"sk-toggleable__control sk-hidden--visually\" id=\"sk-estimator-id-13\" type=\"checkbox\" ><label for=\"sk-estimator-id-13\" class=\"sk-toggleable__label fitted sk-toggleable__label-arrow\"><div><div>preprocessor: ColumnTransformer</div></div><div><a class=\"sk-estimator-doc-link fitted\" rel=\"noreferrer\" target=\"_blank\" href=\"https://scikit-learn.org/1.6/modules/generated/sklearn.compose.ColumnTransformer.html\">?<span>Documentation for preprocessor: ColumnTransformer</span></a></div></label><div class=\"sk-toggleable__content fitted\"><pre>ColumnTransformer(remainder=&#x27;passthrough&#x27;,\n",
       "                  transformers=[(&#x27;ohe&#x27;,\n",
       "                                 Pipeline(steps=[(&#x27;ohe&#x27;,\n",
       "                                                  OneHotEncoder(drop=&#x27;first&#x27;,\n",
       "                                                                handle_unknown=&#x27;ignore&#x27;,\n",
       "                                                                sparse_output=False))]),\n",
       "                                 [&#x27;day&#x27;, &#x27;dayofweek&#x27;, &#x27;hour&#x27;]),\n",
       "                                (&#x27;num&#x27;, StandardScaler(),\n",
       "                                 [&#x27;lag_1&#x27;, &#x27;lag_2&#x27;, &#x27;lag_3&#x27;, &#x27;lag_4&#x27;, &#x27;lag_5&#x27;,\n",
       "                                  &#x27;lag_6&#x27;, &#x27;lag_7&#x27;, &#x27;lag_8&#x27;, &#x27;lag_9&#x27;, &#x27;lag_10&#x27;,\n",
       "                                  &#x27;lag_21&#x27;, &#x27;lag_22&#x27;, &#x27;lag_23&#x27;, &#x27;lag_24&#x27;])])</pre></div> </div></div><div class=\"sk-parallel\"><div class=\"sk-parallel-item\"><div class=\"sk-item\"><div class=\"sk-label-container\"><div class=\"sk-label fitted sk-toggleable\"><input class=\"sk-toggleable__control sk-hidden--visually\" id=\"sk-estimator-id-14\" type=\"checkbox\" ><label for=\"sk-estimator-id-14\" class=\"sk-toggleable__label fitted sk-toggleable__label-arrow\"><div><div>ohe</div></div></label><div class=\"sk-toggleable__content fitted\"><pre>[&#x27;day&#x27;, &#x27;dayofweek&#x27;, &#x27;hour&#x27;]</pre></div> </div></div><div class=\"sk-serial\"><div class=\"sk-item\"><div class=\"sk-serial\"><div class=\"sk-item\"><div class=\"sk-estimator fitted sk-toggleable\"><input class=\"sk-toggleable__control sk-hidden--visually\" id=\"sk-estimator-id-15\" type=\"checkbox\" ><label for=\"sk-estimator-id-15\" class=\"sk-toggleable__label fitted sk-toggleable__label-arrow\"><div><div>OneHotEncoder</div></div><div><a class=\"sk-estimator-doc-link fitted\" rel=\"noreferrer\" target=\"_blank\" href=\"https://scikit-learn.org/1.6/modules/generated/sklearn.preprocessing.OneHotEncoder.html\">?<span>Documentation for OneHotEncoder</span></a></div></label><div class=\"sk-toggleable__content fitted\"><pre>OneHotEncoder(drop=&#x27;first&#x27;, handle_unknown=&#x27;ignore&#x27;, sparse_output=False)</pre></div> </div></div></div></div></div></div></div><div class=\"sk-parallel-item\"><div class=\"sk-item\"><div class=\"sk-label-container\"><div class=\"sk-label fitted sk-toggleable\"><input class=\"sk-toggleable__control sk-hidden--visually\" id=\"sk-estimator-id-16\" type=\"checkbox\" ><label for=\"sk-estimator-id-16\" class=\"sk-toggleable__label fitted sk-toggleable__label-arrow\"><div><div>num</div></div></label><div class=\"sk-toggleable__content fitted\"><pre>[&#x27;lag_1&#x27;, &#x27;lag_2&#x27;, &#x27;lag_3&#x27;, &#x27;lag_4&#x27;, &#x27;lag_5&#x27;, &#x27;lag_6&#x27;, &#x27;lag_7&#x27;, &#x27;lag_8&#x27;, &#x27;lag_9&#x27;, &#x27;lag_10&#x27;, &#x27;lag_21&#x27;, &#x27;lag_22&#x27;, &#x27;lag_23&#x27;, &#x27;lag_24&#x27;]</pre></div> </div></div><div class=\"sk-serial\"><div class=\"sk-item\"><div class=\"sk-estimator fitted sk-toggleable\"><input class=\"sk-toggleable__control sk-hidden--visually\" id=\"sk-estimator-id-17\" type=\"checkbox\" ><label for=\"sk-estimator-id-17\" class=\"sk-toggleable__label fitted sk-toggleable__label-arrow\"><div><div>StandardScaler</div></div><div><a class=\"sk-estimator-doc-link fitted\" rel=\"noreferrer\" target=\"_blank\" href=\"https://scikit-learn.org/1.6/modules/generated/sklearn.preprocessing.StandardScaler.html\">?<span>Documentation for StandardScaler</span></a></div></label><div class=\"sk-toggleable__content fitted\"><pre>StandardScaler()</pre></div> </div></div></div></div></div><div class=\"sk-parallel-item\"><div class=\"sk-item\"><div class=\"sk-label-container\"><div class=\"sk-label fitted sk-toggleable\"><input class=\"sk-toggleable__control sk-hidden--visually\" id=\"sk-estimator-id-18\" type=\"checkbox\" ><label for=\"sk-estimator-id-18\" class=\"sk-toggleable__label fitted sk-toggleable__label-arrow\"><div><div>remainder</div></div></label><div class=\"sk-toggleable__content fitted\"><pre>[&#x27;lag_11&#x27;, &#x27;lag_12&#x27;, &#x27;lag_13&#x27;, &#x27;lag_14&#x27;, &#x27;lag_15&#x27;, &#x27;lag_16&#x27;, &#x27;lag_17&#x27;, &#x27;lag_18&#x27;, &#x27;lag_19&#x27;, &#x27;lag_20&#x27;, &#x27;rolling_mean&#x27;]</pre></div> </div></div><div class=\"sk-serial\"><div class=\"sk-item\"><div class=\"sk-estimator fitted sk-toggleable\"><input class=\"sk-toggleable__control sk-hidden--visually\" id=\"sk-estimator-id-19\" type=\"checkbox\" ><label for=\"sk-estimator-id-19\" class=\"sk-toggleable__label fitted sk-toggleable__label-arrow\"><div><div>passthrough</div></div></label><div class=\"sk-toggleable__content fitted\"><pre>passthrough</pre></div> </div></div></div></div></div></div></div><div class=\"sk-item\"><div class=\"sk-estimator fitted sk-toggleable\"><input class=\"sk-toggleable__control sk-hidden--visually\" id=\"sk-estimator-id-20\" type=\"checkbox\" ><label for=\"sk-estimator-id-20\" class=\"sk-toggleable__label fitted sk-toggleable__label-arrow\"><div><div>LGBMRegressor</div></div></label><div class=\"sk-toggleable__content fitted\"><pre>LGBMRegressor(min_child_samples=50, num_leaves=320, random_state=12345,\n",
       "              reg_alpha=0.7)</pre></div> </div></div></div></div></div></div></div></div></div></div></div>"
      ],
      "text/plain": [
       "RandomizedSearchCV(cv=TimeSeriesSplit(gap=0, max_train_size=None, n_splits=5, test_size=None),\n",
       "                   estimator=Pipeline(steps=[('preprocessor',\n",
       "                                              ColumnTransformer(remainder='passthrough',\n",
       "                                                                transformers=[('ohe',\n",
       "                                                                               Pipeline(steps=[('ohe',\n",
       "                                                                                                OneHotEncoder(drop='first',\n",
       "                                                                                                              handle_unknown='ignore',\n",
       "                                                                                                              sparse_output=False))]),\n",
       "                                                                               ['day',\n",
       "                                                                                'dayofweek',\n",
       "                                                                                'hour']),\n",
       "                                                                              ('num',\n",
       "                                                                               StandardScaler(),\n",
       "                                                                               ['la...\n",
       "                                                                                'lag_24'])])),\n",
       "                                             ('models',\n",
       "                                              LGBMRegressor(random_state=12345))]),\n",
       "                   n_jobs=-1,\n",
       "                   param_distributions=[{'models': [LGBMRegressor(random_state=12345)],\n",
       "                                         'models__min_child_samples': [50, 100],\n",
       "                                         'models__n_estimators': [100, 500],\n",
       "                                         'models__num_leaves': [280, 300, 320],\n",
       "                                         'models__reg_alpha': [0.5, 0.7],\n",
       "                                         'preprocessor__num': [StandardScaler()]}],\n",
       "                   scoring='neg_root_mean_squared_error')"
      ]
     },
     "execution_count": 38,
     "metadata": {},
     "output_type": "execute_result"
    }
   ],
   "source": [
    "grid_gbm = RandomizedSearchCV(\n",
    "                          pipe_final_gbm,\n",
    "                          param_grid_gbm,\n",
    "                          scoring='neg_root_mean_squared_error',\n",
    "                          cv=tscv,\n",
    "                          n_jobs=-1,\n",
    "                          n_iter=10)\n",
    "\n",
    "grid_gbm.fit(X_train, y_train)\n"
   ]
  },
  {
   "cell_type": "code",
   "execution_count": 39,
   "metadata": {},
   "outputs": [
    {
     "name": "stdout",
     "output_type": "stream",
     "text": [
      "Pipeline(steps=[('preprocessor',\n",
      "                 ColumnTransformer(remainder='passthrough',\n",
      "                                   transformers=[('ohe',\n",
      "                                                  Pipeline(steps=[('ohe',\n",
      "                                                                   OneHotEncoder(drop='first',\n",
      "                                                                                 handle_unknown='ignore',\n",
      "                                                                                 sparse_output=False))]),\n",
      "                                                  ['day', 'dayofweek', 'hour']),\n",
      "                                                 ('num', StandardScaler(),\n",
      "                                                  ['lag_1', 'lag_2', 'lag_3',\n",
      "                                                   'lag_4', 'lag_5', 'lag_6',\n",
      "                                                   'lag_7', 'lag_8', 'lag_9',\n",
      "                                                   'lag_10', 'lag_21', 'lag_22',\n",
      "                                                   'lag_23', 'lag_24'])])),\n",
      "                ('models',\n",
      "                 LGBMRegressor(min_child_samples=50, num_leaves=320,\n",
      "                               random_state=12345, reg_alpha=0.7))])\n",
      "Метрика RMSE при кросс-валидации:  25.506473742704628\n"
     ]
    }
   ],
   "source": [
    "print(grid_gbm.best_estimator_)\n",
    "print('Метрика RMSE при кросс-валидации: ', abs(grid_gbm.best_score_))"
   ]
  },
  {
   "cell_type": "markdown",
   "metadata": {},
   "source": [
    "**Вывод:** были обучены три модели для прогнозирования временных рядов: линейная регрессия, дерево решений, градиентный бустинг LightGBM. Лучшей стала модель градиентого бустинга с параметрами min_child_samples=50, num_leaves=320, random_state=12345, reg_alpha=0.7 и метрика RMSE 25.51"
   ]
  },
  {
   "cell_type": "markdown",
   "metadata": {},
   "source": [
    "## Тестирование"
   ]
  },
  {
   "cell_type": "markdown",
   "metadata": {},
   "source": [
    "Проверим модель на тестовых данных "
   ]
  },
  {
   "cell_type": "code",
   "execution_count": 40,
   "metadata": {},
   "outputs": [],
   "source": [
    "best_model_gbm = grid_gbm.best_estimator_\n",
    "lgbm_test_rmse = mean_squared_error(y_test, best_model_gbm.predict(X_test)) ** 0.5"
   ]
  },
  {
   "cell_type": "code",
   "execution_count": 41,
   "metadata": {},
   "outputs": [
    {
     "name": "stdout",
     "output_type": "stream",
     "text": [
      "RMSE на тестовых данных: 43.01\n"
     ]
    }
   ],
   "source": [
    "print('RMSE на тестовых данных:', np.round(lgbm_test_rmse, 2))"
   ]
  },
  {
   "cell_type": "code",
   "execution_count": 43,
   "metadata": {},
   "outputs": [
    {
     "data": {
      "image/png": "[encoded data removed]",
      "text/plain": [
       "<Figure size 720x360 with 1 Axes>"
      ]
     },
     "metadata": {
      "needs_background": "light"
     },
     "output_type": "display_data"
    }
   ],
   "source": [
    "df_result = pd.DataFrame(y_test)\n",
    "df_result['pred'] = np.round(best_model_gbm.predict(X_test), 4)\n",
    "df_result.columns = ['true', 'pred']\n",
    "df_result.resample('1D').sum().plot(figsize=(10, 5), grid=True, xlabel='Дата', ylabel='Число заказов')\n",
    "plt.title('True/pred values vizalization', fontsize=14)\n",
    "plt.show()"
   ]
  },
  {
   "cell_type": "markdown",
   "metadata": {},
   "source": [
    "Сравним модель с dummy предсказанием по предыдущему значению ряда (тот же час с предыдущих суток)"
   ]
  },
  {
   "cell_type": "code",
   "execution_count": 44,
   "metadata": {},
   "outputs": [
    {
     "name": "stdout",
     "output_type": "stream",
     "text": [
      "RMSE: 56.30034072174533\n"
     ]
    }
   ],
   "source": [
    "pred_previous = y_test.shift(24)[24:]\n",
    "print(\"RMSE:\", mean_squared_error(y_test[24:], pred_previous) ** 0.5)"
   ]
  },
  {
   "cell_type": "markdown",
   "metadata": {},
   "source": [
    "**Вывод:** модель обучена и протестирована на тестовых данных. RMSE = 36.67, что лучше простейшей dummy модели"
   ]
  },
  {
   "cell_type": "markdown",
   "metadata": {},
   "source": [
    "## Чек-лист проверки"
   ]
  },
  {
   "cell_type": "markdown",
   "metadata": {},
   "source": [
    "- [x]  Jupyter Notebook открыт\n",
    "- [x]  Весь код выполняется без ошибок\n",
    "- [x]  Ячейки с кодом расположены в порядке исполнения\n",
    "- [x]  Данные загружены и подготовлены\n",
    "- [x]  Данные проанализированы\n",
    "- [x]  Модель обучена, гиперпараметры подобраны\n",
    "- [x]  Качество моделей проверено, выводы сделаны\n",
    "- [x]  Значение *RMSE* на тестовой выборке не больше 48"
   ]
  },
  {
   "cell_type": "markdown",
   "metadata": {},
   "source": [
    "# Вывод"
   ]
  },
  {
   "cell_type": "markdown",
   "metadata": {},
   "source": [
    "В ходе проекта были выполнены:\n",
    "1. Подготовка данных. В датасете при выгрузке в качестве индекса была установлена дата, предоставленные данные отсортированы в хронологическом порядке Данные предоставлены за период с 1 марта 2018 года по 31 августа 2018 года с интервалом 10 минут. Было выполнено ресэмплирование с интервалом в 1 час.\n",
    "2. Анализ данных. Видим, тренд на увеличение числа заказов. Возможно, это связано с наступлением летнего периода или с расширением бизнеса. Период сезонности - сутки: ежедневно мы видим два пика - около 12:00 и около 18:00. К 6:00 наблюдается провал активности\n",
    "3. были обучены четыре модели для прогнозирования временных рядов: линейная регрессия, дерево решений, градиентный бустинг LightGBM и градиентный бустинг CatBoost. Лучшей стала модель градиентого бустинга с параметрами LightGBM num_leaves=280 и метрика RMSE 30.09\n",
    "4. На тестовых данных модель с указанными параметрами даёт результат RMSE=46.25"
   ]
  }
 ],
 "metadata": {
  "ExecuteTimeLog": [
   {
    "duration": 11193,
    "start_time": "2025-10-28T20:24:16.774Z"
   },
   {
    "duration": 1757,
    "start_time": "2025-10-28T20:24:51.893Z"
   },
   {
    "duration": 5,
    "start_time": "2025-10-28T20:26:05.495Z"
   },
   {
    "duration": 50,
    "start_time": "2025-10-28T20:27:07.672Z"
   },
   {
    "duration": 8,
    "start_time": "2025-10-28T20:27:55.489Z"
   },
   {
    "duration": 88,
    "start_time": "2025-10-28T20:28:04.712Z"
   },
   {
    "duration": 7,
    "start_time": "2025-10-28T20:28:36.261Z"
   },
   {
    "duration": 38,
    "start_time": "2025-10-28T20:28:38.930Z"
   },
   {
    "duration": 5,
    "start_time": "2025-10-28T20:29:52.095Z"
   },
   {
    "duration": 30,
    "start_time": "2025-10-28T20:29:54.035Z"
   },
   {
    "duration": 70,
    "start_time": "2025-10-28T20:30:21.425Z"
   },
   {
    "duration": 5,
    "start_time": "2025-10-28T20:30:46.994Z"
   },
   {
    "duration": 29,
    "start_time": "2025-10-28T20:30:51.463Z"
   },
   {
    "duration": 6,
    "start_time": "2025-10-28T20:31:09.381Z"
   },
   {
    "duration": 21,
    "start_time": "2025-10-28T20:31:11.144Z"
   },
   {
    "duration": 5,
    "start_time": "2025-10-28T20:31:18.671Z"
   },
   {
    "duration": 27,
    "start_time": "2025-10-28T20:31:20.812Z"
   },
   {
    "duration": 5,
    "start_time": "2025-10-28T21:08:22.753Z"
   },
   {
    "duration": 12,
    "start_time": "2025-10-28T21:09:20.892Z"
   },
   {
    "duration": 9,
    "start_time": "2025-10-28T21:09:30.871Z"
   },
   {
    "duration": 12,
    "start_time": "2025-10-28T21:09:35.927Z"
   },
   {
    "duration": 11,
    "start_time": "2025-10-28T21:09:42.290Z"
   },
   {
    "duration": 13,
    "start_time": "2025-10-28T21:10:49.290Z"
   },
   {
    "duration": 4,
    "start_time": "2025-10-28T21:19:54.453Z"
   },
   {
    "duration": 10,
    "start_time": "2025-10-28T21:21:44.454Z"
   },
   {
    "duration": 23,
    "start_time": "2025-10-28T21:22:45.770Z"
   },
   {
    "duration": 4,
    "start_time": "2025-10-28T21:22:52.629Z"
   },
   {
    "duration": 943,
    "start_time": "2025-10-28T21:22:56.795Z"
   },
   {
    "duration": 797,
    "start_time": "2025-10-28T21:23:12.506Z"
   },
   {
    "duration": 201,
    "start_time": "2025-10-28T21:23:44.191Z"
   },
   {
    "duration": 290,
    "start_time": "2025-10-28T21:23:49.777Z"
   },
   {
    "duration": 477,
    "start_time": "2025-10-28T21:23:58.833Z"
   },
   {
    "duration": 322,
    "start_time": "2025-10-28T21:24:05.029Z"
   },
   {
    "duration": 366,
    "start_time": "2025-10-28T21:24:11.895Z"
   },
   {
    "duration": 5,
    "start_time": "2025-10-28T21:25:19.776Z"
   },
   {
    "duration": 380,
    "start_time": "2025-10-28T21:25:44.623Z"
   },
   {
    "duration": 391,
    "start_time": "2025-10-28T21:25:50.343Z"
   },
   {
    "duration": 1186,
    "start_time": "2025-10-28T21:26:07.394Z"
   },
   {
    "duration": 440,
    "start_time": "2025-10-28T21:26:15.690Z"
   },
   {
    "duration": 13,
    "start_time": "2025-10-28T21:26:22.577Z"
   },
   {
    "duration": 295,
    "start_time": "2025-10-28T21:26:34.140Z"
   },
   {
    "duration": 281,
    "start_time": "2025-10-28T21:26:39.693Z"
   },
   {
    "duration": 335,
    "start_time": "2025-10-28T21:28:24.910Z"
   },
   {
    "duration": 36,
    "start_time": "2025-10-28T21:30:06.827Z"
   },
   {
    "duration": 743,
    "start_time": "2025-10-28T21:30:10.092Z"
   },
   {
    "duration": 1180,
    "start_time": "2025-10-28T21:30:15.125Z"
   },
   {
    "duration": 1515,
    "start_time": "2025-10-28T21:30:19.319Z"
   },
   {
    "duration": 18,
    "start_time": "2025-10-28T21:30:27.405Z"
   },
   {
    "duration": 354,
    "start_time": "2025-10-28T21:30:30.125Z"
   },
   {
    "duration": 635,
    "start_time": "2025-10-28T21:30:33.027Z"
   },
   {
    "duration": 623,
    "start_time": "2025-10-28T21:31:03.168Z"
   },
   {
    "duration": 471,
    "start_time": "2025-10-28T21:31:15.246Z"
   },
   {
    "duration": 321,
    "start_time": "2025-10-28T21:32:18.522Z"
   },
   {
    "duration": 314,
    "start_time": "2025-10-28T21:32:35.127Z"
   },
   {
    "duration": 324,
    "start_time": "2025-10-28T21:32:49.445Z"
   },
   {
    "duration": 337,
    "start_time": "2025-10-28T21:33:01.834Z"
   },
   {
    "duration": 383,
    "start_time": "2025-10-28T21:33:07.183Z"
   },
   {
    "duration": 383,
    "start_time": "2025-10-28T21:33:21.368Z"
   },
   {
    "duration": 494,
    "start_time": "2025-10-28T21:33:30.941Z"
   },
   {
    "duration": 352,
    "start_time": "2025-10-28T21:33:37.046Z"
   },
   {
    "duration": 378,
    "start_time": "2025-10-28T21:34:18.065Z"
   },
   {
    "duration": 340,
    "start_time": "2025-10-28T21:34:26.905Z"
   },
   {
    "duration": 103,
    "start_time": "2025-10-28T21:35:14.910Z"
   },
   {
    "duration": 98,
    "start_time": "2025-10-28T21:39:41.151Z"
   },
   {
    "duration": 11,
    "start_time": "2025-10-28T21:39:55.120Z"
   },
   {
    "duration": 11,
    "start_time": "2025-10-28T21:40:21.959Z"
   },
   {
    "duration": 11,
    "start_time": "2025-10-28T21:41:37.654Z"
   },
   {
    "duration": 273,
    "start_time": "2025-10-28T21:41:45.015Z"
   },
   {
    "duration": 607,
    "start_time": "2025-10-28T21:41:58.500Z"
   },
   {
    "duration": 341,
    "start_time": "2025-10-28T21:42:15.733Z"
   },
   {
    "duration": 242,
    "start_time": "2025-10-28T21:42:22.995Z"
   },
   {
    "duration": 14,
    "start_time": "2025-10-28T21:42:47.165Z"
   },
   {
    "duration": 1354,
    "start_time": "2025-10-28T21:43:08.054Z"
   },
   {
    "duration": 241,
    "start_time": "2025-10-28T21:43:24.646Z"
   },
   {
    "duration": 11,
    "start_time": "2025-10-28T21:48:08.041Z"
   },
   {
    "duration": 10,
    "start_time": "2025-10-28T21:48:12.799Z"
   },
   {
    "duration": 10,
    "start_time": "2025-10-28T21:48:15.127Z"
   },
   {
    "duration": 1263,
    "start_time": "2025-10-28T21:48:21.349Z"
   },
   {
    "duration": 4,
    "start_time": "2025-10-28T21:48:44.469Z"
   },
   {
    "duration": 11,
    "start_time": "2025-10-28T21:48:48.033Z"
   },
   {
    "duration": 11,
    "start_time": "2025-10-28T21:48:54.539Z"
   },
   {
    "duration": 16,
    "start_time": "2025-10-28T21:48:59.628Z"
   },
   {
    "duration": 2,
    "start_time": "2025-10-28T21:49:22.787Z"
   },
   {
    "duration": 4,
    "start_time": "2025-10-28T21:49:27.865Z"
   },
   {
    "duration": 35,
    "start_time": "2025-10-28T21:49:41.217Z"
   },
   {
    "duration": 178,
    "start_time": "2025-10-28T21:49:41.851Z"
   },
   {
    "duration": 4,
    "start_time": "2025-10-28T21:49:43.425Z"
   },
   {
    "duration": 12,
    "start_time": "2025-10-28T21:49:44.397Z"
   },
   {
    "duration": 11,
    "start_time": "2025-10-28T21:49:56.419Z"
   },
   {
    "duration": 12,
    "start_time": "2025-10-28T21:49:57.315Z"
   },
   {
    "duration": 5,
    "start_time": "2025-10-28T21:50:55.258Z"
   },
   {
    "duration": 19,
    "start_time": "2025-10-28T21:52:23.205Z"
   },
   {
    "duration": 6,
    "start_time": "2025-10-28T21:56:11.619Z"
   },
   {
    "duration": 19,
    "start_time": "2025-10-28T21:56:40.830Z"
   },
   {
    "duration": 34,
    "start_time": "2025-10-28T21:57:48.293Z"
   },
   {
    "duration": 26,
    "start_time": "2025-10-28T21:57:48.673Z"
   },
   {
    "duration": 4,
    "start_time": "2025-10-28T21:57:49.472Z"
   },
   {
    "duration": 13,
    "start_time": "2025-10-28T21:57:50.130Z"
   },
   {
    "duration": 16,
    "start_time": "2025-10-28T21:57:56.329Z"
   },
   {
    "duration": 11,
    "start_time": "2025-10-28T21:57:57.279Z"
   },
   {
    "duration": 5,
    "start_time": "2025-10-28T21:58:00.361Z"
   },
   {
    "duration": 5,
    "start_time": "2025-10-28T21:58:00.716Z"
   },
   {
    "duration": 16,
    "start_time": "2025-10-28T21:58:01.904Z"
   },
   {
    "duration": 31,
    "start_time": "2025-10-28T21:59:03.637Z"
   },
   {
    "duration": 484,
    "start_time": "2025-10-28T21:59:08.678Z"
   },
   {
    "duration": 658,
    "start_time": "2025-10-28T21:59:25.905Z"
   },
   {
    "duration": 54,
    "start_time": "2025-10-29T17:02:42.256Z"
   },
   {
    "duration": 1482,
    "start_time": "2025-10-29T17:03:37.373Z"
   },
   {
    "duration": 0,
    "start_time": "2025-10-29T17:03:38.857Z"
   },
   {
    "duration": 11228,
    "start_time": "2025-10-29T17:03:52.723Z"
   },
   {
    "duration": 292,
    "start_time": "2025-10-29T17:04:03.954Z"
   },
   {
    "duration": 6,
    "start_time": "2025-10-29T17:04:04.247Z"
   },
   {
    "duration": 65,
    "start_time": "2025-10-29T17:04:04.254Z"
   },
   {
    "duration": 72,
    "start_time": "2025-10-29T17:04:04.321Z"
   },
   {
    "duration": 69,
    "start_time": "2025-10-29T17:04:04.394Z"
   },
   {
    "duration": 28,
    "start_time": "2025-10-29T17:04:04.465Z"
   },
   {
    "duration": 417,
    "start_time": "2025-10-29T17:04:04.494Z"
   },
   {
    "duration": 440,
    "start_time": "2025-10-29T17:04:04.912Z"
   },
   {
    "duration": 409,
    "start_time": "2025-10-29T17:04:05.354Z"
   },
   {
    "duration": 888,
    "start_time": "2025-10-29T17:04:05.765Z"
   },
   {
    "duration": 279,
    "start_time": "2025-10-29T17:04:06.655Z"
   },
   {
    "duration": 3,
    "start_time": "2025-10-29T17:04:06.936Z"
   },
   {
    "duration": 31,
    "start_time": "2025-10-29T17:04:06.943Z"
   },
   {
    "duration": 11,
    "start_time": "2025-10-29T17:04:06.976Z"
   },
   {
    "duration": 82,
    "start_time": "2025-10-29T17:04:06.989Z"
   },
   {
    "duration": 20,
    "start_time": "2025-10-29T17:04:07.073Z"
   },
   {
    "duration": 165,
    "start_time": "2025-10-29T17:04:07.095Z"
   },
   {
    "duration": 4,
    "start_time": "2025-10-29T17:04:07.262Z"
   },
   {
    "duration": 399,
    "start_time": "2025-10-29T17:41:16.146Z"
   },
   {
    "duration": 50,
    "start_time": "2025-10-29T17:41:20.196Z"
   },
   {
    "duration": 55,
    "start_time": "2025-10-29T17:41:24.914Z"
   },
   {
    "duration": 78,
    "start_time": "2025-10-29T17:41:29.870Z"
   },
   {
    "duration": 11,
    "start_time": "2025-10-29T17:59:35.483Z"
   },
   {
    "duration": 49,
    "start_time": "2025-10-29T17:59:41.497Z"
   },
   {
    "duration": 24,
    "start_time": "2025-10-29T17:59:51.786Z"
   },
   {
    "duration": 3,
    "start_time": "2025-10-29T18:00:27.413Z"
   },
   {
    "duration": 4,
    "start_time": "2025-10-29T18:06:04.517Z"
   },
   {
    "duration": 37,
    "start_time": "2025-10-29T18:06:49.993Z"
   },
   {
    "duration": 11,
    "start_time": "2025-10-29T18:07:04.923Z"
   },
   {
    "duration": 11,
    "start_time": "2025-10-29T18:07:36.608Z"
   },
   {
    "duration": 597,
    "start_time": "2025-10-29T18:07:51.163Z"
   },
   {
    "duration": 12,
    "start_time": "2025-10-29T18:08:09.130Z"
   },
   {
    "duration": 5,
    "start_time": "2025-10-29T18:09:27.440Z"
   },
   {
    "duration": 7,
    "start_time": "2025-10-29T18:09:37.609Z"
   },
   {
    "duration": 1756,
    "start_time": "2025-10-29T18:09:53.207Z"
   },
   {
    "duration": 7,
    "start_time": "2025-10-29T18:09:58.642Z"
   },
   {
    "duration": 3437,
    "start_time": "2025-10-29T18:10:24.832Z"
   },
   {
    "duration": 9,
    "start_time": "2025-10-29T18:10:33.302Z"
   },
   {
    "duration": 14,
    "start_time": "2025-10-29T18:12:28.345Z"
   },
   {
    "duration": 4,
    "start_time": "2025-10-29T18:12:51.156Z"
   },
   {
    "duration": 4,
    "start_time": "2025-10-29T18:13:11.528Z"
   },
   {
    "duration": 5309,
    "start_time": "2025-10-29T18:13:19.976Z"
   },
   {
    "duration": 6,
    "start_time": "2025-10-29T18:13:25.288Z"
   },
   {
    "duration": 44,
    "start_time": "2025-10-29T18:13:25.296Z"
   },
   {
    "duration": 55,
    "start_time": "2025-10-29T18:13:25.341Z"
   },
   {
    "duration": 32,
    "start_time": "2025-10-29T18:13:25.399Z"
   },
   {
    "duration": 8,
    "start_time": "2025-10-29T18:13:25.433Z"
   },
   {
    "duration": 46,
    "start_time": "2025-10-29T18:13:25.443Z"
   },
   {
    "duration": 363,
    "start_time": "2025-10-29T18:13:25.491Z"
   },
   {
    "duration": 496,
    "start_time": "2025-10-29T18:13:25.856Z"
   },
   {
    "duration": 413,
    "start_time": "2025-10-29T18:13:26.354Z"
   },
   {
    "duration": 875,
    "start_time": "2025-10-29T18:13:26.769Z"
   },
   {
    "duration": 281,
    "start_time": "2025-10-29T18:13:27.646Z"
   },
   {
    "duration": 4,
    "start_time": "2025-10-29T18:13:27.929Z"
   },
   {
    "duration": 23,
    "start_time": "2025-10-29T18:13:27.941Z"
   },
   {
    "duration": 15,
    "start_time": "2025-10-29T18:13:27.966Z"
   },
   {
    "duration": 9,
    "start_time": "2025-10-29T18:13:27.983Z"
   },
   {
    "duration": 13,
    "start_time": "2025-10-29T18:13:27.994Z"
   },
   {
    "duration": 634,
    "start_time": "2025-10-29T18:13:28.008Z"
   },
   {
    "duration": 3740,
    "start_time": "2025-10-29T18:13:28.644Z"
   },
   {
    "duration": 5,
    "start_time": "2025-10-29T18:13:32.386Z"
   },
   {
    "duration": 19,
    "start_time": "2025-10-29T18:13:32.393Z"
   },
   {
    "duration": 27,
    "start_time": "2025-10-29T18:13:32.414Z"
   },
   {
    "duration": 10,
    "start_time": "2025-10-29T18:17:05.599Z"
   },
   {
    "duration": 703694,
    "start_time": "2025-10-29T18:17:23.555Z"
   },
   {
    "duration": 4,
    "start_time": "2025-10-29T18:29:07.251Z"
   },
   {
    "duration": 23,
    "start_time": "2025-10-29T18:51:27.405Z"
   },
   {
    "duration": 9,
    "start_time": "2025-10-29T18:51:40.389Z"
   },
   {
    "duration": 10,
    "start_time": "2025-10-29T18:51:51.255Z"
   },
   {
    "duration": 7,
    "start_time": "2025-10-29T18:52:55.500Z"
   },
   {
    "duration": 12,
    "start_time": "2025-10-29T18:53:05.601Z"
   },
   {
    "duration": 12,
    "start_time": "2025-10-29T18:53:55.291Z"
   },
   {
    "duration": 255,
    "start_time": "2025-10-29T18:54:30.318Z"
   },
   {
    "duration": 4085,
    "start_time": "2025-10-29T18:57:16.558Z"
   },
   {
    "duration": 5189,
    "start_time": "2025-10-29T18:57:35.373Z"
   },
   {
    "duration": 5402,
    "start_time": "2025-10-29T18:57:48.150Z"
   },
   {
    "duration": 22636,
    "start_time": "2025-10-29T18:58:11.310Z"
   },
   {
    "duration": 4126,
    "start_time": "2025-10-29T18:58:40.731Z"
   },
   {
    "duration": 1971,
    "start_time": "2025-10-29T18:58:52.379Z"
   },
   {
    "duration": 292946,
    "start_time": "2025-10-29T18:58:58.514Z"
   },
   {
    "duration": 0,
    "start_time": "2025-10-29T19:03:51.462Z"
   },
   {
    "duration": 0,
    "start_time": "2025-10-29T19:03:51.463Z"
   },
   {
    "duration": 90,
    "start_time": "2025-10-29T19:03:57.323Z"
   },
   {
    "duration": 4,
    "start_time": "2025-10-29T19:04:22.995Z"
   },
   {
    "duration": 3,
    "start_time": "2025-10-29T19:04:29.738Z"
   },
   {
    "duration": 15,
    "start_time": "2025-10-29T19:04:32.795Z"
   },
   {
    "duration": 3,
    "start_time": "2025-10-29T19:04:43.645Z"
   },
   {
    "duration": 198114,
    "start_time": "2025-10-29T19:04:45.236Z"
   },
   {
    "duration": 3,
    "start_time": "2025-10-29T19:08:34.548Z"
   },
   {
    "duration": 14,
    "start_time": "2025-10-29T19:09:04.551Z"
   },
   {
    "duration": 4,
    "start_time": "2025-10-29T19:09:36.177Z"
   },
   {
    "duration": 5396,
    "start_time": "2025-10-29T19:09:42.132Z"
   },
   {
    "duration": 6,
    "start_time": "2025-10-29T19:09:47.530Z"
   },
   {
    "duration": 6,
    "start_time": "2025-10-29T19:09:47.537Z"
   },
   {
    "duration": 62,
    "start_time": "2025-10-29T19:09:47.545Z"
   },
   {
    "duration": 33,
    "start_time": "2025-10-29T19:09:47.609Z"
   },
   {
    "duration": 5,
    "start_time": "2025-10-29T19:09:47.643Z"
   },
   {
    "duration": 16,
    "start_time": "2025-10-29T19:09:47.650Z"
   },
   {
    "duration": 375,
    "start_time": "2025-10-29T19:09:47.668Z"
   },
   {
    "duration": 367,
    "start_time": "2025-10-29T19:09:48.044Z"
   },
   {
    "duration": 434,
    "start_time": "2025-10-29T19:09:48.413Z"
   },
   {
    "duration": 906,
    "start_time": "2025-10-29T19:09:48.849Z"
   },
   {
    "duration": 276,
    "start_time": "2025-10-29T19:09:49.757Z"
   },
   {
    "duration": 8,
    "start_time": "2025-10-29T19:09:50.034Z"
   },
   {
    "duration": 35,
    "start_time": "2025-10-29T19:09:50.045Z"
   },
   {
    "duration": 12,
    "start_time": "2025-10-29T19:09:50.082Z"
   },
   {
    "duration": 10,
    "start_time": "2025-10-29T19:09:50.095Z"
   },
   {
    "duration": 15,
    "start_time": "2025-10-29T19:09:50.106Z"
   },
   {
    "duration": 336,
    "start_time": "2025-10-29T19:09:50.123Z"
   },
   {
    "duration": 3446,
    "start_time": "2025-10-29T19:09:50.461Z"
   },
   {
    "duration": 4,
    "start_time": "2025-10-29T19:09:53.908Z"
   },
   {
    "duration": 5,
    "start_time": "2025-10-29T19:09:53.914Z"
   },
   {
    "duration": 166833,
    "start_time": "2025-10-29T19:09:53.920Z"
   },
   {
    "duration": 4,
    "start_time": "2025-10-29T19:12:40.755Z"
   },
   {
    "duration": 83,
    "start_time": "2025-10-29T19:12:40.760Z"
   },
   {
    "duration": 279,
    "start_time": "2025-10-29T19:12:40.845Z"
   },
   {
    "duration": 4,
    "start_time": "2025-10-29T19:13:01.537Z"
   },
   {
    "duration": 3,
    "start_time": "2025-10-29T19:13:37.482Z"
   },
   {
    "duration": 248930,
    "start_time": "2025-10-29T19:13:38.513Z"
   },
   {
    "duration": 6,
    "start_time": "2025-10-29T19:18:04.273Z"
   },
   {
    "duration": 5,
    "start_time": "2025-10-29T19:18:27.096Z"
   },
   {
    "duration": 133180,
    "start_time": "2025-10-29T19:18:27.969Z"
   },
   {
    "duration": 4,
    "start_time": "2025-10-29T19:20:47.355Z"
   },
   {
    "duration": 11,
    "start_time": "2025-10-29T19:20:50.870Z"
   },
   {
    "duration": 4,
    "start_time": "2025-10-29T19:21:21.327Z"
   },
   {
    "duration": 120289,
    "start_time": "2025-10-29T19:21:22.366Z"
   },
   {
    "duration": 4,
    "start_time": "2025-10-29T19:23:30.185Z"
   },
   {
    "duration": 12,
    "start_time": "2025-10-29T19:23:34.310Z"
   },
   {
    "duration": 4,
    "start_time": "2025-10-29T19:24:03.096Z"
   },
   {
    "duration": 5417,
    "start_time": "2025-10-29T19:24:08.346Z"
   },
   {
    "duration": 5,
    "start_time": "2025-10-29T19:24:13.766Z"
   },
   {
    "duration": 7,
    "start_time": "2025-10-29T19:24:13.773Z"
   },
   {
    "duration": 61,
    "start_time": "2025-10-29T19:24:13.781Z"
   },
   {
    "duration": 30,
    "start_time": "2025-10-29T19:24:13.845Z"
   },
   {
    "duration": 3,
    "start_time": "2025-10-29T19:24:13.877Z"
   },
   {
    "duration": 12,
    "start_time": "2025-10-29T19:24:13.882Z"
   },
   {
    "duration": 385,
    "start_time": "2025-10-29T19:24:13.896Z"
   },
   {
    "duration": 363,
    "start_time": "2025-10-29T19:24:14.283Z"
   },
   {
    "duration": 409,
    "start_time": "2025-10-29T19:24:14.648Z"
   },
   {
    "duration": 986,
    "start_time": "2025-10-29T19:24:15.059Z"
   },
   {
    "duration": 307,
    "start_time": "2025-10-29T19:24:16.047Z"
   },
   {
    "duration": 5,
    "start_time": "2025-10-29T19:24:16.357Z"
   },
   {
    "duration": 25,
    "start_time": "2025-10-29T19:24:16.364Z"
   },
   {
    "duration": 12,
    "start_time": "2025-10-29T19:24:16.390Z"
   },
   {
    "duration": 8,
    "start_time": "2025-10-29T19:24:16.404Z"
   },
   {
    "duration": 33,
    "start_time": "2025-10-29T19:24:16.414Z"
   },
   {
    "duration": 204,
    "start_time": "2025-10-29T19:24:16.449Z"
   },
   {
    "duration": 3246,
    "start_time": "2025-10-29T19:24:16.655Z"
   },
   {
    "duration": 5,
    "start_time": "2025-10-29T19:24:19.903Z"
   },
   {
    "duration": 4,
    "start_time": "2025-10-29T19:24:19.910Z"
   },
   {
    "duration": 110332,
    "start_time": "2025-10-29T19:24:19.916Z"
   },
   {
    "duration": 4,
    "start_time": "2025-10-29T19:26:10.250Z"
   },
   {
    "duration": 12,
    "start_time": "2025-10-29T19:26:10.255Z"
   },
   {
    "duration": 340,
    "start_time": "2025-10-29T19:26:10.268Z"
   },
   {
    "duration": 3,
    "start_time": "2025-10-29T19:28:04.451Z"
   },
   {
    "duration": 875360,
    "start_time": "2025-10-29T19:28:04.894Z"
   },
   {
    "duration": 5,
    "start_time": "2025-10-29T19:42:40.257Z"
   },
   {
    "duration": 87,
    "start_time": "2025-10-29T19:42:40.264Z"
   },
   {
    "duration": 321,
    "start_time": "2025-10-29T19:42:40.354Z"
   },
   {
    "duration": 4,
    "start_time": "2025-10-29T19:43:24.097Z"
   },
   {
    "duration": 11,
    "start_time": "2025-10-29T19:43:26.980Z"
   },
   {
    "duration": 7,
    "start_time": "2025-10-29T19:43:55.302Z"
   },
   {
    "duration": 245,
    "start_time": "2025-10-29T19:46:57.116Z"
   },
   {
    "duration": 7,
    "start_time": "2025-10-29T19:47:11.127Z"
   },
   {
    "duration": 13,
    "start_time": "2025-10-29T19:47:17.567Z"
   },
   {
    "duration": 293,
    "start_time": "2025-10-29T19:47:19.452Z"
   },
   {
    "duration": 567401,
    "start_time": "2025-10-29T19:47:54.647Z"
   },
   {
    "duration": 5,
    "start_time": "2025-10-29T19:57:22.050Z"
   },
   {
    "duration": 17,
    "start_time": "2025-10-29T19:57:22.056Z"
   },
   {
    "duration": 344,
    "start_time": "2025-10-29T19:57:22.075Z"
   },
   {
    "duration": 4,
    "start_time": "2025-10-29T19:57:45.140Z"
   },
   {
    "duration": 30,
    "start_time": "2025-10-29T19:57:49.012Z"
   },
   {
    "duration": 3,
    "start_time": "2025-10-29T19:58:06.283Z"
   },
   {
    "duration": 3,
    "start_time": "2025-10-29T19:58:22.556Z"
   },
   {
    "duration": 82118,
    "start_time": "2025-10-29T19:58:23.033Z"
   },
   {
    "duration": 4,
    "start_time": "2025-10-29T19:59:45.153Z"
   },
   {
    "duration": 20,
    "start_time": "2025-10-29T19:59:45.158Z"
   },
   {
    "duration": 333,
    "start_time": "2025-10-29T19:59:45.180Z"
   },
   {
    "duration": 4,
    "start_time": "2025-10-29T19:59:56.689Z"
   },
   {
    "duration": 22,
    "start_time": "2025-10-29T20:00:54.544Z"
   },
   {
    "duration": 13,
    "start_time": "2025-10-29T20:02:43.275Z"
   },
   {
    "duration": 5,
    "start_time": "2025-10-29T20:03:15.471Z"
   },
   {
    "duration": 120830,
    "start_time": "2025-10-29T20:03:21.712Z"
   },
   {
    "duration": 9,
    "start_time": "2025-10-29T20:06:45.437Z"
   },
   {
    "duration": 4,
    "start_time": "2025-10-29T20:08:29.997Z"
   },
   {
    "duration": 8,
    "start_time": "2025-10-29T20:08:45.644Z"
   },
   {
    "duration": 4,
    "start_time": "2025-10-29T20:08:49.535Z"
   },
   {
    "duration": 4,
    "start_time": "2025-10-29T20:08:57.013Z"
   },
   {
    "duration": 4,
    "start_time": "2025-10-29T20:09:01.357Z"
   },
   {
    "duration": 9,
    "start_time": "2025-10-29T20:09:18.049Z"
   },
   {
    "duration": 4,
    "start_time": "2025-10-29T20:09:33.012Z"
   },
   {
    "duration": 4,
    "start_time": "2025-10-29T20:09:40.325Z"
   },
   {
    "duration": 4,
    "start_time": "2025-10-29T20:10:15.835Z"
   },
   {
    "duration": 10,
    "start_time": "2025-10-29T20:11:59.125Z"
   },
   {
    "duration": 7,
    "start_time": "2025-10-29T20:12:15.549Z"
   },
   {
    "duration": 110,
    "start_time": "2025-10-29T20:14:58.626Z"
   },
   {
    "duration": 90,
    "start_time": "2025-10-29T20:15:06.711Z"
   },
   {
    "duration": 446454,
    "start_time": "2025-10-29T20:15:17.590Z"
   },
   {
    "duration": 6,
    "start_time": "2025-10-29T20:24:07.709Z"
   },
   {
    "duration": 2995,
    "start_time": "2025-10-29T20:25:48.050Z"
   },
   {
    "duration": 21211,
    "start_time": "2025-10-29T20:26:24.382Z"
   },
   {
    "duration": 8,
    "start_time": "2025-10-29T20:26:52.608Z"
   },
   {
    "duration": 2729,
    "start_time": "2025-10-29T20:27:12.639Z"
   },
   {
    "duration": 2750,
    "start_time": "2025-10-29T20:27:25.608Z"
   },
   {
    "duration": 2820,
    "start_time": "2025-10-29T20:27:41.904Z"
   },
   {
    "duration": 733,
    "start_time": "2025-10-29T20:27:56.782Z"
   },
   {
    "duration": 16696,
    "start_time": "2025-10-29T20:28:06.937Z"
   },
   {
    "duration": 20876,
    "start_time": "2025-10-29T20:28:35.421Z"
   },
   {
    "duration": 8,
    "start_time": "2025-10-29T20:29:01.471Z"
   },
   {
    "duration": 19988,
    "start_time": "2025-10-29T20:29:10.327Z"
   },
   {
    "duration": 8,
    "start_time": "2025-10-29T20:29:40.445Z"
   },
   {
    "duration": 21179,
    "start_time": "2025-10-29T20:29:45.920Z"
   },
   {
    "duration": 8,
    "start_time": "2025-10-29T20:30:10.448Z"
   },
   {
    "duration": 10923,
    "start_time": "2025-10-29T20:30:19.562Z"
   },
   {
    "duration": 3766,
    "start_time": "2025-10-29T20:30:33.463Z"
   },
   {
    "duration": 7,
    "start_time": "2025-10-29T20:30:44.595Z"
   },
   {
    "duration": 2380,
    "start_time": "2025-10-29T20:30:58.306Z"
   },
   {
    "duration": 2739,
    "start_time": "2025-10-29T20:31:10.614Z"
   },
   {
    "duration": 2359,
    "start_time": "2025-10-29T20:31:22.206Z"
   },
   {
    "duration": 2425,
    "start_time": "2025-10-29T20:32:04.662Z"
   },
   {
    "duration": 2313,
    "start_time": "2025-10-29T20:32:17.591Z"
   },
   {
    "duration": 2311,
    "start_time": "2025-10-29T20:32:31.756Z"
   },
   {
    "duration": 6,
    "start_time": "2025-10-29T20:32:38.005Z"
   },
   {
    "duration": 2292,
    "start_time": "2025-10-29T20:32:49.346Z"
   },
   {
    "duration": 2571,
    "start_time": "2025-10-29T20:32:59.919Z"
   },
   {
    "duration": 2015,
    "start_time": "2025-10-29T20:33:08.684Z"
   },
   {
    "duration": 6,
    "start_time": "2025-10-29T20:33:14.380Z"
   },
   {
    "duration": 1685,
    "start_time": "2025-10-29T20:34:10.576Z"
   },
   {
    "duration": 6,
    "start_time": "2025-10-29T20:34:17.804Z"
   },
   {
    "duration": 1796,
    "start_time": "2025-10-29T20:34:29.286Z"
   },
   {
    "duration": 5,
    "start_time": "2025-10-29T20:34:36.059Z"
   },
   {
    "duration": 1675,
    "start_time": "2025-10-29T20:34:40.969Z"
   },
   {
    "duration": 6,
    "start_time": "2025-10-29T20:34:47.924Z"
   },
   {
    "duration": 3981,
    "start_time": "2025-10-29T20:35:59.987Z"
   },
   {
    "duration": 7,
    "start_time": "2025-10-29T20:36:10.058Z"
   },
   {
    "duration": 5182,
    "start_time": "2025-10-29T20:36:17.927Z"
   },
   {
    "duration": 7,
    "start_time": "2025-10-29T20:36:23.111Z"
   },
   {
    "duration": 2382,
    "start_time": "2025-10-29T20:36:28.178Z"
   },
   {
    "duration": 5,
    "start_time": "2025-10-29T20:36:31.786Z"
   },
   {
    "duration": 2503,
    "start_time": "2025-10-29T20:36:39.984Z"
   },
   {
    "duration": 6,
    "start_time": "2025-10-29T20:36:46.023Z"
   },
   {
    "duration": 246,
    "start_time": "2025-10-29T20:36:49.725Z"
   },
   {
    "duration": 13,
    "start_time": "2025-10-29T20:37:29.665Z"
   },
   {
    "duration": 244,
    "start_time": "2025-10-29T20:37:36.326Z"
   },
   {
    "duration": 2463,
    "start_time": "2025-10-29T20:37:51.700Z"
   },
   {
    "duration": 6,
    "start_time": "2025-10-29T20:37:56.954Z"
   },
   {
    "duration": 2585,
    "start_time": "2025-10-29T20:38:05.798Z"
   },
   {
    "duration": 5,
    "start_time": "2025-10-29T20:38:10.134Z"
   },
   {
    "duration": 3961,
    "start_time": "2025-10-29T20:38:23.496Z"
   },
   {
    "duration": 7,
    "start_time": "2025-10-29T20:38:27.620Z"
   },
   {
    "duration": 4428,
    "start_time": "2025-10-29T20:38:33.289Z"
   },
   {
    "duration": 7,
    "start_time": "2025-10-29T20:38:41.380Z"
   },
   {
    "duration": 4139,
    "start_time": "2025-10-29T20:38:48.066Z"
   },
   {
    "duration": 6,
    "start_time": "2025-10-29T20:38:52.622Z"
   },
   {
    "duration": 4365,
    "start_time": "2025-10-29T20:39:00.744Z"
   },
   {
    "duration": 6,
    "start_time": "2025-10-29T20:39:06.575Z"
   },
   {
    "duration": 7192,
    "start_time": "2025-10-29T20:39:11.008Z"
   },
   {
    "duration": 6,
    "start_time": "2025-10-29T20:39:18.202Z"
   },
   {
    "duration": 6712,
    "start_time": "2025-10-29T20:39:33.909Z"
   },
   {
    "duration": 6,
    "start_time": "2025-10-29T20:39:44.609Z"
   },
   {
    "duration": 3700,
    "start_time": "2025-10-29T20:39:53.066Z"
   },
   {
    "duration": 5,
    "start_time": "2025-10-29T20:39:56.768Z"
   },
   {
    "duration": 2823,
    "start_time": "2025-10-29T20:40:01.271Z"
   },
   {
    "duration": 6,
    "start_time": "2025-10-29T20:40:05.379Z"
   },
   {
    "duration": 1391,
    "start_time": "2025-10-29T20:40:09.964Z"
   },
   {
    "duration": 5,
    "start_time": "2025-10-29T20:40:14.473Z"
   },
   {
    "duration": 1158,
    "start_time": "2025-10-29T20:40:22.144Z"
   },
   {
    "duration": 6,
    "start_time": "2025-10-29T20:40:26.017Z"
   },
   {
    "duration": 1094,
    "start_time": "2025-10-29T20:40:32.501Z"
   },
   {
    "duration": 6,
    "start_time": "2025-10-29T20:40:36.346Z"
   },
   {
    "duration": 1065,
    "start_time": "2025-10-29T20:40:41.266Z"
   },
   {
    "duration": 5,
    "start_time": "2025-10-29T20:40:44.864Z"
   },
   {
    "duration": 1507,
    "start_time": "2025-10-29T20:40:53.967Z"
   },
   {
    "duration": 5,
    "start_time": "2025-10-29T20:40:59.629Z"
   },
   {
    "duration": 924,
    "start_time": "2025-10-29T20:41:05.527Z"
   },
   {
    "duration": 6,
    "start_time": "2025-10-29T20:41:09.130Z"
   },
   {
    "duration": 2965,
    "start_time": "2025-10-29T20:41:15.542Z"
   },
   {
    "duration": 6,
    "start_time": "2025-10-29T20:41:20.689Z"
   },
   {
    "duration": 2958,
    "start_time": "2025-10-29T20:41:27.575Z"
   },
   {
    "duration": 6,
    "start_time": "2025-10-29T20:41:32.673Z"
   },
   {
    "duration": 1221,
    "start_time": "2025-10-29T20:41:38.874Z"
   },
   {
    "duration": 6,
    "start_time": "2025-10-29T20:41:43.845Z"
   },
   {
    "duration": 955,
    "start_time": "2025-10-29T20:41:51.489Z"
   },
   {
    "duration": 5,
    "start_time": "2025-10-29T20:41:55.072Z"
   },
   {
    "duration": 819,
    "start_time": "2025-10-29T20:42:03.771Z"
   },
   {
    "duration": 6,
    "start_time": "2025-10-29T20:42:07.258Z"
   },
   {
    "duration": 868,
    "start_time": "2025-10-29T20:42:13.791Z"
   },
   {
    "duration": 6,
    "start_time": "2025-10-29T20:42:17.161Z"
   },
   {
    "duration": 790,
    "start_time": "2025-10-29T20:42:54.920Z"
   },
   {
    "duration": 6,
    "start_time": "2025-10-29T20:42:58.131Z"
   },
   {
    "duration": 1039,
    "start_time": "2025-10-29T20:43:02.010Z"
   },
   {
    "duration": 6,
    "start_time": "2025-10-29T20:43:05.982Z"
   },
   {
    "duration": 1020,
    "start_time": "2025-10-29T20:43:12.916Z"
   },
   {
    "duration": 7,
    "start_time": "2025-10-29T20:43:21.221Z"
   },
   {
    "duration": 1009,
    "start_time": "2025-10-29T20:43:28.627Z"
   },
   {
    "duration": 5,
    "start_time": "2025-10-29T20:43:33.028Z"
   },
   {
    "duration": 5,
    "start_time": "2025-10-29T20:45:13.842Z"
   },
   {
    "duration": 5,
    "start_time": "2025-10-29T20:45:14.749Z"
   },
   {
    "duration": 37,
    "start_time": "2025-10-29T20:45:15.831Z"
   },
   {
    "duration": 27,
    "start_time": "2025-10-29T20:45:16.373Z"
   },
   {
    "duration": 4,
    "start_time": "2025-10-29T20:45:17.059Z"
   },
   {
    "duration": 13,
    "start_time": "2025-10-29T20:45:17.781Z"
   },
   {
    "duration": 341,
    "start_time": "2025-10-29T20:45:19.258Z"
   },
   {
    "duration": 365,
    "start_time": "2025-10-29T20:45:19.732Z"
   },
   {
    "duration": 505,
    "start_time": "2025-10-29T20:45:20.243Z"
   },
   {
    "duration": 834,
    "start_time": "2025-10-29T20:45:21.264Z"
   },
   {
    "duration": 281,
    "start_time": "2025-10-29T20:45:22.100Z"
   },
   {
    "duration": 5,
    "start_time": "2025-10-29T20:45:23.746Z"
   },
   {
    "duration": 14,
    "start_time": "2025-10-29T20:45:24.113Z"
   },
   {
    "duration": 10,
    "start_time": "2025-10-29T20:45:25.008Z"
   },
   {
    "duration": 4,
    "start_time": "2025-10-29T20:45:26.614Z"
   },
   {
    "duration": 11,
    "start_time": "2025-10-29T20:45:27.378Z"
   },
   {
    "duration": 23,
    "start_time": "2025-10-29T20:45:29.863Z"
   },
   {
    "duration": 2699,
    "start_time": "2025-10-29T20:45:38.027Z"
   },
   {
    "duration": 4,
    "start_time": "2025-10-29T20:45:40.727Z"
   },
   {
    "duration": 854,
    "start_time": "2025-10-29T20:45:51.112Z"
   },
   {
    "duration": 6,
    "start_time": "2025-10-29T20:45:56.300Z"
   },
   {
    "duration": 5,
    "start_time": "2025-10-29T20:46:12.035Z"
   },
   {
    "duration": 6,
    "start_time": "2025-10-29T20:46:12.299Z"
   },
   {
    "duration": 36,
    "start_time": "2025-10-29T20:46:12.977Z"
   },
   {
    "duration": 33,
    "start_time": "2025-10-29T20:46:13.268Z"
   },
   {
    "duration": 5,
    "start_time": "2025-10-29T20:46:13.945Z"
   },
   {
    "duration": 13,
    "start_time": "2025-10-29T20:46:14.520Z"
   },
   {
    "duration": 355,
    "start_time": "2025-10-29T20:46:15.593Z"
   },
   {
    "duration": 391,
    "start_time": "2025-10-29T20:46:15.950Z"
   },
   {
    "duration": 528,
    "start_time": "2025-10-29T20:46:16.343Z"
   },
   {
    "duration": 865,
    "start_time": "2025-10-29T20:46:16.873Z"
   },
   {
    "duration": 271,
    "start_time": "2025-10-29T20:46:17.742Z"
   },
   {
    "duration": 4,
    "start_time": "2025-10-29T20:46:18.176Z"
   },
   {
    "duration": 16,
    "start_time": "2025-10-29T20:46:18.617Z"
   },
   {
    "duration": 13,
    "start_time": "2025-10-29T20:46:19.003Z"
   },
   {
    "duration": 5,
    "start_time": "2025-10-29T20:46:20.064Z"
   },
   {
    "duration": 11,
    "start_time": "2025-10-29T20:46:20.504Z"
   },
   {
    "duration": 26,
    "start_time": "2025-10-29T20:46:22.263Z"
   },
   {
    "duration": 845,
    "start_time": "2025-10-29T20:46:27.834Z"
   },
   {
    "duration": 6,
    "start_time": "2025-10-29T20:46:32.503Z"
   },
   {
    "duration": 878,
    "start_time": "2025-10-29T20:46:39.191Z"
   },
   {
    "duration": 7,
    "start_time": "2025-10-29T20:46:47.572Z"
   },
   {
    "duration": 4,
    "start_time": "2025-10-29T20:47:32.950Z"
   },
   {
    "duration": 24,
    "start_time": "2025-10-29T20:47:48.240Z"
   },
   {
    "duration": 1043,
    "start_time": "2025-10-29T20:48:00.232Z"
   },
   {
    "duration": 952,
    "start_time": "2025-10-29T20:48:04.309Z"
   },
   {
    "duration": 6,
    "start_time": "2025-10-29T20:48:08.617Z"
   },
   {
    "duration": 1052,
    "start_time": "2025-10-29T20:48:16.783Z"
   },
   {
    "duration": 5,
    "start_time": "2025-10-29T20:48:20.388Z"
   },
   {
    "duration": 1000,
    "start_time": "2025-10-29T20:48:41.789Z"
   },
   {
    "duration": 5,
    "start_time": "2025-10-29T20:48:45.849Z"
   },
   {
    "duration": 1783,
    "start_time": "2025-10-29T20:48:54.823Z"
   },
   {
    "duration": 6,
    "start_time": "2025-10-29T20:48:58.755Z"
   },
   {
    "duration": 882,
    "start_time": "2025-10-29T20:49:03.910Z"
   },
   {
    "duration": 6,
    "start_time": "2025-10-29T20:49:07.628Z"
   },
   {
    "duration": 1651,
    "start_time": "2025-10-29T20:49:21.601Z"
   },
   {
    "duration": 832,
    "start_time": "2025-10-29T20:49:28.190Z"
   },
   {
    "duration": 7,
    "start_time": "2025-10-29T20:49:32.229Z"
   },
   {
    "duration": 4,
    "start_time": "2025-10-29T20:50:34.168Z"
   },
   {
    "duration": 6,
    "start_time": "2025-10-29T20:50:34.545Z"
   },
   {
    "duration": 36,
    "start_time": "2025-10-29T20:50:35.073Z"
   },
   {
    "duration": 29,
    "start_time": "2025-10-29T20:50:35.271Z"
   },
   {
    "duration": 4,
    "start_time": "2025-10-29T20:50:35.580Z"
   },
   {
    "duration": 12,
    "start_time": "2025-10-29T20:50:35.910Z"
   },
   {
    "duration": 374,
    "start_time": "2025-10-29T20:50:36.713Z"
   },
   {
    "duration": 398,
    "start_time": "2025-10-29T20:50:37.088Z"
   },
   {
    "duration": 545,
    "start_time": "2025-10-29T20:50:37.488Z"
   },
   {
    "duration": 894,
    "start_time": "2025-10-29T20:50:38.035Z"
   },
   {
    "duration": 280,
    "start_time": "2025-10-29T20:50:38.931Z"
   },
   {
    "duration": 6,
    "start_time": "2025-10-29T20:50:39.213Z"
   },
   {
    "duration": 18,
    "start_time": "2025-10-29T20:50:39.239Z"
   },
   {
    "duration": 15,
    "start_time": "2025-10-29T20:50:39.440Z"
   },
   {
    "duration": 6,
    "start_time": "2025-10-29T20:50:40.192Z"
   },
   {
    "duration": 12,
    "start_time": "2025-10-29T20:50:40.480Z"
   },
   {
    "duration": 353,
    "start_time": "2025-10-29T20:50:41.390Z"
   },
   {
    "duration": 1866,
    "start_time": "2025-10-29T20:50:56.835Z"
   },
   {
    "duration": 840,
    "start_time": "2025-10-29T20:51:03.386Z"
   },
   {
    "duration": 5,
    "start_time": "2025-10-29T20:51:08.087Z"
   },
   {
    "duration": 765,
    "start_time": "2025-10-29T20:52:22.392Z"
   },
   {
    "duration": 5,
    "start_time": "2025-10-29T20:52:26.625Z"
   },
   {
    "duration": 12,
    "start_time": "2025-10-29T20:52:54.481Z"
   },
   {
    "duration": 5,
    "start_time": "2025-10-29T20:53:00.289Z"
   },
   {
    "duration": 491,
    "start_time": "2025-10-29T20:53:04.154Z"
   },
   {
    "duration": 9680,
    "start_time": "2025-10-29T20:53:49.371Z"
   },
   {
    "duration": 3,
    "start_time": "2025-10-29T20:54:05.751Z"
   },
   {
    "duration": 4,
    "start_time": "2025-10-29T20:54:28.763Z"
   },
   {
    "duration": 6,
    "start_time": "2025-10-29T20:54:29.148Z"
   },
   {
    "duration": 35,
    "start_time": "2025-10-29T20:54:29.893Z"
   },
   {
    "duration": 31,
    "start_time": "2025-10-29T20:54:30.067Z"
   },
   {
    "duration": 5,
    "start_time": "2025-10-29T20:54:30.428Z"
   },
   {
    "duration": 15,
    "start_time": "2025-10-29T20:54:30.768Z"
   },
   {
    "duration": 348,
    "start_time": "2025-10-29T20:54:31.610Z"
   },
   {
    "duration": 387,
    "start_time": "2025-10-29T20:54:31.960Z"
   },
   {
    "duration": 426,
    "start_time": "2025-10-29T20:54:32.349Z"
   },
   {
    "duration": 979,
    "start_time": "2025-10-29T20:54:32.801Z"
   },
   {
    "duration": 268,
    "start_time": "2025-10-29T20:54:33.782Z"
   },
   {
    "duration": 4,
    "start_time": "2025-10-29T20:54:34.052Z"
   },
   {
    "duration": 22,
    "start_time": "2025-10-29T20:54:34.206Z"
   },
   {
    "duration": 17,
    "start_time": "2025-10-29T20:54:34.377Z"
   },
   {
    "duration": 5,
    "start_time": "2025-10-29T20:54:34.801Z"
   },
   {
    "duration": 5,
    "start_time": "2025-10-29T20:54:35.100Z"
   },
   {
    "duration": 17,
    "start_time": "2025-10-29T20:54:36.031Z"
   },
   {
    "duration": 757,
    "start_time": "2025-10-29T20:54:47.135Z"
   },
   {
    "duration": 6,
    "start_time": "2025-10-29T20:54:52.409Z"
   },
   {
    "duration": 4374,
    "start_time": "2025-10-29T20:54:53.677Z"
   },
   {
    "duration": 3,
    "start_time": "2025-10-29T20:54:58.053Z"
   },
   {
    "duration": 251,
    "start_time": "2025-10-29T20:55:00.036Z"
   },
   {
    "duration": 5,
    "start_time": "2025-10-29T20:55:19.265Z"
   },
   {
    "duration": 5,
    "start_time": "2025-10-29T20:55:21.334Z"
   },
   {
    "duration": 35,
    "start_time": "2025-10-29T20:55:21.841Z"
   },
   {
    "duration": 30,
    "start_time": "2025-10-29T20:55:21.999Z"
   },
   {
    "duration": 5,
    "start_time": "2025-10-29T20:55:22.307Z"
   },
   {
    "duration": 13,
    "start_time": "2025-10-29T20:55:22.618Z"
   },
   {
    "duration": 346,
    "start_time": "2025-10-29T20:55:23.398Z"
   },
   {
    "duration": 373,
    "start_time": "2025-10-29T20:55:23.745Z"
   },
   {
    "duration": 402,
    "start_time": "2025-10-29T20:55:24.120Z"
   },
   {
    "duration": 992,
    "start_time": "2025-10-29T20:55:24.524Z"
   },
   {
    "duration": 270,
    "start_time": "2025-10-29T20:55:25.518Z"
   },
   {
    "duration": 4,
    "start_time": "2025-10-29T20:55:25.948Z"
   },
   {
    "duration": 25,
    "start_time": "2025-10-29T20:55:26.555Z"
   },
   {
    "duration": 17,
    "start_time": "2025-10-29T20:55:27.027Z"
   },
   {
    "duration": 5,
    "start_time": "2025-10-29T20:55:30.312Z"
   },
   {
    "duration": 5,
    "start_time": "2025-10-29T20:55:30.695Z"
   },
   {
    "duration": 16,
    "start_time": "2025-10-29T20:55:32.866Z"
   },
   {
    "duration": 688,
    "start_time": "2025-10-29T20:55:47.163Z"
   },
   {
    "duration": 1320,
    "start_time": "2025-10-29T20:55:53.426Z"
   },
   {
    "duration": 7,
    "start_time": "2025-10-29T20:55:58.055Z"
   },
   {
    "duration": 4746,
    "start_time": "2025-10-29T20:56:02.110Z"
   },
   {
    "duration": 4,
    "start_time": "2025-10-29T20:56:06.858Z"
   },
   {
    "duration": 2248,
    "start_time": "2025-10-29T20:56:54.619Z"
   },
   {
    "duration": 11,
    "start_time": "2025-10-29T20:57:58.670Z"
   },
   {
    "duration": 4680,
    "start_time": "2025-10-29T20:58:01.381Z"
   },
   {
    "duration": 3,
    "start_time": "2025-10-29T20:58:06.063Z"
   },
   {
    "duration": 375,
    "start_time": "2025-10-29T20:58:06.067Z"
   },
   {
    "duration": 3,
    "start_time": "2025-10-29T20:59:31.167Z"
   },
   {
    "duration": 65398,
    "start_time": "2025-10-29T21:10:54.847Z"
   },
   {
    "duration": 8386,
    "start_time": "2025-10-29T21:12:00.249Z"
   },
   {
    "duration": 9,
    "start_time": "2025-10-29T21:12:08.637Z"
   },
   {
    "duration": 304,
    "start_time": "2025-10-29T21:12:08.649Z"
   },
   {
    "duration": 720,
    "start_time": "2025-10-29T21:12:09.029Z"
   },
   {
    "duration": 18,
    "start_time": "2025-10-29T21:12:09.833Z"
   },
   {
    "duration": 214,
    "start_time": "2025-10-29T21:12:09.941Z"
   },
   {
    "duration": 2706,
    "start_time": "2025-10-29T21:12:10.236Z"
   },
   {
    "duration": 2988,
    "start_time": "2025-10-29T21:12:12.947Z"
   },
   {
    "duration": 2810,
    "start_time": "2025-10-29T21:12:15.940Z"
   },
   {
    "duration": 5798,
    "start_time": "2025-10-29T21:12:18.756Z"
   },
   {
    "duration": 2087,
    "start_time": "2025-10-29T21:12:24.556Z"
   },
   {
    "duration": 91,
    "start_time": "2025-10-29T21:12:26.649Z"
   },
   {
    "duration": 197,
    "start_time": "2025-10-29T21:12:26.743Z"
   },
   {
    "duration": 193,
    "start_time": "2025-10-29T21:12:26.943Z"
   },
   {
    "duration": 12,
    "start_time": "2025-10-29T21:12:27.138Z"
   },
   {
    "duration": 22,
    "start_time": "2025-10-29T21:12:27.229Z"
   },
   {
    "duration": 1804,
    "start_time": "2025-10-29T21:12:27.343Z"
   },
   {
    "duration": 33990,
    "start_time": "2025-10-29T21:12:29.243Z"
   },
   {
    "duration": 8,
    "start_time": "2025-10-29T21:13:03.236Z"
   },
   {
    "duration": 84,
    "start_time": "2025-10-29T21:13:03.246Z"
   },
   {
    "duration": 1103,
    "start_time": "2025-10-29T21:13:03.332Z"
   },
   {
    "duration": 0,
    "start_time": "2025-10-29T21:13:04.452Z"
   },
   {
    "duration": 0,
    "start_time": "2025-10-29T21:13:04.453Z"
   },
   {
    "duration": 0,
    "start_time": "2025-10-29T21:13:04.454Z"
   },
   {
    "duration": 0,
    "start_time": "2025-10-29T21:13:04.455Z"
   },
   {
    "duration": 0,
    "start_time": "2025-10-29T21:13:04.456Z"
   },
   {
    "duration": 0,
    "start_time": "2025-10-29T21:13:04.456Z"
   },
   {
    "duration": 9525,
    "start_time": "2025-10-29T21:25:35.630Z"
   },
   {
    "duration": 216,
    "start_time": "2025-10-29T21:35:46.344Z"
   },
   {
    "duration": 308,
    "start_time": "2025-10-29T21:35:47.329Z"
   },
   {
    "duration": 13,
    "start_time": "2025-10-29T21:35:48.236Z"
   },
   {
    "duration": 125,
    "start_time": "2025-10-29T21:35:48.929Z"
   },
   {
    "duration": 2813,
    "start_time": "2025-10-29T21:35:51.436Z"
   },
   {
    "duration": 2000,
    "start_time": "2025-10-29T21:35:58.636Z"
   },
   {
    "duration": 2058,
    "start_time": "2025-10-29T21:36:11.277Z"
   },
   {
    "duration": 2320,
    "start_time": "2025-10-29T21:36:22.436Z"
   },
   {
    "duration": 2090,
    "start_time": "2025-10-29T21:36:30.437Z"
   },
   {
    "duration": 1895,
    "start_time": "2025-10-29T21:36:38.338Z"
   },
   {
    "duration": 2592,
    "start_time": "2025-10-29T21:36:48.561Z"
   },
   {
    "duration": 57,
    "start_time": "2025-10-29T22:33:59.265Z"
   },
   {
    "duration": 6,
    "start_time": "2025-10-29T22:34:05.677Z"
   },
   {
    "duration": 11272,
    "start_time": "2025-10-29T22:34:11.064Z"
   },
   {
    "duration": 1614,
    "start_time": "2025-10-29T22:34:22.339Z"
   },
   {
    "duration": 6,
    "start_time": "2025-10-29T22:34:23.954Z"
   },
   {
    "duration": 84,
    "start_time": "2025-10-29T22:34:23.962Z"
   },
   {
    "duration": 73,
    "start_time": "2025-10-29T22:34:24.097Z"
   },
   {
    "duration": 4,
    "start_time": "2025-10-29T22:34:27.679Z"
   },
   {
    "duration": 15,
    "start_time": "2025-10-29T22:34:28.747Z"
   },
   {
    "duration": 462,
    "start_time": "2025-10-29T22:34:32.443Z"
   },
   {
    "duration": 385,
    "start_time": "2025-10-29T22:34:41.133Z"
   },
   {
    "duration": 362,
    "start_time": "2025-10-29T22:34:58.925Z"
   },
   {
    "duration": 272,
    "start_time": "2025-10-29T22:35:13.521Z"
   },
   {
    "duration": 276,
    "start_time": "2025-10-29T22:35:20.236Z"
   },
   {
    "duration": 345,
    "start_time": "2025-10-29T22:35:25.988Z"
   },
   {
    "duration": 296,
    "start_time": "2025-10-29T22:35:33.736Z"
   },
   {
    "duration": 344,
    "start_time": "2025-10-29T22:36:19.179Z"
   },
   {
    "duration": 331,
    "start_time": "2025-10-29T22:37:02.533Z"
   },
   {
    "duration": 350,
    "start_time": "2025-10-29T22:37:06.970Z"
   },
   {
    "duration": 342,
    "start_time": "2025-10-29T22:37:14.018Z"
   },
   {
    "duration": 703,
    "start_time": "2025-10-29T22:37:50.245Z"
   },
   {
    "duration": 4,
    "start_time": "2025-10-29T22:38:55.489Z"
   },
   {
    "duration": 4,
    "start_time": "2025-10-29T22:40:05.419Z"
   },
   {
    "duration": 33,
    "start_time": "2025-10-29T22:40:24.728Z"
   },
   {
    "duration": 38,
    "start_time": "2025-10-29T22:40:25.281Z"
   },
   {
    "duration": 4,
    "start_time": "2025-10-29T22:40:25.831Z"
   },
   {
    "duration": 12,
    "start_time": "2025-10-29T22:40:26.345Z"
   },
   {
    "duration": 298,
    "start_time": "2025-10-29T22:40:28.096Z"
   },
   {
    "duration": 332,
    "start_time": "2025-10-29T22:40:29.268Z"
   },
   {
    "duration": 359,
    "start_time": "2025-10-29T22:40:30.157Z"
   },
   {
    "duration": 724,
    "start_time": "2025-10-29T22:40:31.177Z"
   },
   {
    "duration": 246,
    "start_time": "2025-10-29T22:40:33.521Z"
   },
   {
    "duration": 4,
    "start_time": "2025-10-29T22:40:36.217Z"
   },
   {
    "duration": 134,
    "start_time": "2025-10-29T22:40:38.383Z"
   },
   {
    "duration": 22,
    "start_time": "2025-10-29T22:40:39.204Z"
   },
   {
    "duration": 33,
    "start_time": "2025-10-29T22:40:53.818Z"
   },
   {
    "duration": 24,
    "start_time": "2025-10-29T22:41:03.047Z"
   },
   {
    "duration": 6,
    "start_time": "2025-10-29T22:41:11.318Z"
   },
   {
    "duration": 10,
    "start_time": "2025-10-29T22:41:12.617Z"
   },
   {
    "duration": 254,
    "start_time": "2025-10-29T22:42:17.954Z"
   },
   {
    "duration": 25,
    "start_time": "2025-10-29T22:42:20.993Z"
   },
   {
    "duration": 2334,
    "start_time": "2025-10-29T22:42:22.582Z"
   },
   {
    "duration": 28128,
    "start_time": "2025-10-29T22:42:30.797Z"
   },
   {
    "duration": 4,
    "start_time": "2025-10-29T22:42:58.927Z"
   },
   {
    "duration": 4,
    "start_time": "2025-10-29T22:42:58.932Z"
   },
   {
    "duration": 1500478,
    "start_time": "2025-10-29T22:42:58.938Z"
   },
   {
    "duration": 4,
    "start_time": "2025-10-29T23:07:59.417Z"
   },
   {
    "duration": 2757710,
    "start_time": "2025-10-29T23:07:59.422Z"
   },
   {
    "duration": 0,
    "start_time": "2025-10-29T23:53:57.134Z"
   },
   {
    "duration": 0,
    "start_time": "2025-10-29T23:53:57.135Z"
   },
   {
    "duration": 0,
    "start_time": "2025-10-29T23:53:57.136Z"
   },
   {
    "duration": 0,
    "start_time": "2025-10-29T23:53:57.138Z"
   },
   {
    "duration": 0,
    "start_time": "2025-10-29T23:53:57.139Z"
   },
   {
    "duration": 0,
    "start_time": "2025-10-29T23:53:57.140Z"
   },
   {
    "duration": 0,
    "start_time": "2025-10-29T23:53:57.141Z"
   },
   {
    "duration": 0,
    "start_time": "2025-10-29T23:53:57.142Z"
   },
   {
    "duration": 0,
    "start_time": "2025-10-29T23:53:57.144Z"
   },
   {
    "duration": 0,
    "start_time": "2025-10-29T23:53:57.145Z"
   },
   {
    "duration": 34,
    "start_time": "2025-10-29T23:54:44.858Z"
   },
   {
    "duration": 28,
    "start_time": "2025-10-29T23:54:45.564Z"
   },
   {
    "duration": 4,
    "start_time": "2025-10-29T23:54:46.215Z"
   },
   {
    "duration": 12,
    "start_time": "2025-10-29T23:54:46.770Z"
   },
   {
    "duration": 288,
    "start_time": "2025-10-29T23:54:48.622Z"
   },
   {
    "duration": 335,
    "start_time": "2025-10-29T23:54:49.964Z"
   },
   {
    "duration": 337,
    "start_time": "2025-10-29T23:54:51.911Z"
   },
   {
    "duration": 690,
    "start_time": "2025-10-29T23:54:52.679Z"
   },
   {
    "duration": 207,
    "start_time": "2025-10-29T23:55:06.438Z"
   },
   {
    "duration": 4,
    "start_time": "2025-10-29T23:55:13.264Z"
   },
   {
    "duration": 3,
    "start_time": "2025-10-29T23:55:45.619Z"
   },
   {
    "duration": 116,
    "start_time": "2025-10-29T23:55:49.011Z"
   },
   {
    "duration": 23,
    "start_time": "2025-10-29T23:56:12.996Z"
   },
   {
    "duration": 6,
    "start_time": "2025-10-29T23:56:16.120Z"
   },
   {
    "duration": 23,
    "start_time": "2025-10-29T23:56:16.916Z"
   },
   {
    "duration": 1901,
    "start_time": "2025-10-29T23:56:30.305Z"
   },
   {
    "duration": 28586,
    "start_time": "2025-10-29T23:56:36.454Z"
   },
   {
    "duration": 4,
    "start_time": "2025-10-29T23:57:05.041Z"
   },
   {
    "duration": 11,
    "start_time": "2025-10-29T23:57:14.164Z"
   },
   {
    "duration": 4,
    "start_time": "2025-10-29T23:57:34.124Z"
   },
   {
    "duration": 8,
    "start_time": "2025-10-29T23:57:34.471Z"
   },
   {
    "duration": 36,
    "start_time": "2025-10-29T23:57:34.935Z"
   },
   {
    "duration": 30,
    "start_time": "2025-10-29T23:57:35.269Z"
   },
   {
    "duration": 5,
    "start_time": "2025-10-29T23:57:35.575Z"
   },
   {
    "duration": 13,
    "start_time": "2025-10-29T23:57:35.896Z"
   },
   {
    "duration": 281,
    "start_time": "2025-10-29T23:57:37.058Z"
   },
   {
    "duration": 332,
    "start_time": "2025-10-29T23:57:37.945Z"
   },
   {
    "duration": 335,
    "start_time": "2025-10-29T23:57:38.508Z"
   },
   {
    "duration": 678,
    "start_time": "2025-10-29T23:57:39.601Z"
   },
   {
    "duration": 212,
    "start_time": "2025-10-29T23:57:42.960Z"
   },
   {
    "duration": 3,
    "start_time": "2025-10-29T23:57:45.032Z"
   },
   {
    "duration": 113,
    "start_time": "2025-10-29T23:57:46.629Z"
   },
   {
    "duration": 36,
    "start_time": "2025-10-29T23:57:47.589Z"
   },
   {
    "duration": 6,
    "start_time": "2025-10-29T23:57:49.187Z"
   },
   {
    "duration": 25,
    "start_time": "2025-10-29T23:57:51.186Z"
   },
   {
    "duration": 1950,
    "start_time": "2025-10-29T23:57:52.559Z"
   },
   {
    "duration": 5,
    "start_time": "2025-10-29T23:58:07.420Z"
   },
   {
    "duration": 22,
    "start_time": "2025-10-29T23:58:12.013Z"
   },
   {
    "duration": 3,
    "start_time": "2025-10-29T23:58:26.911Z"
   },
   {
    "duration": 11,
    "start_time": "2025-10-29T23:59:01.486Z"
   },
   {
    "duration": 9,
    "start_time": "2025-10-29T23:59:08.439Z"
   },
   {
    "duration": 139689,
    "start_time": "2025-10-29T23:59:15.834Z"
   },
   {
    "duration": 0,
    "start_time": "2025-10-30T00:01:35.525Z"
   },
   {
    "duration": 27,
    "start_time": "2025-10-30T00:01:48.982Z"
   },
   {
    "duration": 16,
    "start_time": "2025-10-30T00:02:03.724Z"
   },
   {
    "duration": 229806,
    "start_time": "2025-10-30T00:02:17.000Z"
   },
   {
    "duration": 1,
    "start_time": "2025-10-30T00:06:06.808Z"
   },
   {
    "duration": 0,
    "start_time": "2025-10-30T00:06:06.810Z"
   },
   {
    "duration": 0,
    "start_time": "2025-10-30T00:06:06.811Z"
   },
   {
    "duration": 28,
    "start_time": "2025-10-30T00:07:46.494Z"
   },
   {
    "duration": 17046,
    "start_time": "2025-10-30T00:07:55.070Z"
   },
   {
    "duration": 4,
    "start_time": "2025-10-30T00:08:12.118Z"
   },
   {
    "duration": 319,
    "start_time": "2025-10-30T00:08:12.123Z"
   },
   {
    "duration": 1539,
    "start_time": "2025-10-30T00:08:12.444Z"
   },
   {
    "duration": 229,
    "start_time": "2025-10-30T00:08:39.735Z"
   },
   {
    "duration": 16,
    "start_time": "2025-10-30T00:10:02.217Z"
   },
   {
    "duration": 15,
    "start_time": "2025-10-30T00:10:38.443Z"
   },
   {
    "duration": 5,
    "start_time": "2025-10-30T00:10:58.237Z"
   },
   {
    "duration": 18,
    "start_time": "2025-10-30T00:11:41.194Z"
   },
   {
    "duration": 5,
    "start_time": "2025-10-30T00:11:48.629Z"
   },
   {
    "duration": 238,
    "start_time": "2025-10-30T00:12:18.487Z"
   },
   {
    "duration": 84621,
    "start_time": "2025-10-30T00:12:50.564Z"
   },
   {
    "duration": 3,
    "start_time": "2025-10-30T00:14:15.188Z"
   },
   {
    "duration": 1555,
    "start_time": "2025-10-30T17:59:15.755Z"
   },
   {
    "duration": 11693,
    "start_time": "2025-10-30T17:59:58.631Z"
   },
   {
    "duration": 256,
    "start_time": "2025-10-30T18:00:10.326Z"
   },
   {
    "duration": 7,
    "start_time": "2025-10-30T18:00:10.584Z"
   },
   {
    "duration": 160,
    "start_time": "2025-10-30T18:00:10.593Z"
   },
   {
    "duration": 87,
    "start_time": "2025-10-30T18:00:10.755Z"
   },
   {
    "duration": 14,
    "start_time": "2025-10-30T18:00:10.843Z"
   },
   {
    "duration": 22,
    "start_time": "2025-10-30T18:00:10.858Z"
   },
   {
    "duration": 364,
    "start_time": "2025-10-30T18:00:10.882Z"
   },
   {
    "duration": 452,
    "start_time": "2025-10-30T18:00:11.248Z"
   },
   {
    "duration": 393,
    "start_time": "2025-10-30T18:00:11.702Z"
   },
   {
    "duration": 696,
    "start_time": "2025-10-30T18:00:12.097Z"
   },
   {
    "duration": 242,
    "start_time": "2025-10-30T18:00:12.795Z"
   },
   {
    "duration": 4,
    "start_time": "2025-10-30T18:00:13.040Z"
   },
   {
    "duration": 29,
    "start_time": "2025-10-30T18:00:16.410Z"
   },
   {
    "duration": 26,
    "start_time": "2025-10-30T18:00:51.416Z"
   },
   {
    "duration": 6,
    "start_time": "2025-10-30T18:00:52.810Z"
   },
   {
    "duration": 6,
    "start_time": "2025-10-30T18:00:54.193Z"
   },
   {
    "duration": 4,
    "start_time": "2025-10-30T18:00:54.771Z"
   },
   {
    "duration": 5,
    "start_time": "2025-10-30T18:01:34.650Z"
   },
   {
    "duration": 4,
    "start_time": "2025-10-30T18:03:52.045Z"
   },
   {
    "duration": 39,
    "start_time": "2025-10-30T18:05:25.367Z"
   },
   {
    "duration": 95481,
    "start_time": "2025-10-30T18:05:57.882Z"
   },
   {
    "duration": 5168,
    "start_time": "2025-10-30T18:07:44.891Z"
   },
   {
    "duration": 2551,
    "start_time": "2025-10-30T18:07:50.061Z"
   },
   {
    "duration": 6,
    "start_time": "2025-10-30T18:07:52.614Z"
   },
   {
    "duration": 155,
    "start_time": "2025-10-30T18:07:52.622Z"
   },
   {
    "duration": 84,
    "start_time": "2025-10-30T18:07:52.778Z"
   },
   {
    "duration": 5,
    "start_time": "2025-10-30T18:07:52.864Z"
   },
   {
    "duration": 36,
    "start_time": "2025-10-30T18:07:52.870Z"
   },
   {
    "duration": 429,
    "start_time": "2025-10-30T18:07:53.101Z"
   },
   {
    "duration": 390,
    "start_time": "2025-10-30T18:07:55.558Z"
   },
   {
    "duration": 380,
    "start_time": "2025-10-30T18:08:03.113Z"
   },
   {
    "duration": 626,
    "start_time": "2025-10-30T18:08:04.951Z"
   },
   {
    "duration": 267,
    "start_time": "2025-10-30T18:08:06.714Z"
   },
   {
    "duration": 4,
    "start_time": "2025-10-30T18:08:08.705Z"
   },
   {
    "duration": 28,
    "start_time": "2025-10-30T18:08:11.431Z"
   },
   {
    "duration": 26,
    "start_time": "2025-10-30T18:08:12.297Z"
   },
   {
    "duration": 5,
    "start_time": "2025-10-30T18:08:13.855Z"
   },
   {
    "duration": 6,
    "start_time": "2025-10-30T18:08:14.829Z"
   },
   {
    "duration": 4,
    "start_time": "2025-10-30T18:08:15.253Z"
   },
   {
    "duration": 3,
    "start_time": "2025-10-30T18:08:16.906Z"
   },
   {
    "duration": 3,
    "start_time": "2025-10-30T18:08:17.486Z"
   },
   {
    "duration": 3,
    "start_time": "2025-10-30T18:08:40.172Z"
   },
   {
    "duration": 4,
    "start_time": "2025-10-30T18:09:37.427Z"
   },
   {
    "duration": 3,
    "start_time": "2025-10-30T18:09:46.052Z"
   },
   {
    "duration": 4,
    "start_time": "2025-10-30T18:11:26.388Z"
   },
   {
    "duration": 81,
    "start_time": "2025-10-30T18:22:09.545Z"
   },
   {
    "duration": 450,
    "start_time": "2025-10-30T18:22:16.439Z"
   },
   {
    "duration": 13,
    "start_time": "2025-10-30T18:24:19.909Z"
   },
   {
    "duration": 34,
    "start_time": "2025-10-30T18:25:38.015Z"
   },
   {
    "duration": 4232,
    "start_time": "2025-10-30T18:26:14.538Z"
   },
   {
    "duration": 4269,
    "start_time": "2025-10-30T18:26:25.789Z"
   },
   {
    "duration": 2105,
    "start_time": "2025-10-30T18:26:36.354Z"
   },
   {
    "duration": 10148,
    "start_time": "2025-10-30T18:26:54.358Z"
   },
   {
    "duration": 15,
    "start_time": "2025-10-30T18:27:06.864Z"
   },
   {
    "duration": 4,
    "start_time": "2025-10-30T18:27:29.825Z"
   },
   {
    "duration": 4,
    "start_time": "2025-10-30T18:27:43.825Z"
   },
   {
    "duration": 40,
    "start_time": "2025-10-30T18:27:50.383Z"
   },
   {
    "duration": 4,
    "start_time": "2025-10-30T18:29:02.276Z"
   },
   {
    "duration": 2998090,
    "start_time": "2025-10-30T18:29:11.245Z"
   },
   {
    "duration": 32,
    "start_time": "2025-10-30T19:19:09.337Z"
   },
   {
    "duration": 13,
    "start_time": "2025-10-30T19:19:09.371Z"
   },
   {
    "duration": 3,
    "start_time": "2025-10-30T19:19:09.386Z"
   },
   {
    "duration": 13,
    "start_time": "2025-10-30T19:19:09.390Z"
   },
   {
    "duration": 0,
    "start_time": "2025-10-30T19:19:09.404Z"
   },
   {
    "duration": 271,
    "start_time": "2025-10-30T19:20:44.706Z"
   },
   {
    "duration": 5,
    "start_time": "2025-10-30T19:20:52.371Z"
   }
  ],
  "kernelspec": {
   "display_name": "Python 3",
   "language": "python",
   "name": "python3"
  },
  "language_info": {
   "codemirror_mode": {
    "name": "ipython",
    "version": 3
   },
   "file_extension": ".py",
   "mimetype": "text/x-python",
   "name": "python",
   "nbconvert_exporter": "python",
   "pygments_lexer": "ipython3",
   "version": "3.13.1"
  },
  "toc": {
   "base_numbering": 1,
   "nav_menu": {},
   "number_sections": true,
   "sideBar": true,
   "skip_h1_title": true,
   "title_cell": "Содержание",
   "title_sidebar": "Contents",
   "toc_cell": true,
   "toc_position": {},
   "toc_section_display": true,
   "toc_window_display": true
  }
 },
 "nbformat": 4,
 "nbformat_minor": 4
}
