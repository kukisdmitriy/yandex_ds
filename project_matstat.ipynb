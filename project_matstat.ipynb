{
 "cells": [
  {
   "cell_type": "markdown",
   "id": "35d9670a",
   "metadata": {},
   "source": [
    "# Статистический анализ данных. Анализ сервиса аренды самокатов GoFast"
   ]
  },
  {
   "cell_type": "markdown",
   "id": "8b1c8a70",
   "metadata": {},
   "source": [
    "Чтобы совершать поездки по городу, пользователи сервиса GoFast пользуются мобильным приложением. Сервисом можно пользоваться:\n",
    "- без подписки:\n",
    " * абонентская плата отсутствует;\n",
    " * стоимость одной минуты поездки — 8 рублей;\n",
    " * стоимость старта (начала поездки) — 50 рублей;\n",
    "- с подпиской Ultra\n",
    " * абонентская плата — 199 рублей в месяц;\n",
    " * стоимость одной минуты поездки — 6 рублей;\n",
    " * стоимость старта — бесплатно.\n",
    "\n",
    "Цель исследования: проверить гипотезы о поведении пользователей и выявить точки роста для компании.\n",
    "\n",
    "\n",
    "Ход исследования:\n",
    "1. Выгрузить данные, состоящие трёх таблиц;\n",
    "2. Провести предобработку данных;\n",
    "3. Объединить датафреймы в один и разделить пользователей по подпискам;\n",
    "4. Рассчитать ежемесячную прибыль от каждого пользователя;\n",
    "5. Проверить статистические гипотезы о поведении пользователей с подпиской и без нее."
   ]
  },
  {
   "cell_type": "code",
   "execution_count": 52,
   "id": "9601a9a0",
   "metadata": {},
   "outputs": [],
   "source": [
    "import pandas as pd\n",
    "import matplotlib.pyplot as plt\n",
    "import numpy as np\n",
    "from scipy import stats as st\n",
    "from scipy.stats import binom"
   ]
  },
  {
   "cell_type": "markdown",
   "id": "2f400a4d",
   "metadata": {},
   "source": [
    "## Загрузка данных"
   ]
  },
  {
   "cell_type": "code",
   "execution_count": 2,
   "id": "5d306eef",
   "metadata": {},
   "outputs": [],
   "source": [
    "users = pd.read_csv('/datasets/users_go.csv')\n",
    "rides = pd.read_csv('/datasets/rides_go.csv')\n",
    "subscriptions = pd.read_csv('/datasets/subscriptions_go.csv')"
   ]
  },
  {
   "cell_type": "code",
   "execution_count": 3,
   "id": "09f87394",
   "metadata": {},
   "outputs": [
    {
     "data": {
      "text/html": [
       "<div>\n",
       "<style scoped>\n",
       "    .dataframe tbody tr th:only-of-type {\n",
       "        vertical-align: middle;\n",
       "    }\n",
       "\n",
       "    .dataframe tbody tr th {\n",
       "        vertical-align: top;\n",
       "    }\n",
       "\n",
       "    .dataframe thead th {\n",
       "        text-align: right;\n",
       "    }\n",
       "</style>\n",
       "<table border=\"1\" class=\"dataframe\">\n",
       "  <thead>\n",
       "    <tr style=\"text-align: right;\">\n",
       "      <th></th>\n",
       "      <th>user_id</th>\n",
       "      <th>name</th>\n",
       "      <th>age</th>\n",
       "      <th>city</th>\n",
       "      <th>subscription_type</th>\n",
       "    </tr>\n",
       "  </thead>\n",
       "  <tbody>\n",
       "    <tr>\n",
       "      <th>0</th>\n",
       "      <td>1</td>\n",
       "      <td>Кира</td>\n",
       "      <td>22</td>\n",
       "      <td>Тюмень</td>\n",
       "      <td>ultra</td>\n",
       "    </tr>\n",
       "    <tr>\n",
       "      <th>1</th>\n",
       "      <td>2</td>\n",
       "      <td>Станислав</td>\n",
       "      <td>31</td>\n",
       "      <td>Омск</td>\n",
       "      <td>ultra</td>\n",
       "    </tr>\n",
       "    <tr>\n",
       "      <th>2</th>\n",
       "      <td>3</td>\n",
       "      <td>Алексей</td>\n",
       "      <td>20</td>\n",
       "      <td>Москва</td>\n",
       "      <td>ultra</td>\n",
       "    </tr>\n",
       "    <tr>\n",
       "      <th>3</th>\n",
       "      <td>4</td>\n",
       "      <td>Константин</td>\n",
       "      <td>26</td>\n",
       "      <td>Ростов-на-Дону</td>\n",
       "      <td>ultra</td>\n",
       "    </tr>\n",
       "    <tr>\n",
       "      <th>4</th>\n",
       "      <td>5</td>\n",
       "      <td>Адель</td>\n",
       "      <td>28</td>\n",
       "      <td>Омск</td>\n",
       "      <td>ultra</td>\n",
       "    </tr>\n",
       "  </tbody>\n",
       "</table>\n",
       "</div>"
      ],
      "text/plain": [
       "   user_id        name  age            city subscription_type\n",
       "0        1        Кира   22          Тюмень             ultra\n",
       "1        2   Станислав   31            Омск             ultra\n",
       "2        3     Алексей   20          Москва             ultra\n",
       "3        4  Константин   26  Ростов-на-Дону             ultra\n",
       "4        5       Адель   28            Омск             ultra"
      ]
     },
     "execution_count": 3,
     "metadata": {},
     "output_type": "execute_result"
    }
   ],
   "source": [
    "users.head()"
   ]
  },
  {
   "cell_type": "code",
   "execution_count": 4,
   "id": "b3e96b9c",
   "metadata": {},
   "outputs": [
    {
     "data": {
      "text/html": [
       "<div>\n",
       "<style scoped>\n",
       "    .dataframe tbody tr th:only-of-type {\n",
       "        vertical-align: middle;\n",
       "    }\n",
       "\n",
       "    .dataframe tbody tr th {\n",
       "        vertical-align: top;\n",
       "    }\n",
       "\n",
       "    .dataframe thead th {\n",
       "        text-align: right;\n",
       "    }\n",
       "</style>\n",
       "<table border=\"1\" class=\"dataframe\">\n",
       "  <thead>\n",
       "    <tr style=\"text-align: right;\">\n",
       "      <th></th>\n",
       "      <th>user_id</th>\n",
       "      <th>distance</th>\n",
       "      <th>duration</th>\n",
       "      <th>date</th>\n",
       "    </tr>\n",
       "  </thead>\n",
       "  <tbody>\n",
       "    <tr>\n",
       "      <th>0</th>\n",
       "      <td>1</td>\n",
       "      <td>4409.919140</td>\n",
       "      <td>25.599769</td>\n",
       "      <td>2021-01-01</td>\n",
       "    </tr>\n",
       "    <tr>\n",
       "      <th>1</th>\n",
       "      <td>1</td>\n",
       "      <td>2617.592153</td>\n",
       "      <td>15.816871</td>\n",
       "      <td>2021-01-18</td>\n",
       "    </tr>\n",
       "    <tr>\n",
       "      <th>2</th>\n",
       "      <td>1</td>\n",
       "      <td>754.159807</td>\n",
       "      <td>6.232113</td>\n",
       "      <td>2021-04-20</td>\n",
       "    </tr>\n",
       "    <tr>\n",
       "      <th>3</th>\n",
       "      <td>1</td>\n",
       "      <td>2694.783254</td>\n",
       "      <td>18.511000</td>\n",
       "      <td>2021-08-11</td>\n",
       "    </tr>\n",
       "    <tr>\n",
       "      <th>4</th>\n",
       "      <td>1</td>\n",
       "      <td>4028.687306</td>\n",
       "      <td>26.265803</td>\n",
       "      <td>2021-08-28</td>\n",
       "    </tr>\n",
       "  </tbody>\n",
       "</table>\n",
       "</div>"
      ],
      "text/plain": [
       "   user_id     distance   duration        date\n",
       "0        1  4409.919140  25.599769  2021-01-01\n",
       "1        1  2617.592153  15.816871  2021-01-18\n",
       "2        1   754.159807   6.232113  2021-04-20\n",
       "3        1  2694.783254  18.511000  2021-08-11\n",
       "4        1  4028.687306  26.265803  2021-08-28"
      ]
     },
     "execution_count": 4,
     "metadata": {},
     "output_type": "execute_result"
    }
   ],
   "source": [
    "rides.head()"
   ]
  },
  {
   "cell_type": "code",
   "execution_count": 5,
   "id": "042b6090",
   "metadata": {},
   "outputs": [
    {
     "data": {
      "text/html": [
       "<div>\n",
       "<style scoped>\n",
       "    .dataframe tbody tr th:only-of-type {\n",
       "        vertical-align: middle;\n",
       "    }\n",
       "\n",
       "    .dataframe tbody tr th {\n",
       "        vertical-align: top;\n",
       "    }\n",
       "\n",
       "    .dataframe thead th {\n",
       "        text-align: right;\n",
       "    }\n",
       "</style>\n",
       "<table border=\"1\" class=\"dataframe\">\n",
       "  <thead>\n",
       "    <tr style=\"text-align: right;\">\n",
       "      <th></th>\n",
       "      <th>subscription_type</th>\n",
       "      <th>minute_price</th>\n",
       "      <th>start_ride_price</th>\n",
       "      <th>subscription_fee</th>\n",
       "    </tr>\n",
       "  </thead>\n",
       "  <tbody>\n",
       "    <tr>\n",
       "      <th>0</th>\n",
       "      <td>free</td>\n",
       "      <td>8</td>\n",
       "      <td>50</td>\n",
       "      <td>0</td>\n",
       "    </tr>\n",
       "    <tr>\n",
       "      <th>1</th>\n",
       "      <td>ultra</td>\n",
       "      <td>6</td>\n",
       "      <td>0</td>\n",
       "      <td>199</td>\n",
       "    </tr>\n",
       "  </tbody>\n",
       "</table>\n",
       "</div>"
      ],
      "text/plain": [
       "  subscription_type  minute_price  start_ride_price  subscription_fee\n",
       "0              free             8                50                 0\n",
       "1             ultra             6                 0               199"
      ]
     },
     "execution_count": 5,
     "metadata": {},
     "output_type": "execute_result"
    }
   ],
   "source": [
    "subscriptions.head()"
   ]
  },
  {
   "cell_type": "code",
   "execution_count": 6,
   "id": "e62577fc",
   "metadata": {},
   "outputs": [
    {
     "name": "stdout",
     "output_type": "stream",
     "text": [
      "<class 'pandas.core.frame.DataFrame'>\n",
      "RangeIndex: 1565 entries, 0 to 1564\n",
      "Data columns (total 5 columns):\n",
      " #   Column             Non-Null Count  Dtype \n",
      "---  ------             --------------  ----- \n",
      " 0   user_id            1565 non-null   int64 \n",
      " 1   name               1565 non-null   object\n",
      " 2   age                1565 non-null   int64 \n",
      " 3   city               1565 non-null   object\n",
      " 4   subscription_type  1565 non-null   object\n",
      "dtypes: int64(2), object(3)\n",
      "memory usage: 61.3+ KB\n"
     ]
    }
   ],
   "source": [
    "users.info()"
   ]
  },
  {
   "cell_type": "code",
   "execution_count": 7,
   "id": "84d032f1",
   "metadata": {},
   "outputs": [
    {
     "name": "stdout",
     "output_type": "stream",
     "text": [
      "<class 'pandas.core.frame.DataFrame'>\n",
      "RangeIndex: 18068 entries, 0 to 18067\n",
      "Data columns (total 4 columns):\n",
      " #   Column    Non-Null Count  Dtype  \n",
      "---  ------    --------------  -----  \n",
      " 0   user_id   18068 non-null  int64  \n",
      " 1   distance  18068 non-null  float64\n",
      " 2   duration  18068 non-null  float64\n",
      " 3   date      18068 non-null  object \n",
      "dtypes: float64(2), int64(1), object(1)\n",
      "memory usage: 564.8+ KB\n"
     ]
    }
   ],
   "source": [
    "rides.info()"
   ]
  },
  {
   "cell_type": "code",
   "execution_count": 8,
   "id": "ccae5ede",
   "metadata": {},
   "outputs": [
    {
     "name": "stdout",
     "output_type": "stream",
     "text": [
      "<class 'pandas.core.frame.DataFrame'>\n",
      "RangeIndex: 2 entries, 0 to 1\n",
      "Data columns (total 4 columns):\n",
      " #   Column             Non-Null Count  Dtype \n",
      "---  ------             --------------  ----- \n",
      " 0   subscription_type  2 non-null      object\n",
      " 1   minute_price       2 non-null      int64 \n",
      " 2   start_ride_price   2 non-null      int64 \n",
      " 3   subscription_fee   2 non-null      int64 \n",
      "dtypes: int64(3), object(1)\n",
      "memory usage: 192.0+ bytes\n"
     ]
    }
   ],
   "source": [
    "subscriptions.info()"
   ]
  },
  {
   "cell_type": "markdown",
   "id": "5cf37b52",
   "metadata": {},
   "source": [
    "**Вывод:** Данные представляют собой 3 датасета, каждый из которых описывает определенный сегмент данных. Например, users хранит данные о пользователях: имя, возраст, id, тип подписики, город. Таблица subscriptions состоит всего из двух строк - типы подписки. В данных нет пропусков, однако типы данных не везде корректны."
   ]
  },
  {
   "cell_type": "markdown",
   "id": "72e18131",
   "metadata": {},
   "source": [
    "## Предобработка данных"
   ]
  },
  {
   "cell_type": "markdown",
   "id": "9fce3458",
   "metadata": {},
   "source": [
    "### Приведём тип данных столбца date таблицы rides к типу данных datetype"
   ]
  },
  {
   "cell_type": "code",
   "execution_count": 9,
   "id": "d423f3db",
   "metadata": {},
   "outputs": [],
   "source": [
    "rides['date'] = pd.to_datetime(rides['date'], format='%Y-%m-%d')"
   ]
  },
  {
   "cell_type": "code",
   "execution_count": 10,
   "id": "d3094bad",
   "metadata": {},
   "outputs": [
    {
     "name": "stdout",
     "output_type": "stream",
     "text": [
      "<class 'pandas.core.frame.DataFrame'>\n",
      "RangeIndex: 18068 entries, 0 to 18067\n",
      "Data columns (total 4 columns):\n",
      " #   Column    Non-Null Count  Dtype         \n",
      "---  ------    --------------  -----         \n",
      " 0   user_id   18068 non-null  int64         \n",
      " 1   distance  18068 non-null  float64       \n",
      " 2   duration  18068 non-null  float64       \n",
      " 3   date      18068 non-null  datetime64[ns]\n",
      "dtypes: datetime64[ns](1), float64(2), int64(1)\n",
      "memory usage: 564.8 KB\n"
     ]
    }
   ],
   "source": [
    "rides.info()"
   ]
  },
  {
   "cell_type": "markdown",
   "id": "02ebbec6",
   "metadata": {},
   "source": [
    "Тип данных успешно изменён, теперь можно на основе этих данных составить столбец с номером месяца"
   ]
  },
  {
   "cell_type": "markdown",
   "id": "472904fb",
   "metadata": {},
   "source": [
    "### Добавим столбец month к таблице ride"
   ]
  },
  {
   "cell_type": "code",
   "execution_count": 11,
   "id": "378abc6e",
   "metadata": {},
   "outputs": [],
   "source": [
    "rides['month'] = rides['date'].dt.month"
   ]
  },
  {
   "cell_type": "code",
   "execution_count": 12,
   "id": "3d58e8c7",
   "metadata": {},
   "outputs": [
    {
     "data": {
      "text/html": [
       "<div>\n",
       "<style scoped>\n",
       "    .dataframe tbody tr th:only-of-type {\n",
       "        vertical-align: middle;\n",
       "    }\n",
       "\n",
       "    .dataframe tbody tr th {\n",
       "        vertical-align: top;\n",
       "    }\n",
       "\n",
       "    .dataframe thead th {\n",
       "        text-align: right;\n",
       "    }\n",
       "</style>\n",
       "<table border=\"1\" class=\"dataframe\">\n",
       "  <thead>\n",
       "    <tr style=\"text-align: right;\">\n",
       "      <th></th>\n",
       "      <th>user_id</th>\n",
       "      <th>distance</th>\n",
       "      <th>duration</th>\n",
       "      <th>date</th>\n",
       "      <th>month</th>\n",
       "    </tr>\n",
       "  </thead>\n",
       "  <tbody>\n",
       "    <tr>\n",
       "      <th>0</th>\n",
       "      <td>1</td>\n",
       "      <td>4409.919140</td>\n",
       "      <td>25.599769</td>\n",
       "      <td>2021-01-01</td>\n",
       "      <td>1</td>\n",
       "    </tr>\n",
       "    <tr>\n",
       "      <th>1</th>\n",
       "      <td>1</td>\n",
       "      <td>2617.592153</td>\n",
       "      <td>15.816871</td>\n",
       "      <td>2021-01-18</td>\n",
       "      <td>1</td>\n",
       "    </tr>\n",
       "    <tr>\n",
       "      <th>2</th>\n",
       "      <td>1</td>\n",
       "      <td>754.159807</td>\n",
       "      <td>6.232113</td>\n",
       "      <td>2021-04-20</td>\n",
       "      <td>4</td>\n",
       "    </tr>\n",
       "    <tr>\n",
       "      <th>3</th>\n",
       "      <td>1</td>\n",
       "      <td>2694.783254</td>\n",
       "      <td>18.511000</td>\n",
       "      <td>2021-08-11</td>\n",
       "      <td>8</td>\n",
       "    </tr>\n",
       "    <tr>\n",
       "      <th>4</th>\n",
       "      <td>1</td>\n",
       "      <td>4028.687306</td>\n",
       "      <td>26.265803</td>\n",
       "      <td>2021-08-28</td>\n",
       "      <td>8</td>\n",
       "    </tr>\n",
       "  </tbody>\n",
       "</table>\n",
       "</div>"
      ],
      "text/plain": [
       "   user_id     distance   duration       date  month\n",
       "0        1  4409.919140  25.599769 2021-01-01      1\n",
       "1        1  2617.592153  15.816871 2021-01-18      1\n",
       "2        1   754.159807   6.232113 2021-04-20      4\n",
       "3        1  2694.783254  18.511000 2021-08-11      8\n",
       "4        1  4028.687306  26.265803 2021-08-28      8"
      ]
     },
     "execution_count": 12,
     "metadata": {},
     "output_type": "execute_result"
    }
   ],
   "source": [
    "rides.head()"
   ]
  },
  {
   "cell_type": "code",
   "execution_count": 13,
   "id": "1d7ba023",
   "metadata": {},
   "outputs": [
    {
     "data": {
      "text/plain": [
       "array([2021])"
      ]
     },
     "execution_count": 13,
     "metadata": {},
     "output_type": "execute_result"
    }
   ],
   "source": [
    "rides['date'].dt.year.unique()"
   ]
  },
  {
   "cell_type": "markdown",
   "id": "0ad8f891",
   "metadata": {},
   "source": [
    "Столбец добавлен, данные в нём корректны. Так как поездки были совершены в один год, можно использовать выбранный метод."
   ]
  },
  {
   "cell_type": "markdown",
   "id": "2967eaff",
   "metadata": {},
   "source": [
    "### Проверить на дубликаты и обработать их"
   ]
  },
  {
   "cell_type": "markdown",
   "id": "8962ddf4",
   "metadata": {},
   "source": [
    "#### Датасет users"
   ]
  },
  {
   "cell_type": "code",
   "execution_count": 14,
   "id": "658ec245",
   "metadata": {},
   "outputs": [
    {
     "data": {
      "text/plain": [
       "31"
      ]
     },
     "execution_count": 14,
     "metadata": {},
     "output_type": "execute_result"
    }
   ],
   "source": [
    "users.duplicated().sum()"
   ]
  },
  {
   "cell_type": "markdown",
   "id": "cc12464b",
   "metadata": {},
   "source": [
    "Итого, в датасете с пользователями 31 явный дубликат. Удалим дублированные строки."
   ]
  },
  {
   "cell_type": "code",
   "execution_count": 15,
   "id": "332b4302",
   "metadata": {},
   "outputs": [],
   "source": [
    "users = users.drop_duplicates().reset_index(drop=True)"
   ]
  },
  {
   "cell_type": "code",
   "execution_count": 16,
   "id": "4546127a",
   "metadata": {},
   "outputs": [
    {
     "data": {
      "text/plain": [
       "0"
      ]
     },
     "execution_count": 16,
     "metadata": {},
     "output_type": "execute_result"
    }
   ],
   "source": [
    "users.duplicated().sum()"
   ]
  },
  {
   "cell_type": "markdown",
   "id": "24f7be71",
   "metadata": {},
   "source": [
    "Явные дубликаты в датасете с пользваотелями удалены"
   ]
  },
  {
   "cell_type": "markdown",
   "id": "92d3865b",
   "metadata": {},
   "source": [
    "#### Датасет rides"
   ]
  },
  {
   "cell_type": "code",
   "execution_count": 17,
   "id": "57615088",
   "metadata": {},
   "outputs": [
    {
     "data": {
      "text/plain": [
       "0"
      ]
     },
     "execution_count": 17,
     "metadata": {},
     "output_type": "execute_result"
    }
   ],
   "source": [
    "rides.duplicated().sum()"
   ]
  },
  {
   "cell_type": "markdown",
   "id": "428770d5",
   "metadata": {},
   "source": [
    "В датасете нет явных дубликатов, поэтому удаление и обработка не требуется."
   ]
  },
  {
   "cell_type": "markdown",
   "id": "42d4520c",
   "metadata": {},
   "source": [
    "#### Датасет subscriptions"
   ]
  },
  {
   "cell_type": "code",
   "execution_count": 18,
   "id": "d8c4a752",
   "metadata": {},
   "outputs": [
    {
     "data": {
      "text/html": [
       "<div>\n",
       "<style scoped>\n",
       "    .dataframe tbody tr th:only-of-type {\n",
       "        vertical-align: middle;\n",
       "    }\n",
       "\n",
       "    .dataframe tbody tr th {\n",
       "        vertical-align: top;\n",
       "    }\n",
       "\n",
       "    .dataframe thead th {\n",
       "        text-align: right;\n",
       "    }\n",
       "</style>\n",
       "<table border=\"1\" class=\"dataframe\">\n",
       "  <thead>\n",
       "    <tr style=\"text-align: right;\">\n",
       "      <th></th>\n",
       "      <th>subscription_type</th>\n",
       "      <th>minute_price</th>\n",
       "      <th>start_ride_price</th>\n",
       "      <th>subscription_fee</th>\n",
       "    </tr>\n",
       "  </thead>\n",
       "  <tbody>\n",
       "    <tr>\n",
       "      <th>0</th>\n",
       "      <td>free</td>\n",
       "      <td>8</td>\n",
       "      <td>50</td>\n",
       "      <td>0</td>\n",
       "    </tr>\n",
       "    <tr>\n",
       "      <th>1</th>\n",
       "      <td>ultra</td>\n",
       "      <td>6</td>\n",
       "      <td>0</td>\n",
       "      <td>199</td>\n",
       "    </tr>\n",
       "  </tbody>\n",
       "</table>\n",
       "</div>"
      ],
      "text/plain": [
       "  subscription_type  minute_price  start_ride_price  subscription_fee\n",
       "0              free             8                50                 0\n",
       "1             ultra             6                 0               199"
      ]
     },
     "execution_count": 18,
     "metadata": {},
     "output_type": "execute_result"
    }
   ],
   "source": [
    "subscriptions.head()"
   ]
  },
  {
   "cell_type": "markdown",
   "id": "c8ca65af",
   "metadata": {},
   "source": [
    "Явно не содержит дубликатов"
   ]
  },
  {
   "cell_type": "markdown",
   "id": "1c8dc003",
   "metadata": {},
   "source": [
    "**Вывод:** была проведена предобработка данных из датасетов. Изменён тип данных в столбце date таблицы rides на datetime и добавлен столбец month. Также были обработаны дубликаты в таблицах."
   ]
  },
  {
   "cell_type": "markdown",
   "id": "259cc09f",
   "metadata": {},
   "source": [
    "## Исследовательский анализ данных"
   ]
  },
  {
   "cell_type": "markdown",
   "id": "be9782cd",
   "metadata": {},
   "source": [
    "### Исследуем частоту встречаемости городов"
   ]
  },
  {
   "cell_type": "code",
   "execution_count": 19,
   "id": "19e24bc1",
   "metadata": {},
   "outputs": [
    {
     "data": {
      "text/plain": [
       "Пятигорск         219\n",
       "Екатеринбург      204\n",
       "Ростов-на-Дону    198\n",
       "Краснодар         193\n",
       "Сочи              189\n",
       "Омск              183\n",
       "Тюмень            180\n",
       "Москва            168\n",
       "Name: city, dtype: int64"
      ]
     },
     "execution_count": 19,
     "metadata": {},
     "output_type": "execute_result"
    }
   ],
   "source": [
    "users['city'].value_counts()"
   ]
  },
  {
   "cell_type": "code",
   "execution_count": 20,
   "id": "d60a521d",
   "metadata": {},
   "outputs": [
    {
     "data": {
      "text/html": [
       "<style  type=\"text/css\" >\n",
       "#T_67483_row0_col0{\n",
       "            background-color:  #b40426;\n",
       "            color:  #f1f1f1;\n",
       "            text-align:  center;\n",
       "        }#T_67483_row1_col0{\n",
       "            background-color:  #f7aa8c;\n",
       "            color:  #000000;\n",
       "            text-align:  center;\n",
       "        }#T_67483_row2_col0{\n",
       "            background-color:  #f0cdbb;\n",
       "            color:  #000000;\n",
       "            text-align:  center;\n",
       "        }#T_67483_row3_col0{\n",
       "            background-color:  #dadce0;\n",
       "            color:  #000000;\n",
       "            text-align:  center;\n",
       "        }#T_67483_row4_col0{\n",
       "            background-color:  #c4d5f3;\n",
       "            color:  #000000;\n",
       "            text-align:  center;\n",
       "        }#T_67483_row5_col0{\n",
       "            background-color:  #9dbdff;\n",
       "            color:  #000000;\n",
       "            text-align:  center;\n",
       "        }#T_67483_row6_col0{\n",
       "            background-color:  #86a9fc;\n",
       "            color:  #000000;\n",
       "            text-align:  center;\n",
       "        }#T_67483_row7_col0{\n",
       "            background-color:  #3b4cc0;\n",
       "            color:  #f1f1f1;\n",
       "            text-align:  center;\n",
       "        }</style><table id=\"T_67483_\" ><thead>    <tr>        <th class=\"blank level0\" ></th>        <th class=\"col_heading level0 col0\" >Процент города в общей выборке</th>    </tr></thead><tbody>\n",
       "                <tr>\n",
       "                        <th id=\"T_67483_level0_row0\" class=\"row_heading level0 row0\" >Пятигорск</th>\n",
       "                        <td id=\"T_67483_row0_col0\" class=\"data row0 col0\" >14.28%</td>\n",
       "            </tr>\n",
       "            <tr>\n",
       "                        <th id=\"T_67483_level0_row1\" class=\"row_heading level0 row1\" >Екатеринбург</th>\n",
       "                        <td id=\"T_67483_row1_col0\" class=\"data row1 col0\" >13.30%</td>\n",
       "            </tr>\n",
       "            <tr>\n",
       "                        <th id=\"T_67483_level0_row2\" class=\"row_heading level0 row2\" >Ростов-на-Дону</th>\n",
       "                        <td id=\"T_67483_row2_col0\" class=\"data row2 col0\" >12.91%</td>\n",
       "            </tr>\n",
       "            <tr>\n",
       "                        <th id=\"T_67483_level0_row3\" class=\"row_heading level0 row3\" >Краснодар</th>\n",
       "                        <td id=\"T_67483_row3_col0\" class=\"data row3 col0\" >12.58%</td>\n",
       "            </tr>\n",
       "            <tr>\n",
       "                        <th id=\"T_67483_level0_row4\" class=\"row_heading level0 row4\" >Сочи</th>\n",
       "                        <td id=\"T_67483_row4_col0\" class=\"data row4 col0\" >12.32%</td>\n",
       "            </tr>\n",
       "            <tr>\n",
       "                        <th id=\"T_67483_level0_row5\" class=\"row_heading level0 row5\" >Омск</th>\n",
       "                        <td id=\"T_67483_row5_col0\" class=\"data row5 col0\" >11.93%</td>\n",
       "            </tr>\n",
       "            <tr>\n",
       "                        <th id=\"T_67483_level0_row6\" class=\"row_heading level0 row6\" >Тюмень</th>\n",
       "                        <td id=\"T_67483_row6_col0\" class=\"data row6 col0\" >11.73%</td>\n",
       "            </tr>\n",
       "            <tr>\n",
       "                        <th id=\"T_67483_level0_row7\" class=\"row_heading level0 row7\" >Москва</th>\n",
       "                        <td id=\"T_67483_row7_col0\" class=\"data row7 col0\" >10.95%</td>\n",
       "            </tr>\n",
       "    </tbody></table>"
      ],
      "text/plain": [
       "<pandas.io.formats.style.Styler at 0x7f5058e67b20>"
      ]
     },
     "execution_count": 20,
     "metadata": {},
     "output_type": "execute_result"
    }
   ],
   "source": [
    "(pd.DataFrame(users['city'].value_counts() / users['city'].count() * 100)\n",
    ".round(2)\n",
    ".rename(columns={'city':'Процент города в общей выборке'})\n",
    ".style.format(\"{:,.2f}%\") \n",
    ".background_gradient('coolwarm')\n",
    ".set_properties(**{'text-align': 'center'})) "
   ]
  },
  {
   "cell_type": "markdown",
   "id": "26673d7d",
   "metadata": {},
   "source": [
    "Всего представлены данные из 8 городов. Половина городов находится на юге страны. Больше всего пользователей в Пятигорске (14,28%), меньше всего - в Москве."
   ]
  },
  {
   "cell_type": "markdown",
   "id": "4d976b4e",
   "metadata": {},
   "source": [
    "### Соотношение пользователей с подпиской и без подписики"
   ]
  },
  {
   "cell_type": "code",
   "execution_count": 21,
   "id": "e7d02e97",
   "metadata": {},
   "outputs": [
    {
     "data": {
      "text/plain": [
       "array(['ultra', 'free'], dtype=object)"
      ]
     },
     "execution_count": 21,
     "metadata": {},
     "output_type": "execute_result"
    }
   ],
   "source": [
    "users['subscription_type'].unique()"
   ]
  },
  {
   "cell_type": "code",
   "execution_count": 22,
   "id": "71fca02b",
   "metadata": {},
   "outputs": [
    {
     "data": {
      "text/plain": [
       "<AxesSubplot:title={'center':'Соотношение пользвателей с подпиской и без'}, ylabel='subscription_type'>"
      ]
     },
     "execution_count": 22,
     "metadata": {},
     "output_type": "execute_result"
    },
    {
     "data": {
      "image/png": "[encoded data removed]",
      "text/plain": [
       "<Figure size 432x288 with 1 Axes>"
      ]
     },
     "metadata": {},
     "output_type": "display_data"
    }
   ],
   "source": [
    "users['subscription_type'].value_counts().plot.pie(autopct='%1.1f%%', \n",
    "        startangle=140, colors=['green', 'red'], title='Соотношение пользвателей с подпиской и без')"
   ]
  },
  {
   "cell_type": "code",
   "execution_count": 23,
   "id": "a1b37014",
   "metadata": {},
   "outputs": [
    {
     "data": {
      "text/plain": [
       "free     835\n",
       "ultra    699\n",
       "Name: subscription_type, dtype: int64"
      ]
     },
     "execution_count": 23,
     "metadata": {},
     "output_type": "execute_result"
    }
   ],
   "source": [
    "users['subscription_type'].value_counts()"
   ]
  },
  {
   "cell_type": "markdown",
   "id": "4b8317ba",
   "metadata": {},
   "source": [
    "Чуть больше половины пользователей используют сервис без подписки. "
   ]
  },
  {
   "cell_type": "markdown",
   "id": "d8e1349b",
   "metadata": {},
   "source": [
    "### Возраст пользователей"
   ]
  },
  {
   "cell_type": "code",
   "execution_count": 24,
   "id": "f1f9033b",
   "metadata": {},
   "outputs": [
    {
     "data": {
      "image/png": "[encoded data removed]",
      "text/plain": [
       "<Figure size 432x288 with 1 Axes>"
      ]
     },
     "metadata": {
      "needs_background": "light"
     },
     "output_type": "display_data"
    }
   ],
   "source": [
    "users['age'].hist(bins=30)\n",
    "plt.title('Возраст пользователей')\n",
    "plt.xlabel('Возраст, лет')\n",
    "plt.ylabel('Количество пользователей')\n",
    "plt.show()"
   ]
  },
  {
   "cell_type": "code",
   "execution_count": 25,
   "id": "fc34e039",
   "metadata": {},
   "outputs": [
    {
     "data": {
      "text/plain": [
       "count    1534.000000\n",
       "mean       24.903520\n",
       "std         4.572367\n",
       "min        12.000000\n",
       "25%        22.000000\n",
       "50%        25.000000\n",
       "75%        28.000000\n",
       "max        43.000000\n",
       "Name: age, dtype: float64"
      ]
     },
     "execution_count": 25,
     "metadata": {},
     "output_type": "execute_result"
    }
   ],
   "source": [
    "users['age'].describe()"
   ]
  },
  {
   "cell_type": "markdown",
   "id": "7eb3f8ce",
   "metadata": {},
   "source": [
    "Как видно из гистограммы, больше всего пользователей в возрасте 25 лет. Основная масса пользователей имеют возраст от 22 до 28 лет. Есть совсем юные пользователи (12 лет), так и уже солидные (43 года)."
   ]
  },
  {
   "cell_type": "markdown",
   "id": "a6cda695",
   "metadata": {},
   "source": [
    "### Расстояние, преодолеваемое пользователем за одну поездку"
   ]
  },
  {
   "cell_type": "code",
   "execution_count": 26,
   "id": "eb15a632",
   "metadata": {},
   "outputs": [
    {
     "data": {
      "image/png": "[encoded data removed]",
      "text/plain": [
       "<Figure size 432x288 with 1 Axes>"
      ]
     },
     "metadata": {
      "needs_background": "light"
     },
     "output_type": "display_data"
    }
   ],
   "source": [
    "rides['distance'].hist(bins=100)\n",
    "plt.title('Расстояние, преодолеваемое пользователем за одну поездку')\n",
    "plt.xlabel('Расстояние, метры')\n",
    "plt.ylabel('Частота встречаемости')\n",
    "plt.show()"
   ]
  },
  {
   "cell_type": "code",
   "execution_count": 27,
   "id": "ac7fd5df",
   "metadata": {},
   "outputs": [
    {
     "data": {
      "text/plain": [
       "count    18068.000000\n",
       "mean      3070.659976\n",
       "std       1116.831209\n",
       "min          0.855683\n",
       "25%       2543.226360\n",
       "50%       3133.609994\n",
       "75%       3776.222735\n",
       "max       7211.007745\n",
       "Name: distance, dtype: float64"
      ]
     },
     "execution_count": 27,
     "metadata": {},
     "output_type": "execute_result"
    }
   ],
   "source": [
    "rides['distance'].describe()"
   ]
  },
  {
   "cell_type": "markdown",
   "id": "ea37c54e",
   "metadata": {},
   "source": [
    "Из гистограммы и описания видно, что наиболее распространенное расстояние, проезжаемое за поездку, находится в районе 3 км. Большая часть поездок находится в диапазоне от 2,5 км до 3,8 км. Однако стоит обратить внимание на небольшой пик в районе 500 м. Он немного выбивается из общей картины и может описывать короткие поездки, например, до магазина или ближайшей автобусной остановки."
   ]
  },
  {
   "cell_type": "markdown",
   "id": "fbdf100a",
   "metadata": {},
   "source": [
    "### Время поездки"
   ]
  },
  {
   "cell_type": "code",
   "execution_count": 28,
   "id": "b106216b",
   "metadata": {},
   "outputs": [
    {
     "data": {
      "image/png": "[encoded data removed]",
      "text/plain": [
       "<Figure size 432x288 with 1 Axes>"
      ]
     },
     "metadata": {
      "needs_background": "light"
     },
     "output_type": "display_data"
    }
   ],
   "source": [
    "rides['duration'].hist(bins=100)\n",
    "plt.title('Время поездки пользователей')\n",
    "plt.xlabel('Время, минуты')\n",
    "plt.ylabel('Частота встречаемости')\n",
    "plt.show()"
   ]
  },
  {
   "cell_type": "code",
   "execution_count": 29,
   "id": "77a23433",
   "metadata": {},
   "outputs": [
    {
     "data": {
      "text/plain": [
       "count    18068.000000\n",
       "mean        17.805011\n",
       "std          6.091051\n",
       "min          0.500000\n",
       "25%         13.597563\n",
       "50%         17.678395\n",
       "75%         21.724800\n",
       "max         40.823963\n",
       "Name: duration, dtype: float64"
      ]
     },
     "execution_count": 29,
     "metadata": {},
     "output_type": "execute_result"
    }
   ],
   "source": [
    "rides['duration'].describe()"
   ]
  },
  {
   "cell_type": "markdown",
   "id": "92fbae0b",
   "metadata": {},
   "source": [
    "Среднее время поездки составляет примерно 18 минут. Распределение похоже на нормальное. Однако в районе 1 минуты присутствует аномальный выброс. Это может быть связано со случайными вызовами или ошибочными вызовами. Такие данные не будут полезны при анализе среднего времени, поэтому от них лучше избавиться. Предварительно исследуем их подробнее."
   ]
  },
  {
   "cell_type": "code",
   "execution_count": 30,
   "id": "ca7183dd",
   "metadata": {},
   "outputs": [
    {
     "data": {
      "text/plain": [
       "<AxesSubplot:>"
      ]
     },
     "execution_count": 30,
     "metadata": {},
     "output_type": "execute_result"
    },
    {
     "data": {
      "image/png": "[encoded data removed]",
      "text/plain": [
       "<Figure size 432x288 with 1 Axes>"
      ]
     },
     "metadata": {
      "needs_background": "light"
     },
     "output_type": "display_data"
    }
   ],
   "source": [
    "rides['duration'].hist(bins=100, range=(0,2))"
   ]
  },
  {
   "cell_type": "markdown",
   "id": "7238b4ce",
   "metadata": {},
   "source": [
    "Видно, что это одинокий пик, причём достатчоно большой. Возможно, это сбой при вызове самоката или пробная аренда. В любом случае эти данные не помогут установить среднюю длительность поездки корректно."
   ]
  },
  {
   "cell_type": "code",
   "execution_count": 31,
   "id": "e7d10790",
   "metadata": {},
   "outputs": [],
   "source": [
    "rides = rides.query('duration > 0.5')"
   ]
  },
  {
   "cell_type": "code",
   "execution_count": 32,
   "id": "ac6cf87d",
   "metadata": {},
   "outputs": [
    {
     "data": {
      "image/png": "[encoded data removed]",
      "text/plain": [
       "<Figure size 432x288 with 1 Axes>"
      ]
     },
     "metadata": {
      "needs_background": "light"
     },
     "output_type": "display_data"
    }
   ],
   "source": [
    "rides['duration'].hist(bins=100)\n",
    "plt.title('Время поездки пользователей')\n",
    "plt.xlabel('Время, минуты')\n",
    "plt.ylabel('Частота встречаемости')\n",
    "plt.show()"
   ]
  },
  {
   "cell_type": "markdown",
   "id": "f3cf8053",
   "metadata": {},
   "source": [
    "Эта часть данных отсечена. Теперь можно переходить к анализу"
   ]
  },
  {
   "cell_type": "markdown",
   "id": "8df70098",
   "metadata": {},
   "source": [
    "**Вывод:** Был проведен исследовательский анализ данных:\n",
    "* Наиболее часто встречаемый город - Пятигорск, наимение встречаемый - Москва;\n",
    "* Более половины пользователей пользуются сервисом без подписики;\n",
    "* Наиболее часто встречемый возраст пользователей - 25 лет;\n",
    "* Возраст, расстояние и время поездки распределены близко к нормальному;\n",
    "* В распределении расстояний присутствует небольшой пик в районе 500-600 метров."
   ]
  },
  {
   "cell_type": "markdown",
   "id": "440fa1d6",
   "metadata": {},
   "source": [
    "## Объединение данных"
   ]
  },
  {
   "cell_type": "markdown",
   "id": "ce88a306",
   "metadata": {},
   "source": [
    "### Объединим датафреймы"
   ]
  },
  {
   "cell_type": "code",
   "execution_count": 33,
   "id": "088cde89",
   "metadata": {},
   "outputs": [
    {
     "data": {
      "text/html": [
       "<div>\n",
       "<style scoped>\n",
       "    .dataframe tbody tr th:only-of-type {\n",
       "        vertical-align: middle;\n",
       "    }\n",
       "\n",
       "    .dataframe tbody tr th {\n",
       "        vertical-align: top;\n",
       "    }\n",
       "\n",
       "    .dataframe thead th {\n",
       "        text-align: right;\n",
       "    }\n",
       "</style>\n",
       "<table border=\"1\" class=\"dataframe\">\n",
       "  <thead>\n",
       "    <tr style=\"text-align: right;\">\n",
       "      <th></th>\n",
       "      <th>user_id</th>\n",
       "      <th>distance</th>\n",
       "      <th>duration</th>\n",
       "      <th>date</th>\n",
       "      <th>month</th>\n",
       "      <th>name</th>\n",
       "      <th>age</th>\n",
       "      <th>city</th>\n",
       "      <th>subscription_type</th>\n",
       "      <th>minute_price</th>\n",
       "      <th>start_ride_price</th>\n",
       "      <th>subscription_fee</th>\n",
       "    </tr>\n",
       "  </thead>\n",
       "  <tbody>\n",
       "    <tr>\n",
       "      <th>0</th>\n",
       "      <td>1</td>\n",
       "      <td>4409.919140</td>\n",
       "      <td>25.599769</td>\n",
       "      <td>2021-01-01</td>\n",
       "      <td>1</td>\n",
       "      <td>Кира</td>\n",
       "      <td>22</td>\n",
       "      <td>Тюмень</td>\n",
       "      <td>ultra</td>\n",
       "      <td>6</td>\n",
       "      <td>0</td>\n",
       "      <td>199</td>\n",
       "    </tr>\n",
       "    <tr>\n",
       "      <th>1</th>\n",
       "      <td>1</td>\n",
       "      <td>2617.592153</td>\n",
       "      <td>15.816871</td>\n",
       "      <td>2021-01-18</td>\n",
       "      <td>1</td>\n",
       "      <td>Кира</td>\n",
       "      <td>22</td>\n",
       "      <td>Тюмень</td>\n",
       "      <td>ultra</td>\n",
       "      <td>6</td>\n",
       "      <td>0</td>\n",
       "      <td>199</td>\n",
       "    </tr>\n",
       "    <tr>\n",
       "      <th>2</th>\n",
       "      <td>1</td>\n",
       "      <td>754.159807</td>\n",
       "      <td>6.232113</td>\n",
       "      <td>2021-04-20</td>\n",
       "      <td>4</td>\n",
       "      <td>Кира</td>\n",
       "      <td>22</td>\n",
       "      <td>Тюмень</td>\n",
       "      <td>ultra</td>\n",
       "      <td>6</td>\n",
       "      <td>0</td>\n",
       "      <td>199</td>\n",
       "    </tr>\n",
       "    <tr>\n",
       "      <th>3</th>\n",
       "      <td>1</td>\n",
       "      <td>2694.783254</td>\n",
       "      <td>18.511000</td>\n",
       "      <td>2021-08-11</td>\n",
       "      <td>8</td>\n",
       "      <td>Кира</td>\n",
       "      <td>22</td>\n",
       "      <td>Тюмень</td>\n",
       "      <td>ultra</td>\n",
       "      <td>6</td>\n",
       "      <td>0</td>\n",
       "      <td>199</td>\n",
       "    </tr>\n",
       "    <tr>\n",
       "      <th>4</th>\n",
       "      <td>1</td>\n",
       "      <td>4028.687306</td>\n",
       "      <td>26.265803</td>\n",
       "      <td>2021-08-28</td>\n",
       "      <td>8</td>\n",
       "      <td>Кира</td>\n",
       "      <td>22</td>\n",
       "      <td>Тюмень</td>\n",
       "      <td>ultra</td>\n",
       "      <td>6</td>\n",
       "      <td>0</td>\n",
       "      <td>199</td>\n",
       "    </tr>\n",
       "    <tr>\n",
       "      <th>5</th>\n",
       "      <td>1</td>\n",
       "      <td>2770.890808</td>\n",
       "      <td>16.650138</td>\n",
       "      <td>2021-10-09</td>\n",
       "      <td>10</td>\n",
       "      <td>Кира</td>\n",
       "      <td>22</td>\n",
       "      <td>Тюмень</td>\n",
       "      <td>ultra</td>\n",
       "      <td>6</td>\n",
       "      <td>0</td>\n",
       "      <td>199</td>\n",
       "    </tr>\n",
       "    <tr>\n",
       "      <th>6</th>\n",
       "      <td>1</td>\n",
       "      <td>3039.020292</td>\n",
       "      <td>14.927879</td>\n",
       "      <td>2021-10-19</td>\n",
       "      <td>10</td>\n",
       "      <td>Кира</td>\n",
       "      <td>22</td>\n",
       "      <td>Тюмень</td>\n",
       "      <td>ultra</td>\n",
       "      <td>6</td>\n",
       "      <td>0</td>\n",
       "      <td>199</td>\n",
       "    </tr>\n",
       "    <tr>\n",
       "      <th>7</th>\n",
       "      <td>1</td>\n",
       "      <td>2842.118050</td>\n",
       "      <td>23.117468</td>\n",
       "      <td>2021-11-06</td>\n",
       "      <td>11</td>\n",
       "      <td>Кира</td>\n",
       "      <td>22</td>\n",
       "      <td>Тюмень</td>\n",
       "      <td>ultra</td>\n",
       "      <td>6</td>\n",
       "      <td>0</td>\n",
       "      <td>199</td>\n",
       "    </tr>\n",
       "    <tr>\n",
       "      <th>8</th>\n",
       "      <td>1</td>\n",
       "      <td>3412.690668</td>\n",
       "      <td>15.238072</td>\n",
       "      <td>2021-11-14</td>\n",
       "      <td>11</td>\n",
       "      <td>Кира</td>\n",
       "      <td>22</td>\n",
       "      <td>Тюмень</td>\n",
       "      <td>ultra</td>\n",
       "      <td>6</td>\n",
       "      <td>0</td>\n",
       "      <td>199</td>\n",
       "    </tr>\n",
       "    <tr>\n",
       "      <th>9</th>\n",
       "      <td>1</td>\n",
       "      <td>748.690645</td>\n",
       "      <td>15.041884</td>\n",
       "      <td>2021-11-22</td>\n",
       "      <td>11</td>\n",
       "      <td>Кира</td>\n",
       "      <td>22</td>\n",
       "      <td>Тюмень</td>\n",
       "      <td>ultra</td>\n",
       "      <td>6</td>\n",
       "      <td>0</td>\n",
       "      <td>199</td>\n",
       "    </tr>\n",
       "  </tbody>\n",
       "</table>\n",
       "</div>"
      ],
      "text/plain": [
       "   user_id     distance   duration       date  month  name  age    city  \\\n",
       "0        1  4409.919140  25.599769 2021-01-01      1  Кира   22  Тюмень   \n",
       "1        1  2617.592153  15.816871 2021-01-18      1  Кира   22  Тюмень   \n",
       "2        1   754.159807   6.232113 2021-04-20      4  Кира   22  Тюмень   \n",
       "3        1  2694.783254  18.511000 2021-08-11      8  Кира   22  Тюмень   \n",
       "4        1  4028.687306  26.265803 2021-08-28      8  Кира   22  Тюмень   \n",
       "5        1  2770.890808  16.650138 2021-10-09     10  Кира   22  Тюмень   \n",
       "6        1  3039.020292  14.927879 2021-10-19     10  Кира   22  Тюмень   \n",
       "7        1  2842.118050  23.117468 2021-11-06     11  Кира   22  Тюмень   \n",
       "8        1  3412.690668  15.238072 2021-11-14     11  Кира   22  Тюмень   \n",
       "9        1   748.690645  15.041884 2021-11-22     11  Кира   22  Тюмень   \n",
       "\n",
       "  subscription_type  minute_price  start_ride_price  subscription_fee  \n",
       "0             ultra             6                 0               199  \n",
       "1             ultra             6                 0               199  \n",
       "2             ultra             6                 0               199  \n",
       "3             ultra             6                 0               199  \n",
       "4             ultra             6                 0               199  \n",
       "5             ultra             6                 0               199  \n",
       "6             ultra             6                 0               199  \n",
       "7             ultra             6                 0               199  \n",
       "8             ultra             6                 0               199  \n",
       "9             ultra             6                 0               199  "
      ]
     },
     "execution_count": 33,
     "metadata": {},
     "output_type": "execute_result"
    }
   ],
   "source": [
    "data_merged = rides.merge(users, how = 'left', on = 'user_id' )\n",
    "data_merged = data_merged.merge(subscriptions, how = 'left', on='subscription_type')\n",
    "data_merged.head(10)"
   ]
  },
  {
   "cell_type": "code",
   "execution_count": 34,
   "id": "d6df6640",
   "metadata": {},
   "outputs": [
    {
     "name": "stdout",
     "output_type": "stream",
     "text": [
      "До объединения в таблице rides было 17973 строк.\n",
      "В итоговой таблице стало 17973 строк. В итоговой таблице пропусков: \n",
      "user_id              0\n",
      "distance             0\n",
      "duration             0\n",
      "date                 0\n",
      "month                0\n",
      "name                 0\n",
      "age                  0\n",
      "city                 0\n",
      "subscription_type    0\n",
      "minute_price         0\n",
      "start_ride_price     0\n",
      "subscription_fee     0\n",
      "dtype: int64\n"
     ]
    }
   ],
   "source": [
    "print(f'''До объединения в таблице rides было {len(rides)} строк.\n",
    "В итоговой таблице стало {len(data_merged)} строк. В итоговой таблице пропусков: \\n{data_merged.isna().sum()}''')"
   ]
  },
  {
   "cell_type": "markdown",
   "id": "2972510a",
   "metadata": {},
   "source": [
    "Было успешно проведено объединение таблиц в одну большую. Количество строк сохранено, пропусков после слияния не обнаружено.\n",
    "Теперь можно сравнить пользователей по городам и подпискам"
   ]
  },
  {
   "cell_type": "markdown",
   "id": "a0c6afac",
   "metadata": {},
   "source": [
    "### Выделить датафреймы с пользователями с подпиской и без"
   ]
  },
  {
   "cell_type": "code",
   "execution_count": 35,
   "id": "a28c1580",
   "metadata": {},
   "outputs": [
    {
     "data": {
      "text/html": [
       "<div>\n",
       "<style scoped>\n",
       "    .dataframe tbody tr th:only-of-type {\n",
       "        vertical-align: middle;\n",
       "    }\n",
       "\n",
       "    .dataframe tbody tr th {\n",
       "        vertical-align: top;\n",
       "    }\n",
       "\n",
       "    .dataframe thead th {\n",
       "        text-align: right;\n",
       "    }\n",
       "</style>\n",
       "<table border=\"1\" class=\"dataframe\">\n",
       "  <thead>\n",
       "    <tr style=\"text-align: right;\">\n",
       "      <th></th>\n",
       "      <th>user_id</th>\n",
       "      <th>distance</th>\n",
       "      <th>duration</th>\n",
       "      <th>date</th>\n",
       "      <th>month</th>\n",
       "      <th>name</th>\n",
       "      <th>age</th>\n",
       "      <th>city</th>\n",
       "      <th>subscription_type</th>\n",
       "      <th>minute_price</th>\n",
       "      <th>start_ride_price</th>\n",
       "      <th>subscription_fee</th>\n",
       "    </tr>\n",
       "  </thead>\n",
       "  <tbody>\n",
       "    <tr>\n",
       "      <th>0</th>\n",
       "      <td>700</td>\n",
       "      <td>2515.690719</td>\n",
       "      <td>14.944286</td>\n",
       "      <td>2021-01-02</td>\n",
       "      <td>1</td>\n",
       "      <td>Айдар</td>\n",
       "      <td>22</td>\n",
       "      <td>Омск</td>\n",
       "      <td>free</td>\n",
       "      <td>8</td>\n",
       "      <td>50</td>\n",
       "      <td>0</td>\n",
       "    </tr>\n",
       "    <tr>\n",
       "      <th>1</th>\n",
       "      <td>700</td>\n",
       "      <td>846.932642</td>\n",
       "      <td>16.234663</td>\n",
       "      <td>2021-02-01</td>\n",
       "      <td>2</td>\n",
       "      <td>Айдар</td>\n",
       "      <td>22</td>\n",
       "      <td>Омск</td>\n",
       "      <td>free</td>\n",
       "      <td>8</td>\n",
       "      <td>50</td>\n",
       "      <td>0</td>\n",
       "    </tr>\n",
       "    <tr>\n",
       "      <th>2</th>\n",
       "      <td>700</td>\n",
       "      <td>4004.434142</td>\n",
       "      <td>20.016628</td>\n",
       "      <td>2021-02-04</td>\n",
       "      <td>2</td>\n",
       "      <td>Айдар</td>\n",
       "      <td>22</td>\n",
       "      <td>Омск</td>\n",
       "      <td>free</td>\n",
       "      <td>8</td>\n",
       "      <td>50</td>\n",
       "      <td>0</td>\n",
       "    </tr>\n",
       "    <tr>\n",
       "      <th>3</th>\n",
       "      <td>700</td>\n",
       "      <td>1205.911290</td>\n",
       "      <td>9.782872</td>\n",
       "      <td>2021-02-10</td>\n",
       "      <td>2</td>\n",
       "      <td>Айдар</td>\n",
       "      <td>22</td>\n",
       "      <td>Омск</td>\n",
       "      <td>free</td>\n",
       "      <td>8</td>\n",
       "      <td>50</td>\n",
       "      <td>0</td>\n",
       "    </tr>\n",
       "    <tr>\n",
       "      <th>4</th>\n",
       "      <td>700</td>\n",
       "      <td>3047.379435</td>\n",
       "      <td>17.427673</td>\n",
       "      <td>2021-02-14</td>\n",
       "      <td>2</td>\n",
       "      <td>Айдар</td>\n",
       "      <td>22</td>\n",
       "      <td>Омск</td>\n",
       "      <td>free</td>\n",
       "      <td>8</td>\n",
       "      <td>50</td>\n",
       "      <td>0</td>\n",
       "    </tr>\n",
       "  </tbody>\n",
       "</table>\n",
       "</div>"
      ],
      "text/plain": [
       "   user_id     distance   duration       date  month   name  age  city  \\\n",
       "0      700  2515.690719  14.944286 2021-01-02      1  Айдар   22  Омск   \n",
       "1      700   846.932642  16.234663 2021-02-01      2  Айдар   22  Омск   \n",
       "2      700  4004.434142  20.016628 2021-02-04      2  Айдар   22  Омск   \n",
       "3      700  1205.911290   9.782872 2021-02-10      2  Айдар   22  Омск   \n",
       "4      700  3047.379435  17.427673 2021-02-14      2  Айдар   22  Омск   \n",
       "\n",
       "  subscription_type  minute_price  start_ride_price  subscription_fee  \n",
       "0              free             8                50                 0  \n",
       "1              free             8                50                 0  \n",
       "2              free             8                50                 0  \n",
       "3              free             8                50                 0  \n",
       "4              free             8                50                 0  "
      ]
     },
     "execution_count": 35,
     "metadata": {},
     "output_type": "execute_result"
    }
   ],
   "source": [
    "data_free = data_merged.query('subscription_type == \"free\"').reset_index(drop=True)\n",
    "data_free.head()"
   ]
  },
  {
   "cell_type": "code",
   "execution_count": 36,
   "id": "5e9d1de9",
   "metadata": {},
   "outputs": [
    {
     "data": {
      "text/html": [
       "<div>\n",
       "<style scoped>\n",
       "    .dataframe tbody tr th:only-of-type {\n",
       "        vertical-align: middle;\n",
       "    }\n",
       "\n",
       "    .dataframe tbody tr th {\n",
       "        vertical-align: top;\n",
       "    }\n",
       "\n",
       "    .dataframe thead th {\n",
       "        text-align: right;\n",
       "    }\n",
       "</style>\n",
       "<table border=\"1\" class=\"dataframe\">\n",
       "  <thead>\n",
       "    <tr style=\"text-align: right;\">\n",
       "      <th></th>\n",
       "      <th>user_id</th>\n",
       "      <th>distance</th>\n",
       "      <th>duration</th>\n",
       "      <th>date</th>\n",
       "      <th>month</th>\n",
       "      <th>name</th>\n",
       "      <th>age</th>\n",
       "      <th>city</th>\n",
       "      <th>subscription_type</th>\n",
       "      <th>minute_price</th>\n",
       "      <th>start_ride_price</th>\n",
       "      <th>subscription_fee</th>\n",
       "    </tr>\n",
       "  </thead>\n",
       "  <tbody>\n",
       "    <tr>\n",
       "      <th>0</th>\n",
       "      <td>1</td>\n",
       "      <td>4409.919140</td>\n",
       "      <td>25.599769</td>\n",
       "      <td>2021-01-01</td>\n",
       "      <td>1</td>\n",
       "      <td>Кира</td>\n",
       "      <td>22</td>\n",
       "      <td>Тюмень</td>\n",
       "      <td>ultra</td>\n",
       "      <td>6</td>\n",
       "      <td>0</td>\n",
       "      <td>199</td>\n",
       "    </tr>\n",
       "    <tr>\n",
       "      <th>1</th>\n",
       "      <td>1</td>\n",
       "      <td>2617.592153</td>\n",
       "      <td>15.816871</td>\n",
       "      <td>2021-01-18</td>\n",
       "      <td>1</td>\n",
       "      <td>Кира</td>\n",
       "      <td>22</td>\n",
       "      <td>Тюмень</td>\n",
       "      <td>ultra</td>\n",
       "      <td>6</td>\n",
       "      <td>0</td>\n",
       "      <td>199</td>\n",
       "    </tr>\n",
       "    <tr>\n",
       "      <th>2</th>\n",
       "      <td>1</td>\n",
       "      <td>754.159807</td>\n",
       "      <td>6.232113</td>\n",
       "      <td>2021-04-20</td>\n",
       "      <td>4</td>\n",
       "      <td>Кира</td>\n",
       "      <td>22</td>\n",
       "      <td>Тюмень</td>\n",
       "      <td>ultra</td>\n",
       "      <td>6</td>\n",
       "      <td>0</td>\n",
       "      <td>199</td>\n",
       "    </tr>\n",
       "    <tr>\n",
       "      <th>3</th>\n",
       "      <td>1</td>\n",
       "      <td>2694.783254</td>\n",
       "      <td>18.511000</td>\n",
       "      <td>2021-08-11</td>\n",
       "      <td>8</td>\n",
       "      <td>Кира</td>\n",
       "      <td>22</td>\n",
       "      <td>Тюмень</td>\n",
       "      <td>ultra</td>\n",
       "      <td>6</td>\n",
       "      <td>0</td>\n",
       "      <td>199</td>\n",
       "    </tr>\n",
       "    <tr>\n",
       "      <th>4</th>\n",
       "      <td>1</td>\n",
       "      <td>4028.687306</td>\n",
       "      <td>26.265803</td>\n",
       "      <td>2021-08-28</td>\n",
       "      <td>8</td>\n",
       "      <td>Кира</td>\n",
       "      <td>22</td>\n",
       "      <td>Тюмень</td>\n",
       "      <td>ultra</td>\n",
       "      <td>6</td>\n",
       "      <td>0</td>\n",
       "      <td>199</td>\n",
       "    </tr>\n",
       "  </tbody>\n",
       "</table>\n",
       "</div>"
      ],
      "text/plain": [
       "   user_id     distance   duration       date  month  name  age    city  \\\n",
       "0        1  4409.919140  25.599769 2021-01-01      1  Кира   22  Тюмень   \n",
       "1        1  2617.592153  15.816871 2021-01-18      1  Кира   22  Тюмень   \n",
       "2        1   754.159807   6.232113 2021-04-20      4  Кира   22  Тюмень   \n",
       "3        1  2694.783254  18.511000 2021-08-11      8  Кира   22  Тюмень   \n",
       "4        1  4028.687306  26.265803 2021-08-28      8  Кира   22  Тюмень   \n",
       "\n",
       "  subscription_type  minute_price  start_ride_price  subscription_fee  \n",
       "0             ultra             6                 0               199  \n",
       "1             ultra             6                 0               199  \n",
       "2             ultra             6                 0               199  \n",
       "3             ultra             6                 0               199  \n",
       "4             ultra             6                 0               199  "
      ]
     },
     "execution_count": 36,
     "metadata": {},
     "output_type": "execute_result"
    }
   ],
   "source": [
    "data_ultra = data_merged.query('subscription_type == \"ultra\"').reset_index(drop=True)\n",
    "data_ultra.head()"
   ]
  },
  {
   "cell_type": "markdown",
   "id": "6d9d874b",
   "metadata": {},
   "source": [
    "### Визуализировать данные о расстояниях и времени пользователей по категориям"
   ]
  },
  {
   "cell_type": "code",
   "execution_count": 37,
   "id": "348fca23",
   "metadata": {},
   "outputs": [
    {
     "data": {
      "text/plain": [
       "Text(0, 0.5, 'количество пользователей')"
      ]
     },
     "execution_count": 37,
     "metadata": {},
     "output_type": "execute_result"
    },
    {
     "data": {
      "image/png": "[encoded data removed]",
      "text/plain": [
       "<Figure size 432x288 with 1 Axes>"
      ]
     },
     "metadata": {
      "needs_background": "light"
     },
     "output_type": "display_data"
    }
   ],
   "source": [
    "ax = data_ultra.plot(\n",
    "    kind='hist',\n",
    "    y='distance',\n",
    "    histtype='step',\n",
    "    range=(0, 7000),\n",
    "    bins=70,\n",
    "    linewidth=3,\n",
    "    alpha=0.7,\n",
    "    label='С подпиской',\n",
    ")\n",
    "data_free.plot(\n",
    "    kind='hist',\n",
    "    y='distance',\n",
    "    histtype='step',\n",
    "    range=(0, 7000),\n",
    "    bins=70,\n",
    "    linewidth=3,\n",
    "    alpha=0.7,\n",
    "    label='Без подписки',\n",
    "    ax=ax,\n",
    "    grid=True,\n",
    "    legend=True,\n",
    ") \n",
    "plt.title('Расстояние, преодолеваемое за одну поездку пользователей с подпиской и без')\n",
    "plt.xlabel('расстояние, метр')\n",
    "plt.ylabel('количество пользователей')"
   ]
  },
  {
   "cell_type": "code",
   "execution_count": 38,
   "id": "f8868178",
   "metadata": {},
   "outputs": [
    {
     "data": {
      "text/plain": [
       "Text(0, 0.5, 'количество пользователей')"
      ]
     },
     "execution_count": 38,
     "metadata": {},
     "output_type": "execute_result"
    },
    {
     "data": {
      "image/png": "[encoded data removed]",
      "text/plain": [
       "<Figure size 432x288 with 1 Axes>"
      ]
     },
     "metadata": {
      "needs_background": "light"
     },
     "output_type": "display_data"
    }
   ],
   "source": [
    "ax_time = data_ultra.plot(\n",
    "    kind='hist',\n",
    "    y='duration',\n",
    "    histtype='step',\n",
    "    range=(0, 50),\n",
    "    bins=70,\n",
    "    linewidth=3,\n",
    "    alpha=0.7,\n",
    "    label='С подпиской',\n",
    ")\n",
    "data_free.plot(\n",
    "    kind='hist',\n",
    "    y='duration',\n",
    "    histtype='step',\n",
    "    range=(0, 50),\n",
    "    bins=70,\n",
    "    linewidth=3,\n",
    "    alpha=0.7,\n",
    "    label='Без подписки',\n",
    "    ax=ax_time,\n",
    "    grid=True,\n",
    "    legend=True,\n",
    ") \n",
    "plt.title('Продолжительность одной поездки пользователей с подпиской и без')\n",
    "plt.xlabel('время, мин')\n",
    "plt.ylabel('количество пользователей')"
   ]
  },
  {
   "cell_type": "markdown",
   "id": "32c3e798",
   "metadata": {},
   "source": [
    "**Вывод:** Были объединены датафреймы.\n",
    "Из первичного рассмотрения можно предположить, что пользователи с подпиской и без проводят примерно одинаковое время в поездках. Распределения очень похожи.  \n",
    "При этом пользователи с подпиской проезжают больше расстояния, чем без подписки. Причём смещён как основной пик, так и побочный пик. К тому же у пользователей без подписики присутствуют поездки с расстоянием 0. У пользователей без подписики нет выраженного пика на гистограмме."
   ]
  },
  {
   "cell_type": "markdown",
   "id": "415c9fe8",
   "metadata": {},
   "source": [
    "## Подсчёт выручки"
   ]
  },
  {
   "cell_type": "code",
   "execution_count": 39,
   "id": "f0208142",
   "metadata": {},
   "outputs": [],
   "source": [
    "# округлим время поезки до следующего целого числа\n",
    "data_merged['duration'] = np.ceil(data_merged['duration'])\n",
    "data_merged['duration'] = data_merged['duration'].astype('int')"
   ]
  },
  {
   "cell_type": "code",
   "execution_count": 40,
   "id": "32eef061",
   "metadata": {},
   "outputs": [
    {
     "data": {
      "text/html": [
       "<div>\n",
       "<style scoped>\n",
       "    .dataframe tbody tr th:only-of-type {\n",
       "        vertical-align: middle;\n",
       "    }\n",
       "\n",
       "    .dataframe tbody tr th {\n",
       "        vertical-align: top;\n",
       "    }\n",
       "\n",
       "    .dataframe thead th {\n",
       "        text-align: right;\n",
       "    }\n",
       "</style>\n",
       "<table border=\"1\" class=\"dataframe\">\n",
       "  <thead>\n",
       "    <tr style=\"text-align: right;\">\n",
       "      <th></th>\n",
       "      <th>user_id</th>\n",
       "      <th>distance</th>\n",
       "      <th>duration</th>\n",
       "      <th>date</th>\n",
       "      <th>month</th>\n",
       "      <th>name</th>\n",
       "      <th>age</th>\n",
       "      <th>city</th>\n",
       "      <th>subscription_type</th>\n",
       "      <th>minute_price</th>\n",
       "      <th>start_ride_price</th>\n",
       "      <th>subscription_fee</th>\n",
       "    </tr>\n",
       "  </thead>\n",
       "  <tbody>\n",
       "    <tr>\n",
       "      <th>0</th>\n",
       "      <td>1</td>\n",
       "      <td>4409.919140</td>\n",
       "      <td>26</td>\n",
       "      <td>2021-01-01</td>\n",
       "      <td>1</td>\n",
       "      <td>Кира</td>\n",
       "      <td>22</td>\n",
       "      <td>Тюмень</td>\n",
       "      <td>ultra</td>\n",
       "      <td>6</td>\n",
       "      <td>0</td>\n",
       "      <td>199</td>\n",
       "    </tr>\n",
       "    <tr>\n",
       "      <th>1</th>\n",
       "      <td>1</td>\n",
       "      <td>2617.592153</td>\n",
       "      <td>16</td>\n",
       "      <td>2021-01-18</td>\n",
       "      <td>1</td>\n",
       "      <td>Кира</td>\n",
       "      <td>22</td>\n",
       "      <td>Тюмень</td>\n",
       "      <td>ultra</td>\n",
       "      <td>6</td>\n",
       "      <td>0</td>\n",
       "      <td>199</td>\n",
       "    </tr>\n",
       "    <tr>\n",
       "      <th>2</th>\n",
       "      <td>1</td>\n",
       "      <td>754.159807</td>\n",
       "      <td>7</td>\n",
       "      <td>2021-04-20</td>\n",
       "      <td>4</td>\n",
       "      <td>Кира</td>\n",
       "      <td>22</td>\n",
       "      <td>Тюмень</td>\n",
       "      <td>ultra</td>\n",
       "      <td>6</td>\n",
       "      <td>0</td>\n",
       "      <td>199</td>\n",
       "    </tr>\n",
       "    <tr>\n",
       "      <th>3</th>\n",
       "      <td>1</td>\n",
       "      <td>2694.783254</td>\n",
       "      <td>19</td>\n",
       "      <td>2021-08-11</td>\n",
       "      <td>8</td>\n",
       "      <td>Кира</td>\n",
       "      <td>22</td>\n",
       "      <td>Тюмень</td>\n",
       "      <td>ultra</td>\n",
       "      <td>6</td>\n",
       "      <td>0</td>\n",
       "      <td>199</td>\n",
       "    </tr>\n",
       "    <tr>\n",
       "      <th>4</th>\n",
       "      <td>1</td>\n",
       "      <td>4028.687306</td>\n",
       "      <td>27</td>\n",
       "      <td>2021-08-28</td>\n",
       "      <td>8</td>\n",
       "      <td>Кира</td>\n",
       "      <td>22</td>\n",
       "      <td>Тюмень</td>\n",
       "      <td>ultra</td>\n",
       "      <td>6</td>\n",
       "      <td>0</td>\n",
       "      <td>199</td>\n",
       "    </tr>\n",
       "  </tbody>\n",
       "</table>\n",
       "</div>"
      ],
      "text/plain": [
       "   user_id     distance  duration       date  month  name  age    city  \\\n",
       "0        1  4409.919140        26 2021-01-01      1  Кира   22  Тюмень   \n",
       "1        1  2617.592153        16 2021-01-18      1  Кира   22  Тюмень   \n",
       "2        1   754.159807         7 2021-04-20      4  Кира   22  Тюмень   \n",
       "3        1  2694.783254        19 2021-08-11      8  Кира   22  Тюмень   \n",
       "4        1  4028.687306        27 2021-08-28      8  Кира   22  Тюмень   \n",
       "\n",
       "  subscription_type  minute_price  start_ride_price  subscription_fee  \n",
       "0             ultra             6                 0               199  \n",
       "1             ultra             6                 0               199  \n",
       "2             ultra             6                 0               199  \n",
       "3             ultra             6                 0               199  \n",
       "4             ultra             6                 0               199  "
      ]
     },
     "execution_count": 40,
     "metadata": {},
     "output_type": "execute_result"
    }
   ],
   "source": [
    "data_merged.head()"
   ]
  },
  {
   "cell_type": "markdown",
   "id": "adc16fcc",
   "metadata": {},
   "source": [
    "Окргуление прошло успешно"
   ]
  },
  {
   "cell_type": "code",
   "execution_count": 41,
   "id": "61b4098a",
   "metadata": {},
   "outputs": [],
   "source": [
    "pivot_table_merged = data_merged.pivot_table(index= ['user_id', 'month'], \n",
    "                                             values = ['distance', 'duration'],\n",
    "                                             aggfunc = {'distance': ['count', 'sum'], 'duration': 'sum'})"
   ]
  },
  {
   "cell_type": "code",
   "execution_count": 42,
   "id": "93fb770e",
   "metadata": {},
   "outputs": [],
   "source": [
    "pivot_table_merged.columns = ['monthly_count', 'monthly_distance', 'monthly_duration']"
   ]
  },
  {
   "cell_type": "code",
   "execution_count": 43,
   "id": "c7d95afb",
   "metadata": {},
   "outputs": [
    {
     "data": {
      "text/html": [
       "<div>\n",
       "<style scoped>\n",
       "    .dataframe tbody tr th:only-of-type {\n",
       "        vertical-align: middle;\n",
       "    }\n",
       "\n",
       "    .dataframe tbody tr th {\n",
       "        vertical-align: top;\n",
       "    }\n",
       "\n",
       "    .dataframe thead th {\n",
       "        text-align: right;\n",
       "    }\n",
       "</style>\n",
       "<table border=\"1\" class=\"dataframe\">\n",
       "  <thead>\n",
       "    <tr style=\"text-align: right;\">\n",
       "      <th></th>\n",
       "      <th>user_id</th>\n",
       "      <th>month</th>\n",
       "      <th>monthly_count</th>\n",
       "      <th>monthly_distance</th>\n",
       "      <th>monthly_duration</th>\n",
       "    </tr>\n",
       "  </thead>\n",
       "  <tbody>\n",
       "    <tr>\n",
       "      <th>0</th>\n",
       "      <td>1</td>\n",
       "      <td>1</td>\n",
       "      <td>2</td>\n",
       "      <td>7027.511294</td>\n",
       "      <td>42</td>\n",
       "    </tr>\n",
       "    <tr>\n",
       "      <th>1</th>\n",
       "      <td>1</td>\n",
       "      <td>4</td>\n",
       "      <td>1</td>\n",
       "      <td>754.159807</td>\n",
       "      <td>7</td>\n",
       "    </tr>\n",
       "    <tr>\n",
       "      <th>2</th>\n",
       "      <td>1</td>\n",
       "      <td>8</td>\n",
       "      <td>2</td>\n",
       "      <td>6723.470560</td>\n",
       "      <td>46</td>\n",
       "    </tr>\n",
       "    <tr>\n",
       "      <th>3</th>\n",
       "      <td>1</td>\n",
       "      <td>10</td>\n",
       "      <td>2</td>\n",
       "      <td>5809.911100</td>\n",
       "      <td>32</td>\n",
       "    </tr>\n",
       "    <tr>\n",
       "      <th>4</th>\n",
       "      <td>1</td>\n",
       "      <td>11</td>\n",
       "      <td>3</td>\n",
       "      <td>7003.499363</td>\n",
       "      <td>56</td>\n",
       "    </tr>\n",
       "    <tr>\n",
       "      <th>5</th>\n",
       "      <td>1</td>\n",
       "      <td>12</td>\n",
       "      <td>2</td>\n",
       "      <td>6751.629942</td>\n",
       "      <td>28</td>\n",
       "    </tr>\n",
       "    <tr>\n",
       "      <th>6</th>\n",
       "      <td>2</td>\n",
       "      <td>3</td>\n",
       "      <td>3</td>\n",
       "      <td>10187.723006</td>\n",
       "      <td>63</td>\n",
       "    </tr>\n",
       "    <tr>\n",
       "      <th>7</th>\n",
       "      <td>2</td>\n",
       "      <td>4</td>\n",
       "      <td>2</td>\n",
       "      <td>6164.381824</td>\n",
       "      <td>40</td>\n",
       "    </tr>\n",
       "    <tr>\n",
       "      <th>8</th>\n",
       "      <td>2</td>\n",
       "      <td>6</td>\n",
       "      <td>1</td>\n",
       "      <td>3255.338202</td>\n",
       "      <td>14</td>\n",
       "    </tr>\n",
       "    <tr>\n",
       "      <th>9</th>\n",
       "      <td>2</td>\n",
       "      <td>7</td>\n",
       "      <td>2</td>\n",
       "      <td>6780.722964</td>\n",
       "      <td>48</td>\n",
       "    </tr>\n",
       "    <tr>\n",
       "      <th>10</th>\n",
       "      <td>2</td>\n",
       "      <td>8</td>\n",
       "      <td>1</td>\n",
       "      <td>923.007439</td>\n",
       "      <td>7</td>\n",
       "    </tr>\n",
       "    <tr>\n",
       "      <th>11</th>\n",
       "      <td>2</td>\n",
       "      <td>10</td>\n",
       "      <td>1</td>\n",
       "      <td>2824.636598</td>\n",
       "      <td>19</td>\n",
       "    </tr>\n",
       "    <tr>\n",
       "      <th>12</th>\n",
       "      <td>2</td>\n",
       "      <td>12</td>\n",
       "      <td>1</td>\n",
       "      <td>3828.248580</td>\n",
       "      <td>12</td>\n",
       "    </tr>\n",
       "    <tr>\n",
       "      <th>13</th>\n",
       "      <td>3</td>\n",
       "      <td>1</td>\n",
       "      <td>1</td>\n",
       "      <td>3061.777147</td>\n",
       "      <td>13</td>\n",
       "    </tr>\n",
       "    <tr>\n",
       "      <th>14</th>\n",
       "      <td>3</td>\n",
       "      <td>2</td>\n",
       "      <td>2</td>\n",
       "      <td>5421.152016</td>\n",
       "      <td>39</td>\n",
       "    </tr>\n",
       "    <tr>\n",
       "      <th>15</th>\n",
       "      <td>3</td>\n",
       "      <td>4</td>\n",
       "      <td>1</td>\n",
       "      <td>2956.651632</td>\n",
       "      <td>21</td>\n",
       "    </tr>\n",
       "    <tr>\n",
       "      <th>16</th>\n",
       "      <td>3</td>\n",
       "      <td>5</td>\n",
       "      <td>3</td>\n",
       "      <td>9064.026918</td>\n",
       "      <td>63</td>\n",
       "    </tr>\n",
       "    <tr>\n",
       "      <th>17</th>\n",
       "      <td>3</td>\n",
       "      <td>7</td>\n",
       "      <td>3</td>\n",
       "      <td>10919.595403</td>\n",
       "      <td>67</td>\n",
       "    </tr>\n",
       "    <tr>\n",
       "      <th>18</th>\n",
       "      <td>3</td>\n",
       "      <td>9</td>\n",
       "      <td>1</td>\n",
       "      <td>2891.012822</td>\n",
       "      <td>23</td>\n",
       "    </tr>\n",
       "    <tr>\n",
       "      <th>19</th>\n",
       "      <td>3</td>\n",
       "      <td>12</td>\n",
       "      <td>1</td>\n",
       "      <td>2593.381928</td>\n",
       "      <td>13</td>\n",
       "    </tr>\n",
       "    <tr>\n",
       "      <th>20</th>\n",
       "      <td>4</td>\n",
       "      <td>2</td>\n",
       "      <td>2</td>\n",
       "      <td>6339.696747</td>\n",
       "      <td>49</td>\n",
       "    </tr>\n",
       "    <tr>\n",
       "      <th>21</th>\n",
       "      <td>4</td>\n",
       "      <td>6</td>\n",
       "      <td>2</td>\n",
       "      <td>6753.041806</td>\n",
       "      <td>45</td>\n",
       "    </tr>\n",
       "    <tr>\n",
       "      <th>22</th>\n",
       "      <td>4</td>\n",
       "      <td>7</td>\n",
       "      <td>3</td>\n",
       "      <td>10491.175555</td>\n",
       "      <td>56</td>\n",
       "    </tr>\n",
       "    <tr>\n",
       "      <th>23</th>\n",
       "      <td>4</td>\n",
       "      <td>8</td>\n",
       "      <td>1</td>\n",
       "      <td>4649.488243</td>\n",
       "      <td>36</td>\n",
       "    </tr>\n",
       "    <tr>\n",
       "      <th>24</th>\n",
       "      <td>4</td>\n",
       "      <td>10</td>\n",
       "      <td>4</td>\n",
       "      <td>13260.762274</td>\n",
       "      <td>79</td>\n",
       "    </tr>\n",
       "    <tr>\n",
       "      <th>25</th>\n",
       "      <td>4</td>\n",
       "      <td>11</td>\n",
       "      <td>2</td>\n",
       "      <td>3343.025291</td>\n",
       "      <td>28</td>\n",
       "    </tr>\n",
       "    <tr>\n",
       "      <th>26</th>\n",
       "      <td>5</td>\n",
       "      <td>1</td>\n",
       "      <td>1</td>\n",
       "      <td>3914.646990</td>\n",
       "      <td>13</td>\n",
       "    </tr>\n",
       "    <tr>\n",
       "      <th>27</th>\n",
       "      <td>5</td>\n",
       "      <td>2</td>\n",
       "      <td>1</td>\n",
       "      <td>2561.108241</td>\n",
       "      <td>12</td>\n",
       "    </tr>\n",
       "    <tr>\n",
       "      <th>28</th>\n",
       "      <td>5</td>\n",
       "      <td>3</td>\n",
       "      <td>3</td>\n",
       "      <td>10633.732186</td>\n",
       "      <td>57</td>\n",
       "    </tr>\n",
       "    <tr>\n",
       "      <th>29</th>\n",
       "      <td>5</td>\n",
       "      <td>4</td>\n",
       "      <td>1</td>\n",
       "      <td>3373.080412</td>\n",
       "      <td>15</td>\n",
       "    </tr>\n",
       "    <tr>\n",
       "      <th>30</th>\n",
       "      <td>5</td>\n",
       "      <td>5</td>\n",
       "      <td>2</td>\n",
       "      <td>5823.074031</td>\n",
       "      <td>33</td>\n",
       "    </tr>\n",
       "    <tr>\n",
       "      <th>31</th>\n",
       "      <td>5</td>\n",
       "      <td>7</td>\n",
       "      <td>1</td>\n",
       "      <td>3311.974724</td>\n",
       "      <td>12</td>\n",
       "    </tr>\n",
       "    <tr>\n",
       "      <th>32</th>\n",
       "      <td>5</td>\n",
       "      <td>8</td>\n",
       "      <td>1</td>\n",
       "      <td>2720.817111</td>\n",
       "      <td>18</td>\n",
       "    </tr>\n",
       "    <tr>\n",
       "      <th>33</th>\n",
       "      <td>5</td>\n",
       "      <td>10</td>\n",
       "      <td>1</td>\n",
       "      <td>3218.515955</td>\n",
       "      <td>20</td>\n",
       "    </tr>\n",
       "    <tr>\n",
       "      <th>34</th>\n",
       "      <td>6</td>\n",
       "      <td>2</td>\n",
       "      <td>1</td>\n",
       "      <td>3961.432708</td>\n",
       "      <td>28</td>\n",
       "    </tr>\n",
       "    <tr>\n",
       "      <th>35</th>\n",
       "      <td>6</td>\n",
       "      <td>5</td>\n",
       "      <td>3</td>\n",
       "      <td>11013.574364</td>\n",
       "      <td>72</td>\n",
       "    </tr>\n",
       "    <tr>\n",
       "      <th>36</th>\n",
       "      <td>6</td>\n",
       "      <td>8</td>\n",
       "      <td>1</td>\n",
       "      <td>3142.271823</td>\n",
       "      <td>17</td>\n",
       "    </tr>\n",
       "    <tr>\n",
       "      <th>37</th>\n",
       "      <td>6</td>\n",
       "      <td>9</td>\n",
       "      <td>1</td>\n",
       "      <td>3346.098372</td>\n",
       "      <td>20</td>\n",
       "    </tr>\n",
       "    <tr>\n",
       "      <th>38</th>\n",
       "      <td>6</td>\n",
       "      <td>10</td>\n",
       "      <td>1</td>\n",
       "      <td>2350.641957</td>\n",
       "      <td>11</td>\n",
       "    </tr>\n",
       "    <tr>\n",
       "      <th>39</th>\n",
       "      <td>6</td>\n",
       "      <td>11</td>\n",
       "      <td>1</td>\n",
       "      <td>3339.625640</td>\n",
       "      <td>17</td>\n",
       "    </tr>\n",
       "    <tr>\n",
       "      <th>40</th>\n",
       "      <td>6</td>\n",
       "      <td>12</td>\n",
       "      <td>2</td>\n",
       "      <td>6924.961829</td>\n",
       "      <td>44</td>\n",
       "    </tr>\n",
       "    <tr>\n",
       "      <th>41</th>\n",
       "      <td>7</td>\n",
       "      <td>1</td>\n",
       "      <td>2</td>\n",
       "      <td>6478.080979</td>\n",
       "      <td>28</td>\n",
       "    </tr>\n",
       "    <tr>\n",
       "      <th>42</th>\n",
       "      <td>7</td>\n",
       "      <td>3</td>\n",
       "      <td>1</td>\n",
       "      <td>3679.561009</td>\n",
       "      <td>21</td>\n",
       "    </tr>\n",
       "    <tr>\n",
       "      <th>43</th>\n",
       "      <td>7</td>\n",
       "      <td>4</td>\n",
       "      <td>2</td>\n",
       "      <td>4888.946162</td>\n",
       "      <td>38</td>\n",
       "    </tr>\n",
       "    <tr>\n",
       "      <th>44</th>\n",
       "      <td>7</td>\n",
       "      <td>5</td>\n",
       "      <td>1</td>\n",
       "      <td>2971.564811</td>\n",
       "      <td>15</td>\n",
       "    </tr>\n",
       "    <tr>\n",
       "      <th>45</th>\n",
       "      <td>7</td>\n",
       "      <td>6</td>\n",
       "      <td>1</td>\n",
       "      <td>2508.554171</td>\n",
       "      <td>19</td>\n",
       "    </tr>\n",
       "    <tr>\n",
       "      <th>46</th>\n",
       "      <td>7</td>\n",
       "      <td>7</td>\n",
       "      <td>2</td>\n",
       "      <td>6097.825669</td>\n",
       "      <td>35</td>\n",
       "    </tr>\n",
       "    <tr>\n",
       "      <th>47</th>\n",
       "      <td>7</td>\n",
       "      <td>8</td>\n",
       "      <td>1</td>\n",
       "      <td>3008.257505</td>\n",
       "      <td>15</td>\n",
       "    </tr>\n",
       "    <tr>\n",
       "      <th>48</th>\n",
       "      <td>7</td>\n",
       "      <td>11</td>\n",
       "      <td>4</td>\n",
       "      <td>12879.354733</td>\n",
       "      <td>67</td>\n",
       "    </tr>\n",
       "    <tr>\n",
       "      <th>49</th>\n",
       "      <td>7</td>\n",
       "      <td>12</td>\n",
       "      <td>2</td>\n",
       "      <td>6195.334108</td>\n",
       "      <td>30</td>\n",
       "    </tr>\n",
       "  </tbody>\n",
       "</table>\n",
       "</div>"
      ],
      "text/plain": [
       "    user_id  month  monthly_count  monthly_distance  monthly_duration\n",
       "0         1      1              2       7027.511294                42\n",
       "1         1      4              1        754.159807                 7\n",
       "2         1      8              2       6723.470560                46\n",
       "3         1     10              2       5809.911100                32\n",
       "4         1     11              3       7003.499363                56\n",
       "5         1     12              2       6751.629942                28\n",
       "6         2      3              3      10187.723006                63\n",
       "7         2      4              2       6164.381824                40\n",
       "8         2      6              1       3255.338202                14\n",
       "9         2      7              2       6780.722964                48\n",
       "10        2      8              1        923.007439                 7\n",
       "11        2     10              1       2824.636598                19\n",
       "12        2     12              1       3828.248580                12\n",
       "13        3      1              1       3061.777147                13\n",
       "14        3      2              2       5421.152016                39\n",
       "15        3      4              1       2956.651632                21\n",
       "16        3      5              3       9064.026918                63\n",
       "17        3      7              3      10919.595403                67\n",
       "18        3      9              1       2891.012822                23\n",
       "19        3     12              1       2593.381928                13\n",
       "20        4      2              2       6339.696747                49\n",
       "21        4      6              2       6753.041806                45\n",
       "22        4      7              3      10491.175555                56\n",
       "23        4      8              1       4649.488243                36\n",
       "24        4     10              4      13260.762274                79\n",
       "25        4     11              2       3343.025291                28\n",
       "26        5      1              1       3914.646990                13\n",
       "27        5      2              1       2561.108241                12\n",
       "28        5      3              3      10633.732186                57\n",
       "29        5      4              1       3373.080412                15\n",
       "30        5      5              2       5823.074031                33\n",
       "31        5      7              1       3311.974724                12\n",
       "32        5      8              1       2720.817111                18\n",
       "33        5     10              1       3218.515955                20\n",
       "34        6      2              1       3961.432708                28\n",
       "35        6      5              3      11013.574364                72\n",
       "36        6      8              1       3142.271823                17\n",
       "37        6      9              1       3346.098372                20\n",
       "38        6     10              1       2350.641957                11\n",
       "39        6     11              1       3339.625640                17\n",
       "40        6     12              2       6924.961829                44\n",
       "41        7      1              2       6478.080979                28\n",
       "42        7      3              1       3679.561009                21\n",
       "43        7      4              2       4888.946162                38\n",
       "44        7      5              1       2971.564811                15\n",
       "45        7      6              1       2508.554171                19\n",
       "46        7      7              2       6097.825669                35\n",
       "47        7      8              1       3008.257505                15\n",
       "48        7     11              4      12879.354733                67\n",
       "49        7     12              2       6195.334108                30"
      ]
     },
     "execution_count": 43,
     "metadata": {},
     "output_type": "execute_result"
    }
   ],
   "source": [
    "pivot_table_merged = pivot_table_merged.reset_index()\n",
    "pivot_table_merged.head(50)"
   ]
  },
  {
   "cell_type": "markdown",
   "id": "a4e1f625",
   "metadata": {},
   "source": [
    "Теперь объединим эту таблицу с данными о пользователях и их подписках."
   ]
  },
  {
   "cell_type": "code",
   "execution_count": 44,
   "id": "f3a89847",
   "metadata": {},
   "outputs": [
    {
     "data": {
      "text/html": [
       "<div>\n",
       "<style scoped>\n",
       "    .dataframe tbody tr th:only-of-type {\n",
       "        vertical-align: middle;\n",
       "    }\n",
       "\n",
       "    .dataframe tbody tr th {\n",
       "        vertical-align: top;\n",
       "    }\n",
       "\n",
       "    .dataframe thead th {\n",
       "        text-align: right;\n",
       "    }\n",
       "</style>\n",
       "<table border=\"1\" class=\"dataframe\">\n",
       "  <thead>\n",
       "    <tr style=\"text-align: right;\">\n",
       "      <th></th>\n",
       "      <th>user_id</th>\n",
       "      <th>month</th>\n",
       "      <th>monthly_count</th>\n",
       "      <th>monthly_distance</th>\n",
       "      <th>monthly_duration</th>\n",
       "      <th>name</th>\n",
       "      <th>age</th>\n",
       "      <th>city</th>\n",
       "      <th>subscription_type</th>\n",
       "      <th>minute_price</th>\n",
       "      <th>start_ride_price</th>\n",
       "      <th>subscription_fee</th>\n",
       "    </tr>\n",
       "  </thead>\n",
       "  <tbody>\n",
       "    <tr>\n",
       "      <th>0</th>\n",
       "      <td>1</td>\n",
       "      <td>1</td>\n",
       "      <td>2</td>\n",
       "      <td>7027.511294</td>\n",
       "      <td>42</td>\n",
       "      <td>Кира</td>\n",
       "      <td>22</td>\n",
       "      <td>Тюмень</td>\n",
       "      <td>ultra</td>\n",
       "      <td>6</td>\n",
       "      <td>0</td>\n",
       "      <td>199</td>\n",
       "    </tr>\n",
       "    <tr>\n",
       "      <th>1</th>\n",
       "      <td>1</td>\n",
       "      <td>4</td>\n",
       "      <td>1</td>\n",
       "      <td>754.159807</td>\n",
       "      <td>7</td>\n",
       "      <td>Кира</td>\n",
       "      <td>22</td>\n",
       "      <td>Тюмень</td>\n",
       "      <td>ultra</td>\n",
       "      <td>6</td>\n",
       "      <td>0</td>\n",
       "      <td>199</td>\n",
       "    </tr>\n",
       "    <tr>\n",
       "      <th>2</th>\n",
       "      <td>1</td>\n",
       "      <td>8</td>\n",
       "      <td>2</td>\n",
       "      <td>6723.470560</td>\n",
       "      <td>46</td>\n",
       "      <td>Кира</td>\n",
       "      <td>22</td>\n",
       "      <td>Тюмень</td>\n",
       "      <td>ultra</td>\n",
       "      <td>6</td>\n",
       "      <td>0</td>\n",
       "      <td>199</td>\n",
       "    </tr>\n",
       "    <tr>\n",
       "      <th>3</th>\n",
       "      <td>1</td>\n",
       "      <td>10</td>\n",
       "      <td>2</td>\n",
       "      <td>5809.911100</td>\n",
       "      <td>32</td>\n",
       "      <td>Кира</td>\n",
       "      <td>22</td>\n",
       "      <td>Тюмень</td>\n",
       "      <td>ultra</td>\n",
       "      <td>6</td>\n",
       "      <td>0</td>\n",
       "      <td>199</td>\n",
       "    </tr>\n",
       "    <tr>\n",
       "      <th>4</th>\n",
       "      <td>1</td>\n",
       "      <td>11</td>\n",
       "      <td>3</td>\n",
       "      <td>7003.499363</td>\n",
       "      <td>56</td>\n",
       "      <td>Кира</td>\n",
       "      <td>22</td>\n",
       "      <td>Тюмень</td>\n",
       "      <td>ultra</td>\n",
       "      <td>6</td>\n",
       "      <td>0</td>\n",
       "      <td>199</td>\n",
       "    </tr>\n",
       "    <tr>\n",
       "      <th>5</th>\n",
       "      <td>1</td>\n",
       "      <td>12</td>\n",
       "      <td>2</td>\n",
       "      <td>6751.629942</td>\n",
       "      <td>28</td>\n",
       "      <td>Кира</td>\n",
       "      <td>22</td>\n",
       "      <td>Тюмень</td>\n",
       "      <td>ultra</td>\n",
       "      <td>6</td>\n",
       "      <td>0</td>\n",
       "      <td>199</td>\n",
       "    </tr>\n",
       "    <tr>\n",
       "      <th>6</th>\n",
       "      <td>2</td>\n",
       "      <td>3</td>\n",
       "      <td>3</td>\n",
       "      <td>10187.723006</td>\n",
       "      <td>63</td>\n",
       "      <td>Станислав</td>\n",
       "      <td>31</td>\n",
       "      <td>Омск</td>\n",
       "      <td>ultra</td>\n",
       "      <td>6</td>\n",
       "      <td>0</td>\n",
       "      <td>199</td>\n",
       "    </tr>\n",
       "    <tr>\n",
       "      <th>7</th>\n",
       "      <td>2</td>\n",
       "      <td>4</td>\n",
       "      <td>2</td>\n",
       "      <td>6164.381824</td>\n",
       "      <td>40</td>\n",
       "      <td>Станислав</td>\n",
       "      <td>31</td>\n",
       "      <td>Омск</td>\n",
       "      <td>ultra</td>\n",
       "      <td>6</td>\n",
       "      <td>0</td>\n",
       "      <td>199</td>\n",
       "    </tr>\n",
       "    <tr>\n",
       "      <th>8</th>\n",
       "      <td>2</td>\n",
       "      <td>6</td>\n",
       "      <td>1</td>\n",
       "      <td>3255.338202</td>\n",
       "      <td>14</td>\n",
       "      <td>Станислав</td>\n",
       "      <td>31</td>\n",
       "      <td>Омск</td>\n",
       "      <td>ultra</td>\n",
       "      <td>6</td>\n",
       "      <td>0</td>\n",
       "      <td>199</td>\n",
       "    </tr>\n",
       "    <tr>\n",
       "      <th>9</th>\n",
       "      <td>2</td>\n",
       "      <td>7</td>\n",
       "      <td>2</td>\n",
       "      <td>6780.722964</td>\n",
       "      <td>48</td>\n",
       "      <td>Станислав</td>\n",
       "      <td>31</td>\n",
       "      <td>Омск</td>\n",
       "      <td>ultra</td>\n",
       "      <td>6</td>\n",
       "      <td>0</td>\n",
       "      <td>199</td>\n",
       "    </tr>\n",
       "  </tbody>\n",
       "</table>\n",
       "</div>"
      ],
      "text/plain": [
       "   user_id  month  monthly_count  monthly_distance  monthly_duration  \\\n",
       "0        1      1              2       7027.511294                42   \n",
       "1        1      4              1        754.159807                 7   \n",
       "2        1      8              2       6723.470560                46   \n",
       "3        1     10              2       5809.911100                32   \n",
       "4        1     11              3       7003.499363                56   \n",
       "5        1     12              2       6751.629942                28   \n",
       "6        2      3              3      10187.723006                63   \n",
       "7        2      4              2       6164.381824                40   \n",
       "8        2      6              1       3255.338202                14   \n",
       "9        2      7              2       6780.722964                48   \n",
       "\n",
       "        name  age    city subscription_type  minute_price  start_ride_price  \\\n",
       "0       Кира   22  Тюмень             ultra             6                 0   \n",
       "1       Кира   22  Тюмень             ultra             6                 0   \n",
       "2       Кира   22  Тюмень             ultra             6                 0   \n",
       "3       Кира   22  Тюмень             ultra             6                 0   \n",
       "4       Кира   22  Тюмень             ultra             6                 0   \n",
       "5       Кира   22  Тюмень             ultra             6                 0   \n",
       "6  Станислав   31    Омск             ultra             6                 0   \n",
       "7  Станислав   31    Омск             ultra             6                 0   \n",
       "8  Станислав   31    Омск             ultra             6                 0   \n",
       "9  Станислав   31    Омск             ultra             6                 0   \n",
       "\n",
       "   subscription_fee  \n",
       "0               199  \n",
       "1               199  \n",
       "2               199  \n",
       "3               199  \n",
       "4               199  \n",
       "5               199  \n",
       "6               199  \n",
       "7               199  \n",
       "8               199  \n",
       "9               199  "
      ]
     },
     "execution_count": 44,
     "metadata": {},
     "output_type": "execute_result"
    }
   ],
   "source": [
    "monthly_merged = pivot_table_merged.merge(users, how = 'left', on = 'user_id' )\n",
    "monthly_merged = monthly_merged.merge(subscriptions, how = 'left', on='subscription_type')\n",
    "monthly_merged.head(10)"
   ]
  },
  {
   "cell_type": "code",
   "execution_count": 45,
   "id": "3234f22c",
   "metadata": {},
   "outputs": [],
   "source": [
    "monthly_merged['revenue'] = (monthly_merged['subscription_fee'] + \n",
    "                             monthly_merged['minute_price'] * monthly_merged['monthly_duration'] +\n",
    "                            monthly_merged['start_ride_price'] * monthly_merged['monthly_count'])"
   ]
  },
  {
   "cell_type": "code",
   "execution_count": 46,
   "id": "1e9fdc78",
   "metadata": {},
   "outputs": [
    {
     "data": {
      "text/html": [
       "<div>\n",
       "<style scoped>\n",
       "    .dataframe tbody tr th:only-of-type {\n",
       "        vertical-align: middle;\n",
       "    }\n",
       "\n",
       "    .dataframe tbody tr th {\n",
       "        vertical-align: top;\n",
       "    }\n",
       "\n",
       "    .dataframe thead th {\n",
       "        text-align: right;\n",
       "    }\n",
       "</style>\n",
       "<table border=\"1\" class=\"dataframe\">\n",
       "  <thead>\n",
       "    <tr style=\"text-align: right;\">\n",
       "      <th></th>\n",
       "      <th>user_id</th>\n",
       "      <th>month</th>\n",
       "      <th>monthly_count</th>\n",
       "      <th>monthly_distance</th>\n",
       "      <th>monthly_duration</th>\n",
       "      <th>name</th>\n",
       "      <th>age</th>\n",
       "      <th>city</th>\n",
       "      <th>subscription_type</th>\n",
       "      <th>minute_price</th>\n",
       "      <th>start_ride_price</th>\n",
       "      <th>subscription_fee</th>\n",
       "      <th>revenue</th>\n",
       "    </tr>\n",
       "  </thead>\n",
       "  <tbody>\n",
       "    <tr>\n",
       "      <th>0</th>\n",
       "      <td>1</td>\n",
       "      <td>1</td>\n",
       "      <td>2</td>\n",
       "      <td>7027.511294</td>\n",
       "      <td>42</td>\n",
       "      <td>Кира</td>\n",
       "      <td>22</td>\n",
       "      <td>Тюмень</td>\n",
       "      <td>ultra</td>\n",
       "      <td>6</td>\n",
       "      <td>0</td>\n",
       "      <td>199</td>\n",
       "      <td>451</td>\n",
       "    </tr>\n",
       "    <tr>\n",
       "      <th>1</th>\n",
       "      <td>1</td>\n",
       "      <td>4</td>\n",
       "      <td>1</td>\n",
       "      <td>754.159807</td>\n",
       "      <td>7</td>\n",
       "      <td>Кира</td>\n",
       "      <td>22</td>\n",
       "      <td>Тюмень</td>\n",
       "      <td>ultra</td>\n",
       "      <td>6</td>\n",
       "      <td>0</td>\n",
       "      <td>199</td>\n",
       "      <td>241</td>\n",
       "    </tr>\n",
       "    <tr>\n",
       "      <th>2</th>\n",
       "      <td>1</td>\n",
       "      <td>8</td>\n",
       "      <td>2</td>\n",
       "      <td>6723.470560</td>\n",
       "      <td>46</td>\n",
       "      <td>Кира</td>\n",
       "      <td>22</td>\n",
       "      <td>Тюмень</td>\n",
       "      <td>ultra</td>\n",
       "      <td>6</td>\n",
       "      <td>0</td>\n",
       "      <td>199</td>\n",
       "      <td>475</td>\n",
       "    </tr>\n",
       "    <tr>\n",
       "      <th>3</th>\n",
       "      <td>1</td>\n",
       "      <td>10</td>\n",
       "      <td>2</td>\n",
       "      <td>5809.911100</td>\n",
       "      <td>32</td>\n",
       "      <td>Кира</td>\n",
       "      <td>22</td>\n",
       "      <td>Тюмень</td>\n",
       "      <td>ultra</td>\n",
       "      <td>6</td>\n",
       "      <td>0</td>\n",
       "      <td>199</td>\n",
       "      <td>391</td>\n",
       "    </tr>\n",
       "    <tr>\n",
       "      <th>4</th>\n",
       "      <td>1</td>\n",
       "      <td>11</td>\n",
       "      <td>3</td>\n",
       "      <td>7003.499363</td>\n",
       "      <td>56</td>\n",
       "      <td>Кира</td>\n",
       "      <td>22</td>\n",
       "      <td>Тюмень</td>\n",
       "      <td>ultra</td>\n",
       "      <td>6</td>\n",
       "      <td>0</td>\n",
       "      <td>199</td>\n",
       "      <td>535</td>\n",
       "    </tr>\n",
       "  </tbody>\n",
       "</table>\n",
       "</div>"
      ],
      "text/plain": [
       "   user_id  month  monthly_count  monthly_distance  monthly_duration  name  \\\n",
       "0        1      1              2       7027.511294                42  Кира   \n",
       "1        1      4              1        754.159807                 7  Кира   \n",
       "2        1      8              2       6723.470560                46  Кира   \n",
       "3        1     10              2       5809.911100                32  Кира   \n",
       "4        1     11              3       7003.499363                56  Кира   \n",
       "\n",
       "   age    city subscription_type  minute_price  start_ride_price  \\\n",
       "0   22  Тюмень             ultra             6                 0   \n",
       "1   22  Тюмень             ultra             6                 0   \n",
       "2   22  Тюмень             ultra             6                 0   \n",
       "3   22  Тюмень             ultra             6                 0   \n",
       "4   22  Тюмень             ultra             6                 0   \n",
       "\n",
       "   subscription_fee  revenue  \n",
       "0               199      451  \n",
       "1               199      241  \n",
       "2               199      475  \n",
       "3               199      391  \n",
       "4               199      535  "
      ]
     },
     "execution_count": 46,
     "metadata": {},
     "output_type": "execute_result"
    }
   ],
   "source": [
    "monthly_merged.head()"
   ]
  },
  {
   "cell_type": "markdown",
   "id": "32ed2660",
   "metadata": {},
   "source": [
    "Новый столбец посчитан корректно. Теперь на основе этих данных можно делать выводы о тратах пользователей и их поведении в зваисимости от категории"
   ]
  },
  {
   "cell_type": "markdown",
   "id": "f4756358",
   "metadata": {},
   "source": [
    "**Вывод:** на основе объединенного датасета была сформирован столбец с ежемесячными доходами от каждого пользователя."
   ]
  },
  {
   "cell_type": "markdown",
   "id": "43b7d628",
   "metadata": {},
   "source": [
    "## Проверка гипотез"
   ]
  },
  {
   "cell_type": "markdown",
   "id": "69244cc4",
   "metadata": {},
   "source": [
    "Зададимся уровнем статистической значимости в 1%."
   ]
  },
  {
   "cell_type": "code",
   "execution_count": 47,
   "id": "52bef046",
   "metadata": {},
   "outputs": [],
   "source": [
    "alpha = 0.01"
   ]
  },
  {
   "cell_type": "markdown",
   "id": "9c738e14",
   "metadata": {},
   "source": [
    "### Важно понять, тратят ли пользователи с подпиской больше времени на поездки? Если да, то пользователи с подпиской могут быть «выгоднее» для компании. Проверьте гипотезу. "
   ]
  },
  {
   "cell_type": "markdown",
   "id": "83b5b47f",
   "metadata": {},
   "source": [
    "Необходимо сравнить средние двух выборок и понять, достаточен ли уровень *p-value*. Для этого применим метод ttest_ind для сравнения двух независимых выборок"
   ]
  },
  {
   "cell_type": "markdown",
   "id": "ce6b3c0c",
   "metadata": {},
   "source": [
    "Выдвинем гипотезы. Альтернативная гипотеза будет формулироваться как правосторонняя.  \n",
    "$H_0:$ Средние значения длительности поездок пользователей с подпиской и без подписки равны.  \n",
    "$H_1:$ Среднее значение длительности поездок пользователей с подпиской больше, чем среднее значение у пользователей без подписок"
   ]
  },
  {
   "cell_type": "code",
   "execution_count": 48,
   "id": "3c6f061f",
   "metadata": {},
   "outputs": [
    {
     "name": "stdout",
     "output_type": "stream",
     "text": [
      "Среднее значение длительности поездок с подпиской:  18.54198516280583\n",
      "Среднее значение длительности поездок без подписки:  17.530771268800226\n",
      "p-значение: 4.704468074453899e-28\n",
      "Отвергаем нулевую гипотезу\n"
     ]
    }
   ],
   "source": [
    "#выборка пользователей без подписики\n",
    "free_subs_dur = data_free['duration'] \n",
    "\n",
    "#выборка пользователей с подпиской\n",
    "ultra_subs_dur = data_ultra['duration']\n",
    "\n",
    "print('Среднее значение длительности поездок с подпиской: ', ultra_subs_dur.mean())\n",
    "print('Среднее значение длительности поездок без подписки: ', free_subs_dur.mean())\n",
    "\n",
    "results = st.ttest_ind(ultra_subs_dur, free_subs_dur, alternative='greater')\n",
    "\n",
    "print('p-значение:', results.pvalue)\n",
    "\n",
    "if results.pvalue < alpha:\n",
    "    print('Отвергаем нулевую гипотезу')\n",
    "else:\n",
    "    print('Не получилось отвергнуть нулевую гипотезу') "
   ]
  },
  {
   "cell_type": "markdown",
   "id": "3ac0d9cc",
   "metadata": {},
   "source": [
    "Нулевая гипотеза отвергается. Принимаем альтернативную гипотезу. P-value слишком мал, а значит, вероятность ошибки первого рода минимальна.\n",
    "Действительно, пользователи с подпиской проводят более длительные поездки"
   ]
  },
  {
   "cell_type": "markdown",
   "id": "468656f3",
   "metadata": {},
   "source": [
    "### Расстояние одной поездки в 3130 метров — оптимальное с точки зрения износа самоката. Можно ли сказать, что расстояние, которое проезжают пользователи с подпиской за одну поездку, не превышает 3130 метров? "
   ]
  },
  {
   "cell_type": "markdown",
   "id": "7578763d",
   "metadata": {},
   "source": [
    "Необходимо сравнить среднее значение расстояния, проходимого пользователем с подпиской, с 3130 метрами. Альтернативная гипотеза будет левосторонняя. Используем метод ttest_1samp"
   ]
  },
  {
   "cell_type": "markdown",
   "id": "36fb2db8",
   "metadata": {},
   "source": [
    "Выдвинем гипотезы.  \n",
    "$H_0:$ Среднее значение проходимого расстояния пользователями с подпиской равно 3130 метров.  \n",
    "$H_1:$ Среднее значение проходимого расстояния пользователями с подпиской больше, чем 3130 метров."
   ]
  },
  {
   "cell_type": "code",
   "execution_count": 49,
   "id": "b0433b06",
   "metadata": {},
   "outputs": [
    {
     "name": "stdout",
     "output_type": "stream",
     "text": [
      "Среднее значение расстояния пользователей с подпиской:  3115.4453880370247\n",
      "p-значение:  0.9195368847849785\n",
      "Не получилось отвергнуть нулевую гипотезу\n"
     ]
    }
   ],
   "source": [
    "ultra_sub_dist = data_ultra['distance']\n",
    "\n",
    "interested_value = 3130\n",
    "\n",
    "results = st.ttest_1samp(ultra_sub_dist, interested_value, alternative='greater')\n",
    "\n",
    "print('Среднее значение расстояния пользователей с подпиской: ', ultra_sub_dist.mean())\n",
    "\n",
    "print('p-значение: ', results.pvalue)\n",
    "\n",
    "if results.pvalue < alpha:\n",
    "    print('Отвергаем нулевую гипотезу')\n",
    "else:\n",
    "    print('Не получилось отвергнуть нулевую гипотезу') "
   ]
  },
  {
   "cell_type": "markdown",
   "id": "fda3a6a3",
   "metadata": {},
   "source": [
    "Значит, что пользователи проезжают расстояние оптимальное или меньше."
   ]
  },
  {
   "cell_type": "markdown",
   "id": "852e1faa",
   "metadata": {},
   "source": [
    "### Проверьте гипотезу о том, будет ли помесячная выручка от пользователей с подпиской по месяцам выше, чем выручка от пользователей без подписки. "
   ]
  },
  {
   "cell_type": "markdown",
   "id": "06bf064b",
   "metadata": {},
   "source": [
    "Необходимо сравнить среднее значение выручек двух выборок: пользователей с подпиской и пользователей без подписки. Воспользуемся функцией *ttest_ind*, так как выборки независимые. Воспользуемся правосторонней альтернативной гипотезой."
   ]
  },
  {
   "cell_type": "markdown",
   "id": "b137fe09",
   "metadata": {},
   "source": [
    "Выдвинем гипотезы.  \n",
    "$H_0:$ Средние значения ежемесячного дохода пользователей с подпиской и без подписки равны.  \n",
    "$H_1:$ Среднее значение ежемесячного дохода пользователей с подпиской больше, чем среднее значение у пользователей без подписок"
   ]
  },
  {
   "cell_type": "code",
   "execution_count": 50,
   "id": "0d4504fd",
   "metadata": {},
   "outputs": [
    {
     "name": "stdout",
     "output_type": "stream",
     "text": [
      "Среднее значение ежемесячного дохода от пользователей с подпиской:  362.7921906022502\n",
      "Среднее значение ежемесячного дохода от пользователей без подписки:  329.3326437121324\n",
      "p-значение:  2.0314113674863288e-30\n",
      "Отвергаем нулевую гипотезу\n"
     ]
    }
   ],
   "source": [
    "ultra_sub_rev = monthly_merged.query('subscription_type == \"ultra\"')['revenue']\n",
    "free_sub_rev = monthly_merged.query('subscription_type == \"free\"')['revenue']\n",
    "\n",
    "print('Среднее значение ежемесячного дохода от пользователей с подпиской: ', ultra_sub_rev.mean())\n",
    "print('Среднее значение ежемесячного дохода от пользователей без подписки: ', free_sub_rev.mean())\n",
    "\n",
    "results = st.ttest_ind(ultra_sub_rev, free_sub_rev, alternative='greater')\n",
    "\n",
    "print('p-значение: ', results.pvalue)\n",
    "\n",
    "if results.pvalue < alpha:\n",
    "    print('Отвергаем нулевую гипотезу')\n",
    "else:\n",
    "    print('Не получилось отвергнуть нулевую гипотезу') "
   ]
  },
  {
   "cell_type": "markdown",
   "id": "90fb8b56",
   "metadata": {},
   "source": [
    "Нулевая гипотеза отвергается, то есть можно предположить, что пользователи с подпиской приносят большую помесячную выручку с человека."
   ]
  },
  {
   "cell_type": "markdown",
   "id": "f6599528",
   "metadata": {},
   "source": [
    "### Представьте такую ситуацию: техническая команда сервиса обновила сервера, с которыми взаимодействует мобильное приложение. Она надеется, что из-за этого количество обращений в техподдержку значимо снизилось. Некоторый файл содержит для каждого пользователя данные о количестве обращений до обновления и после него. Какой тест вам понадобился бы для проверки этой гипотезы?"
   ]
  },
  {
   "cell_type": "markdown",
   "id": "31239ff1",
   "metadata": {},
   "source": [
    "В этом случае сравниваются две выборки: количество обращений от пользователя до обноваления и после. То есть выборки зависимы. Необходимо использовать функцию для сравнения двух зависимых выборок *ttest_rel*.  \n",
    "Важно отметить, что количество пользователей в одной и в другой выборке должно быть одинаково, а записанные значения для каждого пользователя должны находиться на соответствующих местах."
   ]
  },
  {
   "cell_type": "markdown",
   "id": "acd59a2d",
   "metadata": {},
   "source": [
    "**Вывод:**\n",
    "* Пользователи с подпиской в среднем проводят более длительные поездки по сравнению с пользователям без подписки (18,5 минут против 17,5 минут);\n",
    "* Пользователи с подпиской в среднем приносят больший ежемесячный доход по сравнению с пользователями без подписки (362,79 рубля против 329,33 рублей;\n",
    "* Пользователи с подпиской в среднем проезжают расстояния равные оптимальному расстоянию в 3130 метров.\n",
    "\n",
    "Из этого всего можно сделать вывод, что привлечение пользователей в подписку оправдано, так как они проводят более длительные поездки и приносят больше прибыли."
   ]
  },
  {
   "cell_type": "markdown",
   "id": "836ca44d",
   "metadata": {},
   "source": [
    "## Распределения"
   ]
  },
  {
   "cell_type": "markdown",
   "id": "5d936fa2",
   "metadata": {},
   "source": [
    "### Отделу маркетинга GoFast поставили задачу: нужно провести акцию с раздачей промокодов на один бесплатный месяц подписки, в рамках которой как минимум 100 существующих клиентов должны продлить эту подписку. То есть по завершении периода действия подписки пользователь может либо отказаться от неё, либо продлить, совершив соответствующий платёж.  \n",
    "Эта акция уже проводилась ранее и по итогу выяснилось, что после бесплатного пробного периода подписку продлевают 10% пользователей. Выясните, какое минимальное количество промокодов нужно разослать, чтобы вероятность не выполнить план была примерно 5 %. Подберите параметры распределения, описывающего эту ситуацию, постройте график распределения и сформулируйте ответ на вопрос о количестве промокодов."
   ]
  },
  {
   "cell_type": "markdown",
   "id": "2627c878",
   "metadata": {},
   "source": [
    "Задача решается использованием биноминального распределения. В этом случае успехом считается продление подписки после пробного периода, а неудачей - не продление. Вероятность успеха $p=0{,}1$. Необходимо подобрать такое количество испытаний $N$ (раздач промокодов), чтобы по итогу  вероятность 100 успешных исходов (продлений подписки) была не менее 5%."
   ]
  },
  {
   "cell_type": "code",
   "execution_count": 53,
   "id": "a678918c",
   "metadata": {},
   "outputs": [
    {
     "name": "stdout",
     "output_type": "stream",
     "text": [
      "Минимальное необходимое число промокодов:  1172\n",
      "Вероятность значений 100 и менее - 4.954795210203071 %\n"
     ]
    },
    {
     "name": "stderr",
     "output_type": "stream",
     "text": [
      "/opt/conda/lib/python3.9/site-packages/scipy/stats/_discrete_distns.py:78: RuntimeWarning: divide by zero encountered in _binom_pdf\n",
      "  return _boost._binom_pdf(x, n, p)\n"
     ]
    },
    {
     "data": {
      "text/plain": [
       "[]"
      ]
     },
     "execution_count": 53,
     "metadata": {},
     "output_type": "execute_result"
    },
    {
     "data": {
      "image/png": "[encoded data removed]",
      "text/plain": [
       "<Figure size 432x288 with 1 Axes>"
      ]
     },
     "metadata": {
      "needs_background": "light"
     },
     "output_type": "display_data"
    }
   ],
   "source": [
    "p = 0.1\n",
    "k_interested = 100 #необходимое число успехов\n",
    "n = 500 # начальное число испытаний\n",
    "min_prob = 0.05 # минимальная вероятность наступления минимального числа успехов\n",
    "\n",
    "distr = []\n",
    "\n",
    "while binom.cdf(k_interested, n, p) > min_prob: # подбор коэффициента\n",
    "    n += 1\n",
    "\n",
    "print('Минимальное необходимое число промокодов: ', n)    \n",
    "\n",
    "for k in range(0, n + 1):\n",
    "    current_value = st.binom.pmf(k, n, p)\n",
    "    distr.append(current_value)\n",
    "\n",
    "print('Вероятность значений 100 и менее -', binom.cdf(k_interested, n, p) * 100,'%')    \n",
    "    \n",
    "plt.bar(range(0, n + 1), distr)\n",
    "plt.xlim([80, 170])\n",
    "plt.xlabel('Число промокодов, после которых продлят подписку')\n",
    "plt.ylabel('Вероятность наступления исхода')\n",
    "plt.plot()"
   ]
  },
  {
   "cell_type": "markdown",
   "id": "065997d8",
   "metadata": {},
   "source": [
    "**Вывод:** необходимо сделать 1172 промокода, тогда минимум 100 человек продлят подписку с вероятностью 4,95%"
   ]
  },
  {
   "cell_type": "markdown",
   "id": "0e5125cd",
   "metadata": {},
   "source": [
    "### Отдел маркетинга рассылает клиентам push-уведомления в мобильном приложении. Клиенты могут открыть его или не открывать. Известно, что уведомления открывают около 40 % получивших клиентов. Отдел планирует разослать 1 млн уведомлений. С помощью аппроксимации постройте примерный график распределения и оцените вероятность того, что уведомление откроют не более 399,5 тыс. пользователей."
   ]
  },
  {
   "cell_type": "markdown",
   "id": "288bc446",
   "metadata": {},
   "source": [
    "В этом случае эксперимент описывается биноминальным распределением с параметрами $n=1 000 000$, $p=0{,}4$, однако в силу количества испытаний можно аппроксимировать биноминальное распределение нормальным с параметрами: $\\mu = n \\cdot p = 400 000$, $\\sigma = \\sqrt{n \\cdot p \\cdot (1 - p)} = 489{,}898$."
   ]
  },
  {
   "cell_type": "code",
   "execution_count": 54,
   "id": "25c41201",
   "metadata": {},
   "outputs": [
    {
     "name": "stdout",
     "output_type": "stream",
     "text": [
      "Вероятность того, что пуш уведомления откроют 399500 пользователей и менее равна 15.37%\n"
     ]
    },
    {
     "data": {
      "text/plain": [
       "[]"
      ]
     },
     "execution_count": 54,
     "metadata": {},
     "output_type": "execute_result"
    },
    {
     "data": {
      "image/png": "[encoded data removed]",
      "text/plain": [
       "<Figure size 432x288 with 1 Axes>"
      ]
     },
     "metadata": {
      "needs_background": "light"
     },
     "output_type": "display_data"
    }
   ],
   "source": [
    "def linspace(start, stop, num):\n",
    "    step = (stop - start) / (num - 1)\n",
    "    result = []\n",
    "    for i in range(num):\n",
    "        result.append(start + step * i)\n",
    "    return result\n",
    "\n",
    "#параметры биноминального распредления\n",
    "p = 0.4\n",
    "n = 1e6\n",
    "\n",
    "#параметры аппроксимирующего нормального распредления\n",
    "mu = n * p\n",
    "sigma = (n * p * (1 - p)) ** 0.5\n",
    "\n",
    "pushes = 399500\n",
    "\n",
    "distrib_approx = st.norm(mu, sigma) #задаём нормальное распредление с указанными параметрами\n",
    "\n",
    "print(f'Вероятность того, что пуш уведомления откроют {pushes} пользователей и менее равна {round(distrib_approx.cdf(pushes)*100,2)}%')\n",
    "x = linspace(mu - 3 * sigma, mu + 3 * sigma, 1000)\n",
    "plt.plot(x, distrib_approx.pdf(x), 'b-', lw=3)\n",
    "plt.title('Плотность вероятности нормального распределения открытых пуш-уведомлений')\n",
    "plt.xlabel('число открытых пуш-уведомлений')\n",
    "plt.ylabel('вероятность')\n",
    "plt.grid()\n",
    "plt.plot()\n",
    "\n",
    "\n",
    "\n",
    "\n"
   ]
  },
  {
   "cell_type": "markdown",
   "id": "baed5b72",
   "metadata": {},
   "source": [
    "**Вывод:** 399,5 тысяч пользователей и менее откроют пуш-уведомление в 15,37% случаев. Это достаточно неплохой результат.  \n",
    "Наиболее вероятное значение - примерно 400 тысяч открытых уведомлений. Проводимая акция целесообразна."
   ]
  },
  {
   "cell_type": "markdown",
   "id": "e45bf66f",
   "metadata": {},
   "source": [
    "# Вывод"
   ]
  },
  {
   "cell_type": "markdown",
   "id": "5f1e5767",
   "metadata": {},
   "source": [
    "В ходе работы была проанализирована выборка пользователей сервиса аренды самокатов *GoFast*.  \n",
    "Были выполнены в процессе предобработки: \n",
    "* Выгрузка данных;\n",
    "* Поиск пропущенных значений и их заполнение;\n",
    "* Удаление дубликатов.\n",
    "\n",
    "Также на этом этапе был добавлен столбец *month* с номером месяца, в который была совершена поездка.\n",
    "После этого было проведено объединение таблиц с данными для удобства анализа. В процессе был добавлен столбец с ежемесячной прибылью от пользователя.\n",
    "\n",
    "В ходе исследовательского анализа было выявлено:\n",
    "* Более половины пользователей (54,4%) пользуются сервисом без подписки;\n",
    "* Больше всего пользователей находятся в Пятигорске, меньше всего - в Москве;\n",
    "* Наиболее распространенное расстояние, проезжаемое за поездку, находится в районе 3 км. Большая часть поездок находится в диапазоне от 2,5 км до 3,8 км;\n",
    "* Среднее время в дороге составляет примерно 18 минут.\n",
    "\n",
    "Также после объединения данных были проанализированы группы пользователей с подпиской и без неё:\n",
    "* Пользователи с подпиской проезжают больше расстояния, чем без подписки. У пользователей без подписики нет выраженного пика на гистограмме;\n",
    "* Время в дороге у разных групп пользователей имеет похожее распределение, однако присутсвуют явные выбросы в районе 0,5 минут.\n",
    "\n",
    "С помощью статистического анализа были проверены гипотезы и сделаны следующие выводы (уровень статистической значимости 1%):\n",
    "* Пользователи с подпиской совершают более длительные поездки (18,5 минут против 17,5 минут);\n",
    "* Пользователи с подпиской совершают в среднем оптимальные поездки для износа самокатов в 3130 метров или на меньшее расстояние;\n",
    "* Пользователи с подпиской в среднем приносят большую помесячную выручку с человека, нежели пользователи без подписки (362,79 рубля в месяц против 329,33 рублей в месяц).\n",
    "\n",
    "Рекомендации: \n",
    "* Провести раздачу промокодов. При выдаче 1172 промокодов с вероятностью более 95%, как минимум, 100 человек продлят подписку;\n",
    "* Разослать один миллион пуш-уведомлений с рекламной акцией для пользователей без подписки (тогда с вероятностю 85% уведомление посмотрят 399500 человек).\n"
   ]
  }
 ],
 "metadata": {
  "ExecuteTimeLog": [
   {
    "duration": 392,
    "start_time": "2025-05-08T14:37:54.251Z"
   },
   {
    "duration": 126,
    "start_time": "2025-05-08T14:44:09.982Z"
   },
   {
    "duration": 61,
    "start_time": "2025-05-08T14:44:23.120Z"
   },
   {
    "duration": 15,
    "start_time": "2025-05-08T14:52:14.692Z"
   },
   {
    "duration": 9,
    "start_time": "2025-05-08T14:52:24.737Z"
   },
   {
    "duration": 8,
    "start_time": "2025-05-08T14:52:43.950Z"
   },
   {
    "duration": 8,
    "start_time": "2025-05-08T14:52:48.427Z"
   },
   {
    "duration": 12,
    "start_time": "2025-05-08T14:53:03.587Z"
   },
   {
    "duration": 13,
    "start_time": "2025-05-08T14:53:14.801Z"
   },
   {
    "duration": 8,
    "start_time": "2025-05-08T14:53:43.230Z"
   },
   {
    "duration": 11,
    "start_time": "2025-05-08T14:53:59.848Z"
   },
   {
    "duration": 11,
    "start_time": "2025-05-08T15:00:16.333Z"
   },
   {
    "duration": 11,
    "start_time": "2025-05-08T15:00:17.090Z"
   },
   {
    "duration": 10,
    "start_time": "2025-05-08T15:00:17.671Z"
   },
   {
    "duration": 568,
    "start_time": "2025-05-08T15:00:35.439Z"
   },
   {
    "duration": 875,
    "start_time": "2025-05-08T15:00:54.670Z"
   },
   {
    "duration": 9,
    "start_time": "2025-05-08T15:01:04.149Z"
   },
   {
    "duration": 9,
    "start_time": "2025-05-08T15:01:19.534Z"
   },
   {
    "duration": 11,
    "start_time": "2025-05-08T15:01:50.302Z"
   },
   {
    "duration": 14,
    "start_time": "2025-05-08T15:01:56.983Z"
   },
   {
    "duration": 55,
    "start_time": "2025-05-08T15:02:00.367Z"
   },
   {
    "duration": 9,
    "start_time": "2025-05-08T15:02:02.561Z"
   },
   {
    "duration": 72,
    "start_time": "2025-05-08T15:02:10.308Z"
   },
   {
    "duration": 9,
    "start_time": "2025-05-08T15:02:11.310Z"
   },
   {
    "duration": 9,
    "start_time": "2025-05-08T15:02:12.362Z"
   },
   {
    "duration": 8,
    "start_time": "2025-05-08T15:02:13.398Z"
   },
   {
    "duration": 9,
    "start_time": "2025-05-08T15:02:16.105Z"
   },
   {
    "duration": 9,
    "start_time": "2025-05-08T15:02:16.878Z"
   },
   {
    "duration": 11,
    "start_time": "2025-05-08T15:02:25.228Z"
   },
   {
    "duration": 10,
    "start_time": "2025-05-08T15:02:34.065Z"
   },
   {
    "duration": 10,
    "start_time": "2025-05-08T15:04:39.782Z"
   },
   {
    "duration": 5,
    "start_time": "2025-05-08T15:04:47.799Z"
   },
   {
    "duration": 9,
    "start_time": "2025-05-08T15:04:59.303Z"
   },
   {
    "duration": 53,
    "start_time": "2025-05-09T11:15:31.739Z"
   },
   {
    "duration": 377,
    "start_time": "2025-05-09T11:15:34.468Z"
   },
   {
    "duration": 74,
    "start_time": "2025-05-09T11:15:36.397Z"
   },
   {
    "duration": 17,
    "start_time": "2025-05-09T11:15:37.717Z"
   },
   {
    "duration": 7,
    "start_time": "2025-05-09T11:15:39.221Z"
   },
   {
    "duration": 10,
    "start_time": "2025-05-09T11:15:40.588Z"
   },
   {
    "duration": 8,
    "start_time": "2025-05-09T11:15:42.504Z"
   },
   {
    "duration": 12,
    "start_time": "2025-05-09T11:15:43.485Z"
   },
   {
    "duration": 14,
    "start_time": "2025-05-09T11:15:44.836Z"
   },
   {
    "duration": 11,
    "start_time": "2025-05-09T11:15:45.880Z"
   },
   {
    "duration": 7,
    "start_time": "2025-05-09T11:15:48.743Z"
   },
   {
    "duration": 11,
    "start_time": "2025-05-09T11:15:49.699Z"
   },
   {
    "duration": 6,
    "start_time": "2025-05-09T11:15:52.252Z"
   },
   {
    "duration": 6,
    "start_time": "2025-05-09T11:15:53.861Z"
   },
   {
    "duration": 10,
    "start_time": "2025-05-09T11:15:54.944Z"
   },
   {
    "duration": 32,
    "start_time": "2025-05-09T11:17:09.299Z"
   },
   {
    "duration": 6,
    "start_time": "2025-05-09T11:17:13.956Z"
   },
   {
    "duration": 13,
    "start_time": "2025-05-09T11:19:04.987Z"
   },
   {
    "duration": 8,
    "start_time": "2025-05-09T11:19:32.285Z"
   },
   {
    "duration": 14,
    "start_time": "2025-05-09T11:22:01.545Z"
   },
   {
    "duration": 7,
    "start_time": "2025-05-09T11:22:54.425Z"
   },
   {
    "duration": 5,
    "start_time": "2025-05-09T11:23:11.637Z"
   },
   {
    "duration": 7,
    "start_time": "2025-05-09T11:23:13.732Z"
   },
   {
    "duration": 10,
    "start_time": "2025-05-09T11:24:14.177Z"
   },
   {
    "duration": 7,
    "start_time": "2025-05-09T11:25:25.618Z"
   },
   {
    "duration": 12,
    "start_time": "2025-05-09T11:28:38.354Z"
   },
   {
    "duration": 9,
    "start_time": "2025-05-09T11:28:47.425Z"
   },
   {
    "duration": 6,
    "start_time": "2025-05-09T11:30:32.706Z"
   },
   {
    "duration": 9,
    "start_time": "2025-05-09T11:33:04.012Z"
   },
   {
    "duration": 9,
    "start_time": "2025-05-09T11:33:06.159Z"
   },
   {
    "duration": 5,
    "start_time": "2025-05-09T11:33:17.412Z"
   },
   {
    "duration": 604,
    "start_time": "2025-05-09T11:35:37.616Z"
   },
   {
    "duration": 133,
    "start_time": "2025-05-09T11:35:46.655Z"
   },
   {
    "duration": 244,
    "start_time": "2025-05-09T11:35:50.951Z"
   },
   {
    "duration": 7,
    "start_time": "2025-05-09T11:36:04.457Z"
   },
   {
    "duration": 210,
    "start_time": "2025-05-09T11:36:59.924Z"
   },
   {
    "duration": 5,
    "start_time": "2025-05-09T11:37:17.063Z"
   },
   {
    "duration": 51,
    "start_time": "2025-05-09T11:43:06.204Z"
   },
   {
    "duration": 29,
    "start_time": "2025-05-09T11:43:46.784Z"
   },
   {
    "duration": 90,
    "start_time": "2025-05-09T11:44:16.721Z"
   },
   {
    "duration": 15,
    "start_time": "2025-05-09T11:44:23.428Z"
   },
   {
    "duration": 14,
    "start_time": "2025-05-09T11:44:36.198Z"
   },
   {
    "duration": 16,
    "start_time": "2025-05-09T11:44:51.134Z"
   },
   {
    "duration": 13,
    "start_time": "2025-05-09T11:44:57.030Z"
   },
   {
    "duration": 13,
    "start_time": "2025-05-09T11:45:09.991Z"
   },
   {
    "duration": 12,
    "start_time": "2025-05-09T11:45:18.527Z"
   },
   {
    "duration": 12,
    "start_time": "2025-05-09T11:46:48.167Z"
   },
   {
    "duration": 13,
    "start_time": "2025-05-09T11:46:52.931Z"
   },
   {
    "duration": 15,
    "start_time": "2025-05-09T11:48:44.811Z"
   },
   {
    "duration": 14,
    "start_time": "2025-05-09T11:49:18.635Z"
   },
   {
    "duration": 16,
    "start_time": "2025-05-09T11:49:27.704Z"
   },
   {
    "duration": 14,
    "start_time": "2025-05-09T11:49:47.899Z"
   },
   {
    "duration": 15,
    "start_time": "2025-05-09T11:50:03.126Z"
   },
   {
    "duration": 16,
    "start_time": "2025-05-09T11:50:49.698Z"
   },
   {
    "duration": 3,
    "start_time": "2025-05-09T12:25:04.275Z"
   },
   {
    "duration": 9,
    "start_time": "2025-05-09T12:25:52.514Z"
   },
   {
    "duration": 10,
    "start_time": "2025-05-09T12:25:53.250Z"
   },
   {
    "duration": 10,
    "start_time": "2025-05-09T12:25:53.869Z"
   },
   {
    "duration": 11,
    "start_time": "2025-05-09T12:25:54.483Z"
   },
   {
    "duration": 11,
    "start_time": "2025-05-09T12:25:55.118Z"
   },
   {
    "duration": 10,
    "start_time": "2025-05-09T12:25:55.690Z"
   },
   {
    "duration": 15,
    "start_time": "2025-05-09T12:25:58.969Z"
   },
   {
    "duration": 11,
    "start_time": "2025-05-09T12:25:59.543Z"
   },
   {
    "duration": 11,
    "start_time": "2025-05-09T12:26:00.114Z"
   },
   {
    "duration": 5,
    "start_time": "2025-05-09T12:26:03.334Z"
   },
   {
    "duration": 10,
    "start_time": "2025-05-09T12:26:03.936Z"
   },
   {
    "duration": 6,
    "start_time": "2025-05-09T12:26:04.527Z"
   },
   {
    "duration": 6,
    "start_time": "2025-05-09T12:26:06.969Z"
   },
   {
    "duration": 6,
    "start_time": "2025-05-09T12:26:09.238Z"
   },
   {
    "duration": 8,
    "start_time": "2025-05-09T12:26:09.799Z"
   },
   {
    "duration": 10,
    "start_time": "2025-05-09T12:26:11.839Z"
   },
   {
    "duration": 9,
    "start_time": "2025-05-09T12:26:14.074Z"
   },
   {
    "duration": 5,
    "start_time": "2025-05-09T12:26:18.467Z"
   },
   {
    "duration": 16,
    "start_time": "2025-05-09T12:26:19.257Z"
   },
   {
    "duration": 5,
    "start_time": "2025-05-09T12:26:37.891Z"
   },
   {
    "duration": 75,
    "start_time": "2025-05-09T12:27:18.997Z"
   },
   {
    "duration": 10,
    "start_time": "2025-05-09T12:27:32.558Z"
   },
   {
    "duration": 74,
    "start_time": "2025-05-09T12:27:36.951Z"
   },
   {
    "duration": 9,
    "start_time": "2025-05-09T12:28:50.449Z"
   },
   {
    "duration": 93,
    "start_time": "2025-05-09T12:29:02.432Z"
   },
   {
    "duration": 101,
    "start_time": "2025-05-09T12:29:55.023Z"
   },
   {
    "duration": 86,
    "start_time": "2025-05-09T12:30:08.318Z"
   },
   {
    "duration": 6,
    "start_time": "2025-05-09T12:31:53.021Z"
   },
   {
    "duration": 192,
    "start_time": "2025-05-09T12:32:53.515Z"
   },
   {
    "duration": 171,
    "start_time": "2025-05-09T12:32:59.385Z"
   },
   {
    "duration": 8,
    "start_time": "2025-05-09T12:33:26.397Z"
   },
   {
    "duration": 6,
    "start_time": "2025-05-09T12:39:28.283Z"
   },
   {
    "duration": 346,
    "start_time": "2025-05-09T12:39:40.844Z"
   },
   {
    "duration": 9,
    "start_time": "2025-05-09T12:40:08.017Z"
   },
   {
    "duration": 254,
    "start_time": "2025-05-09T12:45:32.294Z"
   },
   {
    "duration": 9,
    "start_time": "2025-05-09T12:45:57.677Z"
   },
   {
    "duration": 176,
    "start_time": "2025-05-09T12:46:30.818Z"
   },
   {
    "duration": 179,
    "start_time": "2025-05-09T12:46:50.986Z"
   },
   {
    "duration": 287,
    "start_time": "2025-05-09T12:47:28.567Z"
   },
   {
    "duration": 259,
    "start_time": "2025-05-09T12:49:22.504Z"
   },
   {
    "duration": 269,
    "start_time": "2025-05-09T12:50:13.515Z"
   },
   {
    "duration": 376,
    "start_time": "2025-05-09T12:50:23.283Z"
   },
   {
    "duration": 7,
    "start_time": "2025-05-09T15:13:19.158Z"
   },
   {
    "duration": 291,
    "start_time": "2025-05-09T15:13:35.976Z"
   },
   {
    "duration": 62,
    "start_time": "2025-05-09T15:13:57.401Z"
   },
   {
    "duration": 11,
    "start_time": "2025-05-09T15:14:10.445Z"
   },
   {
    "duration": 7,
    "start_time": "2025-05-09T15:14:16.284Z"
   },
   {
    "duration": 11,
    "start_time": "2025-05-09T15:14:18.010Z"
   },
   {
    "duration": 6,
    "start_time": "2025-05-09T15:14:20.973Z"
   },
   {
    "duration": 10,
    "start_time": "2025-05-09T15:14:24.854Z"
   },
   {
    "duration": 5,
    "start_time": "2025-05-09T15:14:35.290Z"
   },
   {
    "duration": 92,
    "start_time": "2025-05-09T15:14:37.393Z"
   },
   {
    "duration": 6,
    "start_time": "2025-05-09T15:14:38.888Z"
   },
   {
    "duration": 13,
    "start_time": "2025-05-09T15:14:53.107Z"
   },
   {
    "duration": 14,
    "start_time": "2025-05-09T15:14:54.017Z"
   },
   {
    "duration": 6,
    "start_time": "2025-05-09T15:14:56.046Z"
   },
   {
    "duration": 10,
    "start_time": "2025-05-09T15:14:56.845Z"
   },
   {
    "duration": 6,
    "start_time": "2025-05-09T15:14:58.116Z"
   },
   {
    "duration": 7,
    "start_time": "2025-05-09T15:15:00.240Z"
   },
   {
    "duration": 10,
    "start_time": "2025-05-09T15:15:01.329Z"
   },
   {
    "duration": 6,
    "start_time": "2025-05-09T15:15:02.089Z"
   },
   {
    "duration": 9,
    "start_time": "2025-05-09T15:15:03.843Z"
   },
   {
    "duration": 8,
    "start_time": "2025-05-09T15:15:05.169Z"
   },
   {
    "duration": 6,
    "start_time": "2025-05-09T15:15:07.424Z"
   },
   {
    "duration": 16,
    "start_time": "2025-05-09T15:15:09.029Z"
   },
   {
    "duration": 5,
    "start_time": "2025-05-09T15:15:11.872Z"
   },
   {
    "duration": 86,
    "start_time": "2025-05-09T15:15:12.784Z"
   },
   {
    "duration": 6,
    "start_time": "2025-05-09T15:15:14.528Z"
   },
   {
    "duration": 183,
    "start_time": "2025-05-09T15:15:16.759Z"
   },
   {
    "duration": 9,
    "start_time": "2025-05-09T15:15:19.448Z"
   },
   {
    "duration": 283,
    "start_time": "2025-05-09T15:15:20.937Z"
   },
   {
    "duration": 389,
    "start_time": "2025-05-09T15:15:23.826Z"
   },
   {
    "duration": 10,
    "start_time": "2025-05-09T15:15:29.870Z"
   },
   {
    "duration": 6,
    "start_time": "2025-05-09T15:15:37.410Z"
   },
   {
    "duration": 271,
    "start_time": "2025-05-09T15:15:40.106Z"
   },
   {
    "duration": 9,
    "start_time": "2025-05-09T15:17:02.442Z"
   },
   {
    "duration": 27,
    "start_time": "2025-05-09T15:55:26.601Z"
   },
   {
    "duration": 27,
    "start_time": "2025-05-09T15:55:47.404Z"
   },
   {
    "duration": 26,
    "start_time": "2025-05-09T15:56:02.826Z"
   },
   {
    "duration": 31,
    "start_time": "2025-05-09T15:56:13.650Z"
   },
   {
    "duration": 37,
    "start_time": "2025-05-09T15:56:28.130Z"
   },
   {
    "duration": 28,
    "start_time": "2025-05-09T15:56:38.445Z"
   },
   {
    "duration": 31,
    "start_time": "2025-05-09T16:01:31.948Z"
   },
   {
    "duration": 9,
    "start_time": "2025-05-09T16:01:48.936Z"
   },
   {
    "duration": 18,
    "start_time": "2025-05-09T16:02:02.996Z"
   },
   {
    "duration": 20,
    "start_time": "2025-05-09T16:02:10.963Z"
   },
   {
    "duration": 18,
    "start_time": "2025-05-09T16:02:20.644Z"
   },
   {
    "duration": 16,
    "start_time": "2025-05-09T16:02:49.297Z"
   },
   {
    "duration": 19,
    "start_time": "2025-05-09T16:04:03.386Z"
   },
   {
    "duration": 16,
    "start_time": "2025-05-09T16:04:05.404Z"
   },
   {
    "duration": 172,
    "start_time": "2025-05-09T16:09:40.451Z"
   },
   {
    "duration": 186,
    "start_time": "2025-05-09T16:10:06.758Z"
   },
   {
    "duration": 171,
    "start_time": "2025-05-09T16:10:20.511Z"
   },
   {
    "duration": 182,
    "start_time": "2025-05-09T16:11:04.682Z"
   },
   {
    "duration": 199,
    "start_time": "2025-05-09T16:11:18.259Z"
   },
   {
    "duration": 183,
    "start_time": "2025-05-09T16:11:27.783Z"
   },
   {
    "duration": 180,
    "start_time": "2025-05-09T16:12:33.403Z"
   },
   {
    "duration": 176,
    "start_time": "2025-05-09T16:12:43.018Z"
   },
   {
    "duration": 175,
    "start_time": "2025-05-09T16:12:51.890Z"
   },
   {
    "duration": 172,
    "start_time": "2025-05-09T16:13:00.545Z"
   },
   {
    "duration": 305,
    "start_time": "2025-05-09T16:13:38.979Z"
   },
   {
    "duration": 214,
    "start_time": "2025-05-09T16:14:27.257Z"
   },
   {
    "duration": 183,
    "start_time": "2025-05-09T16:17:04.217Z"
   },
   {
    "duration": 196,
    "start_time": "2025-05-09T16:17:14.553Z"
   },
   {
    "duration": 193,
    "start_time": "2025-05-09T16:21:30.827Z"
   },
   {
    "duration": 9,
    "start_time": "2025-05-09T17:05:25.717Z"
   },
   {
    "duration": 2,
    "start_time": "2025-05-09T17:05:53.816Z"
   },
   {
    "duration": 5,
    "start_time": "2025-05-09T17:06:05.870Z"
   },
   {
    "duration": 12,
    "start_time": "2025-05-09T17:06:23.523Z"
   },
   {
    "duration": 26,
    "start_time": "2025-05-09T17:07:47.226Z"
   },
   {
    "duration": 10,
    "start_time": "2025-05-09T17:08:15.667Z"
   },
   {
    "duration": 17,
    "start_time": "2025-05-09T17:08:21.415Z"
   },
   {
    "duration": 26,
    "start_time": "2025-05-09T17:10:56.300Z"
   },
   {
    "duration": 17,
    "start_time": "2025-05-09T17:10:59.570Z"
   },
   {
    "duration": 3,
    "start_time": "2025-05-09T17:12:19.893Z"
   },
   {
    "duration": 15,
    "start_time": "2025-05-09T17:12:40.595Z"
   },
   {
    "duration": 12,
    "start_time": "2025-05-09T17:13:04.688Z"
   },
   {
    "duration": 14,
    "start_time": "2025-05-09T17:14:54.560Z"
   },
   {
    "duration": 24,
    "start_time": "2025-05-09T17:20:35.000Z"
   },
   {
    "duration": 6,
    "start_time": "2025-05-09T17:25:54.420Z"
   },
   {
    "duration": 15,
    "start_time": "2025-05-09T17:26:09.757Z"
   },
   {
    "duration": 19,
    "start_time": "2025-05-09T17:27:07.693Z"
   },
   {
    "duration": 22,
    "start_time": "2025-05-09T17:27:44.684Z"
   },
   {
    "duration": 20,
    "start_time": "2025-05-09T17:27:50.149Z"
   },
   {
    "duration": 12,
    "start_time": "2025-05-09T17:28:31.422Z"
   },
   {
    "duration": 455,
    "start_time": "2025-05-09T17:45:13.630Z"
   },
   {
    "duration": 3,
    "start_time": "2025-05-09T17:45:39.383Z"
   },
   {
    "duration": 55,
    "start_time": "2025-05-09T17:51:32.488Z"
   },
   {
    "duration": 1113,
    "start_time": "2025-05-09T17:51:47.758Z"
   },
   {
    "duration": 7,
    "start_time": "2025-05-09T17:52:05.719Z"
   },
   {
    "duration": 12,
    "start_time": "2025-05-09T17:58:44.255Z"
   },
   {
    "duration": 6,
    "start_time": "2025-05-09T17:59:51.473Z"
   },
   {
    "duration": 13,
    "start_time": "2025-05-09T18:00:23.914Z"
   },
   {
    "duration": 15,
    "start_time": "2025-05-09T18:00:34.973Z"
   },
   {
    "duration": 12,
    "start_time": "2025-05-09T18:00:46.102Z"
   },
   {
    "duration": 6,
    "start_time": "2025-05-09T18:00:58.473Z"
   },
   {
    "duration": 12,
    "start_time": "2025-05-09T18:01:59.709Z"
   },
   {
    "duration": 15,
    "start_time": "2025-05-09T18:05:08.280Z"
   },
   {
    "duration": 13,
    "start_time": "2025-05-09T18:05:32.057Z"
   },
   {
    "duration": 7,
    "start_time": "2025-05-09T18:06:58.557Z"
   },
   {
    "duration": 3,
    "start_time": "2025-05-09T18:09:48.311Z"
   },
   {
    "duration": 8,
    "start_time": "2025-05-09T18:09:49.984Z"
   },
   {
    "duration": 2,
    "start_time": "2025-05-09T18:10:40.936Z"
   },
   {
    "duration": 7,
    "start_time": "2025-05-09T18:10:42.790Z"
   },
   {
    "duration": 4,
    "start_time": "2025-05-09T18:18:11.145Z"
   },
   {
    "duration": 5,
    "start_time": "2025-05-09T18:18:51.667Z"
   },
   {
    "duration": 6,
    "start_time": "2025-05-09T18:19:32.902Z"
   },
   {
    "duration": 7,
    "start_time": "2025-05-09T18:23:43.771Z"
   },
   {
    "duration": 6,
    "start_time": "2025-05-09T18:24:37.701Z"
   },
   {
    "duration": 1281,
    "start_time": "2025-05-09T19:49:18.552Z"
   },
   {
    "duration": 70,
    "start_time": "2025-05-09T19:49:21.205Z"
   },
   {
    "duration": 12,
    "start_time": "2025-05-09T19:49:22.306Z"
   },
   {
    "duration": 8,
    "start_time": "2025-05-09T19:49:24.365Z"
   },
   {
    "duration": 7,
    "start_time": "2025-05-09T19:49:25.458Z"
   },
   {
    "duration": 11,
    "start_time": "2025-05-09T19:49:26.459Z"
   },
   {
    "duration": 10,
    "start_time": "2025-05-09T19:49:27.430Z"
   },
   {
    "duration": 10,
    "start_time": "2025-05-09T19:49:28.212Z"
   },
   {
    "duration": 8,
    "start_time": "2025-05-09T19:49:30.469Z"
   },
   {
    "duration": 11,
    "start_time": "2025-05-09T19:49:31.286Z"
   },
   {
    "duration": 5,
    "start_time": "2025-05-09T19:49:34.081Z"
   },
   {
    "duration": 8,
    "start_time": "2025-05-09T19:49:35.124Z"
   },
   {
    "duration": 7,
    "start_time": "2025-05-09T19:49:36.375Z"
   },
   {
    "duration": 6,
    "start_time": "2025-05-09T19:49:38.141Z"
   },
   {
    "duration": 4,
    "start_time": "2025-05-09T19:49:40.193Z"
   },
   {
    "duration": 6,
    "start_time": "2025-05-09T19:49:42.399Z"
   },
   {
    "duration": 8,
    "start_time": "2025-05-09T19:49:45.185Z"
   },
   {
    "duration": 6,
    "start_time": "2025-05-09T19:49:46.596Z"
   },
   {
    "duration": 5,
    "start_time": "2025-05-09T19:49:48.944Z"
   },
   {
    "duration": 59,
    "start_time": "2025-05-09T19:49:51.366Z"
   },
   {
    "duration": 4,
    "start_time": "2025-05-09T19:49:54.160Z"
   },
   {
    "duration": 86,
    "start_time": "2025-05-09T19:49:54.863Z"
   },
   {
    "duration": 5,
    "start_time": "2025-05-09T19:49:56.753Z"
   },
   {
    "duration": 162,
    "start_time": "2025-05-09T19:49:58.891Z"
   },
   {
    "duration": 9,
    "start_time": "2025-05-09T19:50:01.076Z"
   },
   {
    "duration": 248,
    "start_time": "2025-05-09T19:50:02.493Z"
   },
   {
    "duration": 9,
    "start_time": "2025-05-09T19:50:04.040Z"
   },
   {
    "duration": 244,
    "start_time": "2025-05-09T19:50:05.804Z"
   },
   {
    "duration": 10,
    "start_time": "2025-05-09T19:50:06.978Z"
   },
   {
    "duration": 6,
    "start_time": "2025-05-09T19:50:09.325Z"
   },
   {
    "duration": 227,
    "start_time": "2025-05-09T19:50:10.121Z"
   },
   {
    "duration": 27,
    "start_time": "2025-05-09T19:50:12.965Z"
   },
   {
    "duration": 17,
    "start_time": "2025-05-09T19:50:16.117Z"
   },
   {
    "duration": 16,
    "start_time": "2025-05-09T19:50:17.460Z"
   },
   {
    "duration": 178,
    "start_time": "2025-05-09T19:50:18.984Z"
   },
   {
    "duration": 5,
    "start_time": "2025-05-09T19:50:23.280Z"
   },
   {
    "duration": 12,
    "start_time": "2025-05-09T19:50:24.202Z"
   },
   {
    "duration": 24,
    "start_time": "2025-05-09T19:50:26.100Z"
   },
   {
    "duration": 3,
    "start_time": "2025-05-09T19:50:26.997Z"
   },
   {
    "duration": 13,
    "start_time": "2025-05-09T19:50:27.992Z"
   },
   {
    "duration": 22,
    "start_time": "2025-05-09T19:50:29.835Z"
   },
   {
    "duration": 5,
    "start_time": "2025-05-09T19:50:31.154Z"
   },
   {
    "duration": 95,
    "start_time": "2025-05-09T19:50:32.114Z"
   },
   {
    "duration": 3,
    "start_time": "2025-05-09T19:50:39.928Z"
   },
   {
    "duration": 8,
    "start_time": "2025-05-09T19:50:45.418Z"
   },
   {
    "duration": 6,
    "start_time": "2025-05-09T19:50:53.195Z"
   },
   {
    "duration": 72,
    "start_time": "2025-05-09T19:53:32.466Z"
   },
   {
    "duration": 15,
    "start_time": "2025-05-09T19:57:18.880Z"
   },
   {
    "duration": 14,
    "start_time": "2025-05-09T19:58:52.099Z"
   },
   {
    "duration": 224,
    "start_time": "2025-05-09T20:24:59.504Z"
   },
   {
    "duration": 230,
    "start_time": "2025-05-09T20:25:45.711Z"
   },
   {
    "duration": 28876,
    "start_time": "2025-05-09T20:26:27.921Z"
   },
   {
    "duration": 6574,
    "start_time": "2025-05-09T20:27:09.500Z"
   },
   {
    "duration": 1460,
    "start_time": "2025-05-09T20:27:26.721Z"
   },
   {
    "duration": 2157,
    "start_time": "2025-05-09T20:27:43.624Z"
   },
   {
    "duration": 2355,
    "start_time": "2025-05-09T20:27:58.912Z"
   },
   {
    "duration": 1667,
    "start_time": "2025-05-09T20:28:06.454Z"
   },
   {
    "duration": 2892,
    "start_time": "2025-05-09T20:28:34.529Z"
   },
   {
    "duration": 595,
    "start_time": "2025-05-09T20:29:05.185Z"
   },
   {
    "duration": 1352,
    "start_time": "2025-05-09T20:29:12.893Z"
   },
   {
    "duration": 282,
    "start_time": "2025-05-09T20:29:53.673Z"
   },
   {
    "duration": 2957,
    "start_time": "2025-05-09T20:30:09.768Z"
   },
   {
    "duration": 811,
    "start_time": "2025-05-09T20:30:36.904Z"
   },
   {
    "duration": 2490,
    "start_time": "2025-05-09T20:33:03.408Z"
   },
   {
    "duration": 3174,
    "start_time": "2025-05-09T20:33:14.498Z"
   },
   {
    "duration": 3147,
    "start_time": "2025-05-09T20:33:31.806Z"
   },
   {
    "duration": 792,
    "start_time": "2025-05-09T20:34:01.777Z"
   },
   {
    "duration": 1403,
    "start_time": "2025-05-09T20:34:10.628Z"
   },
   {
    "duration": 745,
    "start_time": "2025-05-09T20:35:09.402Z"
   },
   {
    "duration": 719,
    "start_time": "2025-05-09T20:35:34.173Z"
   },
   {
    "duration": 701,
    "start_time": "2025-05-09T20:35:41.198Z"
   },
   {
    "duration": 708,
    "start_time": "2025-05-09T20:36:21.621Z"
   },
   {
    "duration": 1383,
    "start_time": "2025-05-09T20:37:34.892Z"
   },
   {
    "duration": 1590,
    "start_time": "2025-05-09T20:38:17.025Z"
   },
   {
    "duration": 1606,
    "start_time": "2025-05-09T20:38:39.297Z"
   },
   {
    "duration": 2306,
    "start_time": "2025-05-09T20:38:48.232Z"
   },
   {
    "duration": 1571,
    "start_time": "2025-05-09T20:39:25.252Z"
   },
   {
    "duration": 2288,
    "start_time": "2025-05-09T20:40:03.180Z"
   },
   {
    "duration": 1707,
    "start_time": "2025-05-09T20:40:31.125Z"
   },
   {
    "duration": 2175,
    "start_time": "2025-05-09T20:42:13.631Z"
   },
   {
    "duration": 1599,
    "start_time": "2025-05-09T20:42:19.953Z"
   },
   {
    "duration": 10,
    "start_time": "2025-05-09T20:55:59.972Z"
   },
   {
    "duration": 11,
    "start_time": "2025-05-09T20:56:51.071Z"
   },
   {
    "duration": 90,
    "start_time": "2025-05-09T20:57:17.376Z"
   },
   {
    "duration": 14,
    "start_time": "2025-05-09T20:57:58.823Z"
   },
   {
    "duration": 11,
    "start_time": "2025-05-09T20:58:48.232Z"
   },
   {
    "duration": 12,
    "start_time": "2025-05-09T20:59:52.271Z"
   },
   {
    "duration": 11,
    "start_time": "2025-05-09T21:00:11.861Z"
   },
   {
    "duration": 11,
    "start_time": "2025-05-09T21:00:38.557Z"
   },
   {
    "duration": 13,
    "start_time": "2025-05-09T21:00:53.263Z"
   },
   {
    "duration": 70,
    "start_time": "2025-05-09T21:01:56.045Z"
   },
   {
    "duration": 708,
    "start_time": "2025-05-09T21:02:04.738Z"
   },
   {
    "duration": 12,
    "start_time": "2025-05-09T21:02:20.224Z"
   },
   {
    "duration": 13,
    "start_time": "2025-05-09T21:02:34.047Z"
   },
   {
    "duration": 11,
    "start_time": "2025-05-09T21:05:05.194Z"
   },
   {
    "duration": 99,
    "start_time": "2025-05-09T21:05:18.421Z"
   },
   {
    "duration": 96,
    "start_time": "2025-05-09T21:05:50.794Z"
   },
   {
    "duration": 130,
    "start_time": "2025-05-09T21:06:18.924Z"
   },
   {
    "duration": 136,
    "start_time": "2025-05-09T21:06:44.866Z"
   },
   {
    "duration": 109,
    "start_time": "2025-05-09T21:07:55.439Z"
   },
   {
    "duration": 108,
    "start_time": "2025-05-09T21:08:23.589Z"
   },
   {
    "duration": 143,
    "start_time": "2025-05-09T21:09:18.040Z"
   },
   {
    "duration": 150,
    "start_time": "2025-05-09T21:09:33.161Z"
   },
   {
    "duration": 133,
    "start_time": "2025-05-09T21:10:20.480Z"
   },
   {
    "duration": 165,
    "start_time": "2025-05-09T21:10:31.978Z"
   },
   {
    "duration": 1417,
    "start_time": "2025-05-10T03:50:38.796Z"
   },
   {
    "duration": 71,
    "start_time": "2025-05-10T03:50:40.215Z"
   },
   {
    "duration": 15,
    "start_time": "2025-05-10T03:50:40.288Z"
   },
   {
    "duration": 10,
    "start_time": "2025-05-10T03:50:40.305Z"
   },
   {
    "duration": 13,
    "start_time": "2025-05-10T03:50:40.317Z"
   },
   {
    "duration": 17,
    "start_time": "2025-05-10T03:50:40.333Z"
   },
   {
    "duration": 15,
    "start_time": "2025-05-10T03:50:40.352Z"
   },
   {
    "duration": 11,
    "start_time": "2025-05-10T03:50:40.369Z"
   },
   {
    "duration": 11,
    "start_time": "2025-05-10T03:50:40.382Z"
   },
   {
    "duration": 13,
    "start_time": "2025-05-10T03:50:40.396Z"
   },
   {
    "duration": 26,
    "start_time": "2025-05-10T03:50:40.410Z"
   },
   {
    "duration": 9,
    "start_time": "2025-05-10T03:50:40.438Z"
   },
   {
    "duration": 61,
    "start_time": "2025-05-10T03:50:40.449Z"
   },
   {
    "duration": 5,
    "start_time": "2025-05-10T03:50:40.512Z"
   },
   {
    "duration": 6,
    "start_time": "2025-05-10T03:50:40.519Z"
   },
   {
    "duration": 8,
    "start_time": "2025-05-10T03:50:40.526Z"
   },
   {
    "duration": 10,
    "start_time": "2025-05-10T03:50:40.536Z"
   },
   {
    "duration": 16,
    "start_time": "2025-05-10T03:50:40.548Z"
   },
   {
    "duration": 6,
    "start_time": "2025-05-10T03:50:40.565Z"
   },
   {
    "duration": 73,
    "start_time": "2025-05-10T03:50:40.573Z"
   },
   {
    "duration": 5,
    "start_time": "2025-05-10T03:50:40.647Z"
   },
   {
    "duration": 112,
    "start_time": "2025-05-10T03:50:40.653Z"
   },
   {
    "duration": 6,
    "start_time": "2025-05-10T03:50:40.766Z"
   },
   {
    "duration": 190,
    "start_time": "2025-05-10T03:50:40.774Z"
   },
   {
    "duration": 9,
    "start_time": "2025-05-10T03:50:40.966Z"
   },
   {
    "duration": 299,
    "start_time": "2025-05-10T03:50:40.977Z"
   },
   {
    "duration": 10,
    "start_time": "2025-05-10T03:50:41.278Z"
   },
   {
    "duration": 285,
    "start_time": "2025-05-10T03:50:41.291Z"
   },
   {
    "duration": 8,
    "start_time": "2025-05-10T03:50:41.578Z"
   },
   {
    "duration": 15,
    "start_time": "2025-05-10T03:50:41.588Z"
   },
   {
    "duration": 289,
    "start_time": "2025-05-10T03:50:41.606Z"
   },
   {
    "duration": 40,
    "start_time": "2025-05-10T03:50:41.897Z"
   },
   {
    "duration": 94,
    "start_time": "2025-05-10T03:50:41.939Z"
   },
   {
    "duration": 25,
    "start_time": "2025-05-10T03:50:42.034Z"
   },
   {
    "duration": 288,
    "start_time": "2025-05-10T03:50:42.061Z"
   },
   {
    "duration": 187,
    "start_time": "2025-05-10T03:50:42.351Z"
   },
   {
    "duration": 4,
    "start_time": "2025-05-10T03:50:42.540Z"
   },
   {
    "duration": 17,
    "start_time": "2025-05-10T03:50:42.546Z"
   },
   {
    "duration": 40,
    "start_time": "2025-05-10T03:50:42.565Z"
   },
   {
    "duration": 3,
    "start_time": "2025-05-10T03:50:42.607Z"
   },
   {
    "duration": 27,
    "start_time": "2025-05-10T03:50:42.612Z"
   },
   {
    "duration": 26,
    "start_time": "2025-05-10T03:50:42.641Z"
   },
   {
    "duration": 8,
    "start_time": "2025-05-10T03:50:42.669Z"
   },
   {
    "duration": 12,
    "start_time": "2025-05-10T03:50:42.679Z"
   },
   {
    "duration": 9,
    "start_time": "2025-05-10T03:50:42.693Z"
   },
   {
    "duration": 38,
    "start_time": "2025-05-10T03:50:42.704Z"
   },
   {
    "duration": 10,
    "start_time": "2025-05-10T03:50:42.744Z"
   },
   {
    "duration": 14,
    "start_time": "2025-05-10T03:50:42.756Z"
   },
   {
    "duration": 1931,
    "start_time": "2025-05-10T03:50:42.772Z"
   },
   {
    "duration": 188,
    "start_time": "2025-05-10T03:50:44.705Z"
   },
   {
    "duration": 7,
    "start_time": "2025-05-10T03:57:52.998Z"
   },
   {
    "duration": 1121,
    "start_time": "2025-05-10T04:00:35.191Z"
   },
   {
    "duration": 59,
    "start_time": "2025-05-10T04:00:36.314Z"
   },
   {
    "duration": 15,
    "start_time": "2025-05-10T04:00:36.375Z"
   },
   {
    "duration": 59,
    "start_time": "2025-05-10T04:00:36.392Z"
   },
   {
    "duration": 157,
    "start_time": "2025-05-10T04:00:36.453Z"
   },
   {
    "duration": 18,
    "start_time": "2025-05-10T04:00:36.611Z"
   },
   {
    "duration": 11,
    "start_time": "2025-05-10T04:00:36.631Z"
   },
   {
    "duration": 37,
    "start_time": "2025-05-10T04:00:36.643Z"
   },
   {
    "duration": 67,
    "start_time": "2025-05-10T04:00:36.682Z"
   },
   {
    "duration": 24,
    "start_time": "2025-05-10T04:00:36.751Z"
   },
   {
    "duration": 67,
    "start_time": "2025-05-10T04:00:36.777Z"
   },
   {
    "duration": 16,
    "start_time": "2025-05-10T04:00:36.846Z"
   },
   {
    "duration": 137,
    "start_time": "2025-05-10T04:00:36.863Z"
   },
   {
    "duration": 70,
    "start_time": "2025-05-10T04:00:37.002Z"
   },
   {
    "duration": 39,
    "start_time": "2025-05-10T04:00:37.074Z"
   },
   {
    "duration": 14,
    "start_time": "2025-05-10T04:00:37.116Z"
   },
   {
    "duration": 16,
    "start_time": "2025-05-10T04:00:37.131Z"
   },
   {
    "duration": 11,
    "start_time": "2025-05-10T04:00:37.150Z"
   },
   {
    "duration": 18,
    "start_time": "2025-05-10T04:00:37.163Z"
   },
   {
    "duration": 75,
    "start_time": "2025-05-10T04:00:37.183Z"
   },
   {
    "duration": 4,
    "start_time": "2025-05-10T04:00:37.260Z"
   },
   {
    "duration": 131,
    "start_time": "2025-05-10T04:00:37.266Z"
   },
   {
    "duration": 6,
    "start_time": "2025-05-10T04:00:37.399Z"
   },
   {
    "duration": 199,
    "start_time": "2025-05-10T04:00:37.407Z"
   },
   {
    "duration": 9,
    "start_time": "2025-05-10T04:00:37.608Z"
   },
   {
    "duration": 294,
    "start_time": "2025-05-10T04:00:37.618Z"
   },
   {
    "duration": 9,
    "start_time": "2025-05-10T04:00:37.913Z"
   },
   {
    "duration": 275,
    "start_time": "2025-05-10T04:00:37.935Z"
   },
   {
    "duration": 9,
    "start_time": "2025-05-10T04:00:38.212Z"
   },
   {
    "duration": 48,
    "start_time": "2025-05-10T04:00:38.222Z"
   },
   {
    "duration": 271,
    "start_time": "2025-05-10T04:00:38.272Z"
   },
   {
    "duration": 42,
    "start_time": "2025-05-10T04:00:38.545Z"
   },
   {
    "duration": 56,
    "start_time": "2025-05-10T04:00:38.589Z"
   },
   {
    "duration": 16,
    "start_time": "2025-05-10T04:00:38.647Z"
   },
   {
    "duration": 297,
    "start_time": "2025-05-10T04:00:38.665Z"
   },
   {
    "duration": 225,
    "start_time": "2025-05-10T04:00:38.965Z"
   },
   {
    "duration": 5,
    "start_time": "2025-05-10T04:00:39.192Z"
   },
   {
    "duration": 30,
    "start_time": "2025-05-10T04:00:39.198Z"
   },
   {
    "duration": 71,
    "start_time": "2025-05-10T04:00:39.230Z"
   },
   {
    "duration": 3,
    "start_time": "2025-05-10T04:00:39.303Z"
   },
   {
    "duration": 30,
    "start_time": "2025-05-10T04:00:39.309Z"
   },
   {
    "duration": 25,
    "start_time": "2025-05-10T04:00:39.341Z"
   },
   {
    "duration": 6,
    "start_time": "2025-05-10T04:00:39.368Z"
   },
   {
    "duration": 31,
    "start_time": "2025-05-10T04:00:39.375Z"
   },
   {
    "duration": 22,
    "start_time": "2025-05-10T04:00:39.408Z"
   },
   {
    "duration": 21,
    "start_time": "2025-05-10T04:00:39.431Z"
   },
   {
    "duration": 33,
    "start_time": "2025-05-10T04:00:39.453Z"
   },
   {
    "duration": 19,
    "start_time": "2025-05-10T04:00:39.488Z"
   },
   {
    "duration": 1906,
    "start_time": "2025-05-10T04:00:39.508Z"
   },
   {
    "duration": 188,
    "start_time": "2025-05-10T04:00:41.416Z"
   },
   {
    "duration": 48,
    "start_time": "2025-05-10T09:31:25.807Z"
   },
   {
    "duration": 8,
    "start_time": "2025-05-10T09:32:23.930Z"
   },
   {
    "duration": 8,
    "start_time": "2025-05-10T09:32:24.729Z"
   },
   {
    "duration": 1283,
    "start_time": "2025-05-10T09:32:41.048Z"
   },
   {
    "duration": 69,
    "start_time": "2025-05-10T09:32:51.738Z"
   },
   {
    "duration": 13,
    "start_time": "2025-05-10T09:32:53.083Z"
   },
   {
    "duration": 9,
    "start_time": "2025-05-10T09:32:54.456Z"
   },
   {
    "duration": 11,
    "start_time": "2025-05-10T09:32:56.362Z"
   },
   {
    "duration": 11,
    "start_time": "2025-05-10T09:32:58.136Z"
   },
   {
    "duration": 10,
    "start_time": "2025-05-10T09:32:59.965Z"
   },
   {
    "duration": 8,
    "start_time": "2025-05-10T09:33:02.961Z"
   },
   {
    "duration": 10,
    "start_time": "2025-05-10T09:33:03.909Z"
   },
   {
    "duration": 4,
    "start_time": "2025-05-10T09:33:06.564Z"
   },
   {
    "duration": 9,
    "start_time": "2025-05-10T09:33:07.516Z"
   },
   {
    "duration": 6,
    "start_time": "2025-05-10T09:33:11.980Z"
   },
   {
    "duration": 5,
    "start_time": "2025-05-10T09:33:13.940Z"
   },
   {
    "duration": 7,
    "start_time": "2025-05-10T09:33:14.788Z"
   },
   {
    "duration": 8,
    "start_time": "2025-05-10T09:33:16.258Z"
   },
   {
    "duration": 8,
    "start_time": "2025-05-10T09:33:19.873Z"
   },
   {
    "duration": 5,
    "start_time": "2025-05-10T09:33:23.522Z"
   },
   {
    "duration": 50,
    "start_time": "2025-05-10T09:33:25.409Z"
   },
   {
    "duration": 5,
    "start_time": "2025-05-10T09:33:27.962Z"
   },
   {
    "duration": 91,
    "start_time": "2025-05-10T09:33:29.687Z"
   },
   {
    "duration": 80,
    "start_time": "2025-05-10T09:33:46.188Z"
   },
   {
    "duration": 247,
    "start_time": "2025-05-10T09:37:24.764Z"
   },
   {
    "duration": 9,
    "start_time": "2025-05-10T09:37:27.345Z"
   },
   {
    "duration": 269,
    "start_time": "2025-05-10T09:37:49.551Z"
   },
   {
    "duration": 251,
    "start_time": "2025-05-10T09:38:10.772Z"
   },
   {
    "duration": 303,
    "start_time": "2025-05-10T09:39:21.147Z"
   },
   {
    "duration": 253,
    "start_time": "2025-05-10T09:39:27.883Z"
   },
   {
    "duration": 227,
    "start_time": "2025-05-10T09:39:41.043Z"
   },
   {
    "duration": 6,
    "start_time": "2025-05-10T09:41:47.692Z"
   },
   {
    "duration": 242,
    "start_time": "2025-05-10T09:41:49.727Z"
   },
   {
    "duration": 63,
    "start_time": "2025-05-10T09:44:06.089Z"
   },
   {
    "duration": 28,
    "start_time": "2025-05-10T09:44:13.504Z"
   },
   {
    "duration": 3,
    "start_time": "2025-05-10T09:44:16.809Z"
   },
   {
    "duration": 9,
    "start_time": "2025-05-10T09:44:54.925Z"
   },
   {
    "duration": 8,
    "start_time": "2025-05-10T09:45:13.995Z"
   },
   {
    "duration": 8,
    "start_time": "2025-05-10T09:45:41.980Z"
   },
   {
    "duration": 9,
    "start_time": "2025-05-10T09:45:58.610Z"
   },
   {
    "duration": 8,
    "start_time": "2025-05-10T09:46:07.241Z"
   },
   {
    "duration": 10,
    "start_time": "2025-05-10T09:46:20.372Z"
   },
   {
    "duration": 8,
    "start_time": "2025-05-10T09:49:01.450Z"
   },
   {
    "duration": 26,
    "start_time": "2025-05-10T09:49:12.306Z"
   },
   {
    "duration": 9,
    "start_time": "2025-05-10T09:49:14.310Z"
   },
   {
    "duration": 19,
    "start_time": "2025-05-10T09:49:17.357Z"
   },
   {
    "duration": 15,
    "start_time": "2025-05-10T09:49:18.084Z"
   },
   {
    "duration": 202,
    "start_time": "2025-05-10T09:49:19.862Z"
   },
   {
    "duration": 5,
    "start_time": "2025-05-10T09:49:26.978Z"
   },
   {
    "duration": 11,
    "start_time": "2025-05-10T09:49:28.599Z"
   },
   {
    "duration": 24,
    "start_time": "2025-05-10T09:49:30.148Z"
   },
   {
    "duration": 3,
    "start_time": "2025-05-10T09:49:31.109Z"
   },
   {
    "duration": 12,
    "start_time": "2025-05-10T09:49:33.982Z"
   },
   {
    "duration": 25,
    "start_time": "2025-05-10T09:49:40.008Z"
   },
   {
    "duration": 1306,
    "start_time": "2025-05-10T09:49:44.702Z"
   },
   {
    "duration": 4,
    "start_time": "2025-05-10T09:49:52.314Z"
   },
   {
    "duration": 11,
    "start_time": "2025-05-10T09:49:56.723Z"
   },
   {
    "duration": 12,
    "start_time": "2025-05-10T09:50:42.038Z"
   },
   {
    "duration": 3,
    "start_time": "2025-05-10T09:50:47.335Z"
   },
   {
    "duration": 7,
    "start_time": "2025-05-10T09:50:48.951Z"
   },
   {
    "duration": 5,
    "start_time": "2025-05-10T09:50:52.178Z"
   },
   {
    "duration": 15,
    "start_time": "2025-05-10T09:51:36.062Z"
   },
   {
    "duration": 1868,
    "start_time": "2025-05-10T09:52:22.769Z"
   },
   {
    "duration": 167,
    "start_time": "2025-05-10T09:52:39.848Z"
   },
   {
    "duration": 1091,
    "start_time": "2025-05-10T17:07:55.355Z"
   },
   {
    "duration": 60,
    "start_time": "2025-05-10T17:07:56.447Z"
   },
   {
    "duration": 11,
    "start_time": "2025-05-10T17:07:56.508Z"
   },
   {
    "duration": 30,
    "start_time": "2025-05-10T17:07:56.521Z"
   },
   {
    "duration": 7,
    "start_time": "2025-05-10T17:07:56.554Z"
   },
   {
    "duration": 10,
    "start_time": "2025-05-10T17:07:56.563Z"
   },
   {
    "duration": 9,
    "start_time": "2025-05-10T17:07:56.575Z"
   },
   {
    "duration": 9,
    "start_time": "2025-05-10T17:07:56.586Z"
   },
   {
    "duration": 7,
    "start_time": "2025-05-10T17:07:56.597Z"
   },
   {
    "duration": 43,
    "start_time": "2025-05-10T17:07:56.605Z"
   },
   {
    "duration": 7,
    "start_time": "2025-05-10T17:07:56.650Z"
   },
   {
    "duration": 9,
    "start_time": "2025-05-10T17:07:56.659Z"
   },
   {
    "duration": 7,
    "start_time": "2025-05-10T17:07:56.670Z"
   },
   {
    "duration": 6,
    "start_time": "2025-05-10T17:07:56.680Z"
   },
   {
    "duration": 16,
    "start_time": "2025-05-10T17:07:56.688Z"
   },
   {
    "duration": 36,
    "start_time": "2025-05-10T17:07:56.706Z"
   },
   {
    "duration": 9,
    "start_time": "2025-05-10T17:07:56.744Z"
   },
   {
    "duration": 7,
    "start_time": "2025-05-10T17:07:56.755Z"
   },
   {
    "duration": 66,
    "start_time": "2025-05-10T17:07:56.764Z"
   },
   {
    "duration": 53,
    "start_time": "2025-05-10T17:07:56.832Z"
   },
   {
    "duration": 3,
    "start_time": "2025-05-10T17:07:56.887Z"
   },
   {
    "duration": 115,
    "start_time": "2025-05-10T17:07:56.892Z"
   },
   {
    "duration": 6,
    "start_time": "2025-05-10T17:07:57.008Z"
   },
   {
    "duration": 181,
    "start_time": "2025-05-10T17:07:57.016Z"
   },
   {
    "duration": 9,
    "start_time": "2025-05-10T17:07:57.199Z"
   },
   {
    "duration": 314,
    "start_time": "2025-05-10T17:07:57.210Z"
   },
   {
    "duration": 21,
    "start_time": "2025-05-10T17:07:57.527Z"
   },
   {
    "duration": 289,
    "start_time": "2025-05-10T17:07:57.550Z"
   },
   {
    "duration": 9,
    "start_time": "2025-05-10T17:07:57.840Z"
   },
   {
    "duration": 234,
    "start_time": "2025-05-10T17:07:57.851Z"
   },
   {
    "duration": 6,
    "start_time": "2025-05-10T17:07:58.087Z"
   },
   {
    "duration": 335,
    "start_time": "2025-05-10T17:07:58.094Z"
   },
   {
    "duration": 33,
    "start_time": "2025-05-10T17:07:58.430Z"
   },
   {
    "duration": 8,
    "start_time": "2025-05-10T17:07:58.465Z"
   },
   {
    "duration": 97,
    "start_time": "2025-05-10T17:07:58.475Z"
   },
   {
    "duration": 14,
    "start_time": "2025-05-10T17:07:58.574Z"
   },
   {
    "duration": 173,
    "start_time": "2025-05-10T17:07:58.590Z"
   },
   {
    "duration": 175,
    "start_time": "2025-05-10T17:07:58.764Z"
   },
   {
    "duration": 5,
    "start_time": "2025-05-10T17:07:58.940Z"
   },
   {
    "duration": 12,
    "start_time": "2025-05-10T17:07:58.947Z"
   },
   {
    "duration": 24,
    "start_time": "2025-05-10T17:07:58.962Z"
   },
   {
    "duration": 3,
    "start_time": "2025-05-10T17:07:58.988Z"
   },
   {
    "duration": 16,
    "start_time": "2025-05-10T17:07:58.993Z"
   },
   {
    "duration": 48,
    "start_time": "2025-05-10T17:07:59.010Z"
   },
   {
    "duration": 5,
    "start_time": "2025-05-10T17:07:59.060Z"
   },
   {
    "duration": 12,
    "start_time": "2025-05-10T17:07:59.066Z"
   },
   {
    "duration": 9,
    "start_time": "2025-05-10T17:07:59.080Z"
   },
   {
    "duration": 10,
    "start_time": "2025-05-10T17:07:59.091Z"
   },
   {
    "duration": 6,
    "start_time": "2025-05-10T17:07:59.103Z"
   },
   {
    "duration": 41,
    "start_time": "2025-05-10T17:07:59.110Z"
   },
   {
    "duration": 105,
    "start_time": "2025-05-10T17:07:59.152Z"
   },
   {
    "duration": 0,
    "start_time": "2025-05-10T17:07:59.259Z"
   },
   {
    "duration": 4,
    "start_time": "2025-05-10T17:12:04.192Z"
   },
   {
    "duration": 1777,
    "start_time": "2025-05-10T17:12:09.463Z"
   },
   {
    "duration": 171,
    "start_time": "2025-05-10T17:12:22.401Z"
   }
  ],
  "kernelspec": {
   "display_name": "Python 3",
   "language": "python",
   "name": "python3"
  },
  "language_info": {
   "codemirror_mode": {
    "name": "ipython",
    "version": 3
   },
   "file_extension": ".py",
   "mimetype": "text/x-python",
   "name": "python",
   "nbconvert_exporter": "python",
   "pygments_lexer": "ipython3",
   "version": "3.13.1"
  },
  "toc": {
   "base_numbering": 1,
   "nav_menu": {},
   "number_sections": true,
   "sideBar": true,
   "skip_h1_title": true,
   "title_cell": "Table of Contents",
   "title_sidebar": "Contents",
   "toc_cell": false,
   "toc_position": {},
   "toc_section_display": true,
   "toc_window_display": false
  }
 },
 "nbformat": 4,
 "nbformat_minor": 5
}
